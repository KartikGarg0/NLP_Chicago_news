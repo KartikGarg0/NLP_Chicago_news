{
 "cells": [
  {
   "cell_type": "code",
   "execution_count": 1,
   "id": "2474224c",
   "metadata": {},
   "outputs": [
    {
     "name": "stderr",
     "output_type": "stream",
     "text": [
      "C:\\Users\\gargk\\anaconda3\\lib\\site-packages\\numpy\\_distributor_init.py:30: UserWarning: loaded more than 1 DLL from .libs:\n",
      "C:\\Users\\gargk\\anaconda3\\lib\\site-packages\\numpy\\.libs\\libopenblas.EL2C6PLE4ZYW3ECEVIV3OXXGRN2NRFM2.gfortran-win_amd64.dll\n",
      "C:\\Users\\gargk\\anaconda3\\lib\\site-packages\\numpy\\.libs\\libopenblas.XWYDX2IKJW2NMTWSFYNGFUWKQU3LYTCZ.gfortran-win_amd64.dll\n",
      "  warnings.warn(\"loaded more than 1 DLL from .libs:\"\n",
      "C:\\Users\\gargk\\AppData\\Roaming\\Python\\Python38\\site-packages\\cupy\\_environment.py:213: UserWarning: CUDA path could not be detected. Set CUDA_PATH environment variable if CuPy fails to load.\n",
      "  warnings.warn(\n",
      "C:\\Users\\gargk\\AppData\\Roaming\\Python\\Python38\\site-packages\\cupy\\_environment.py:213: UserWarning: CUDA path could not be detected. Set CUDA_PATH environment variable if CuPy fails to load.\n",
      "  warnings.warn(\n",
      "C:\\Users\\gargk\\AppData\\Roaming\\Python\\Python38\\site-packages\\cupy\\_environment.py:213: UserWarning: CUDA path could not be detected. Set CUDA_PATH environment variable if CuPy fails to load.\n",
      "  warnings.warn(\n"
     ]
    }
   ],
   "source": [
    "import pandas as pd\n",
    "import random\n",
    "import time\n",
    "import numpy as np\n",
    "from spacy.util import minibatch, compounding\n",
    "import warnings\n",
    "warnings.filterwarnings(\"ignore\", category=DeprecationWarning)\n",
    "import pandas as pd\n",
    "import spacy \n",
    "from spacy import displacy\n",
    "nlp = spacy.load(\"en_core_web_md\")\n",
    "stopwords = set(STOPWORDS)"
   ]
  },
  {
   "cell_type": "code",
   "execution_count": 2,
   "id": "23a84c8c",
   "metadata": {},
   "outputs": [],
   "source": [
    "df = pd.read_csv(\"text_tokenized.csv\")"
   ]
  },
  {
   "cell_type": "markdown",
   "id": "c445af5e",
   "metadata": {},
   "source": [
    "## Implement spacy NER on sentences"
   ]
  },
  {
   "cell_type": "code",
   "execution_count": 90,
   "id": "7e006a76",
   "metadata": {},
   "outputs": [
    {
     "data": {
      "application/vnd.jupyter.widget-view+json": {
       "model_id": "0080e91729004bea9a7aeb5c3f89cb75",
       "version_major": 2,
       "version_minor": 0
      },
      "text/plain": [
       "  0%|          | 0/4054576 [00:00<?, ?it/s]"
      ]
     },
     "metadata": {},
     "output_type": "display_data"
    },
    {
     "name": "stdout",
     "output_type": "stream",
     "text": [
      "29612.17989897728\n"
     ]
    }
   ],
   "source": [
    "import time\n",
    "from tqdm.notebook import tqdm\n",
    "tqdm.pandas()\n",
    "start = time.time()\n",
    "def all_ents(v):\n",
    "        return [(ent.text, ent.label_) for ent in nlp(v).ents]\n",
    "\n",
    "df['NER'] = df['text_clean'].progress_apply(lambda v: all_ents(v))\n",
    "end = time.time()\n",
    "print(end-start)"
   ]
  },
  {
   "cell_type": "markdown",
   "id": "304989af",
   "metadata": {},
   "source": [
    "Took 8 hours!!!"
   ]
  },
  {
   "cell_type": "code",
   "execution_count": 91,
   "id": "894a183e",
   "metadata": {},
   "outputs": [],
   "source": [
    "df.to_csv(\"ner_text_tokenized.csv\", index = False)"
   ]
  }
 ],
 "metadata": {
  "kernelspec": {
   "display_name": "Python 3 (ipykernel)",
   "language": "python",
   "name": "python3"
  },
  "language_info": {
   "codemirror_mode": {
    "name": "ipython",
    "version": 3
   },
   "file_extension": ".py",
   "mimetype": "text/x-python",
   "name": "python",
   "nbconvert_exporter": "python",
   "pygments_lexer": "ipython3",
   "version": "3.8.13"
  }
 },
 "nbformat": 4,
 "nbformat_minor": 5
}
