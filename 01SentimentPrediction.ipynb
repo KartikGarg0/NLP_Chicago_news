{
 "cells": [
  {
   "cell_type": "code",
   "execution_count": 1,
   "id": "23a84c8c",
   "metadata": {},
   "outputs": [
    {
     "name": "stderr",
     "output_type": "stream",
     "text": [
      "C:\\Users\\gargk\\anaconda3\\lib\\site-packages\\numpy\\_distributor_init.py:30: UserWarning: loaded more than 1 DLL from .libs:\n",
      "C:\\Users\\gargk\\anaconda3\\lib\\site-packages\\numpy\\.libs\\libopenblas.EL2C6PLE4ZYW3ECEVIV3OXXGRN2NRFM2.gfortran-win_amd64.dll\n",
      "C:\\Users\\gargk\\anaconda3\\lib\\site-packages\\numpy\\.libs\\libopenblas.XWYDX2IKJW2NMTWSFYNGFUWKQU3LYTCZ.gfortran-win_amd64.dll\n",
      "  warnings.warn(\"loaded more than 1 DLL from .libs:\"\n"
     ]
    }
   ],
   "source": [
    "from nltk.tokenize import sent_tokenize\n",
    "import pandas as pd\n",
    "import spacy\n",
    "from spacy.lang.en import English\n",
    "import numpy as np\n",
    "from tqdm import tqdm, tqdm_notebook\n",
    "tqdm_notebook().pandas()"
   ]
  },
  {
   "cell_type": "code",
   "execution_count": 3,
   "id": "a6818902",
   "metadata": {},
   "outputs": [
    {
     "data": {
      "text/html": [
       "<div>\n",
       "<style scoped>\n",
       "    .dataframe tbody tr th:only-of-type {\n",
       "        vertical-align: middle;\n",
       "    }\n",
       "\n",
       "    .dataframe tbody tr th {\n",
       "        vertical-align: top;\n",
       "    }\n",
       "\n",
       "    .dataframe thead th {\n",
       "        text-align: right;\n",
       "    }\n",
       "</style>\n",
       "<table border=\"1\" class=\"dataframe\">\n",
       "  <thead>\n",
       "    <tr style=\"text-align: right;\">\n",
       "      <th></th>\n",
       "      <th>date</th>\n",
       "      <th>language</th>\n",
       "      <th>title</th>\n",
       "      <th>text</th>\n",
       "      <th>text_clean</th>\n",
       "      <th>topic</th>\n",
       "    </tr>\n",
       "  </thead>\n",
       "  <tbody>\n",
       "    <tr>\n",
       "      <th>0</th>\n",
       "      <td>2022-01-06</td>\n",
       "      <td>english</td>\n",
       "      <td>No deal, no school: Chicago cancels classes fo...</td>\n",
       "      <td>CHICAGO (AP) — Chicago school leaders canceled...</td>\n",
       "      <td>CHICAGO AP  Chicago school leaders canceled cl...</td>\n",
       "      <td>1</td>\n",
       "    </tr>\n",
       "    <tr>\n",
       "      <th>1</th>\n",
       "      <td>2022-01-06</td>\n",
       "      <td>english</td>\n",
       "      <td>No deal, no school: Chicago cancels classes fo...</td>\n",
       "      <td>CHICAGO (AP) — Chicago school leaders canceled...</td>\n",
       "      <td>CHICAGO AP  Chicago school leaders canceled cl...</td>\n",
       "      <td>1</td>\n",
       "    </tr>\n",
       "    <tr>\n",
       "      <th>2</th>\n",
       "      <td>2022-01-06</td>\n",
       "      <td>english</td>\n",
       "      <td>Watch ‘Chicago P.D.’ Preview Wednesday</td>\n",
       "      <td>Chicago PD 9×11 “Lies” Season 9 Episode 11 Pro...</td>\n",
       "      <td>Chicago PD 911 Lies Season 9 Episode 11 Promo ...</td>\n",
       "      <td>3</td>\n",
       "    </tr>\n",
       "    <tr>\n",
       "      <th>3</th>\n",
       "      <td>2022-01-06</td>\n",
       "      <td>english</td>\n",
       "      <td>Trump’s Solution for Chicago Public Schools? K...</td>\n",
       "      <td>Wise of Foolish?\\nThe Chicago Tribune article ...</td>\n",
       "      <td>Wise of FoolishThe Chicago Tribune article tit...</td>\n",
       "      <td>3</td>\n",
       "    </tr>\n",
       "    <tr>\n",
       "      <th>4</th>\n",
       "      <td>2022-01-06</td>\n",
       "      <td>english</td>\n",
       "      <td>Family, friends, colleagues gathering today at...</td>\n",
       "      <td>The neighbors near Mashawn Plummer’s Portage P...</td>\n",
       "      <td>The neighbors near Mashawn Plummers Portage Pa...</td>\n",
       "      <td>3</td>\n",
       "    </tr>\n",
       "  </tbody>\n",
       "</table>\n",
       "</div>"
      ],
      "text/plain": [
       "         date language                                              title  \\\n",
       "0  2022-01-06  english  No deal, no school: Chicago cancels classes fo...   \n",
       "1  2022-01-06  english  No deal, no school: Chicago cancels classes fo...   \n",
       "2  2022-01-06  english             Watch ‘Chicago P.D.’ Preview Wednesday   \n",
       "3  2022-01-06  english  Trump’s Solution for Chicago Public Schools? K...   \n",
       "4  2022-01-06  english  Family, friends, colleagues gathering today at...   \n",
       "\n",
       "                                                text  \\\n",
       "0  CHICAGO (AP) — Chicago school leaders canceled...   \n",
       "1  CHICAGO (AP) — Chicago school leaders canceled...   \n",
       "2  Chicago PD 9×11 “Lies” Season 9 Episode 11 Pro...   \n",
       "3  Wise of Foolish?\\nThe Chicago Tribune article ...   \n",
       "4  The neighbors near Mashawn Plummer’s Portage P...   \n",
       "\n",
       "                                          text_clean  topic  \n",
       "0  CHICAGO AP  Chicago school leaders canceled cl...      1  \n",
       "1  CHICAGO AP  Chicago school leaders canceled cl...      1  \n",
       "2  Chicago PD 911 Lies Season 9 Episode 11 Promo ...      3  \n",
       "3  Wise of FoolishThe Chicago Tribune article tit...      3  \n",
       "4  The neighbors near Mashawn Plummers Portage Pa...      3  "
      ]
     },
     "execution_count": 3,
     "metadata": {},
     "output_type": "execute_result"
    }
   ],
   "source": [
    "df = pd.read_csv(\"news_final_project_with_topics.csv\")\n",
    "\n",
    "df.head()"
   ]
  },
  {
   "cell_type": "markdown",
   "id": "6ef3756d",
   "metadata": {},
   "source": [
    "## Perprocessing\n",
    "\n",
    "Removing website related text"
   ]
  },
  {
   "cell_type": "code",
   "execution_count": 92,
   "id": "d0d5919a",
   "metadata": {},
   "outputs": [],
   "source": [
    "df['text_clean'] = df['text_clean'].replace(r'http\\S+', '', regex=True).replace(r'www\\S+', '', regex=True)\n"
   ]
  },
  {
   "cell_type": "code",
   "execution_count": 96,
   "id": "110f1851",
   "metadata": {},
   "outputs": [
    {
     "data": {
      "text/plain": [
       "'LAWRENCEVILLE, Ill.  An Illinois man has been sentenced to 30 years in prison for solicitation of child pornography and aggravated criminal sexual abuse , Attorney General Kwame Raoul announced Tuesday.An investigation into Glen. E. Howder, Jr., 59, of Lawrenceville, began in September 2017 after a minor victim came forward to law enforcement about the ongoing abuse.DOWNLOAD THE FOX 32 CHICAGO APP FOR BREAKING NEWS ALERTSOfficers searched Howders home and seized various electronic devices, officials said. After examining the devices, charges were filed against Howder.Individuals who exploit and abuse children need to be held accountable for their horrific actions, Raoul said in a statement.AdvertisementHowder faces additional pending charges in Edwards County for possession of child pornography.'"
      ]
     },
     "execution_count": 96,
     "metadata": {},
     "output_type": "execute_result"
    }
   ],
   "source": [
    "df.loc[df['topic'] == 6, 'text_clean'][546]"
   ]
  },
  {
   "cell_type": "markdown",
   "id": "b827e08a",
   "metadata": {},
   "source": [
    "### Converting text to sentences"
   ]
  },
  {
   "cell_type": "code",
   "execution_count": 101,
   "id": "6bb28fd1",
   "metadata": {},
   "outputs": [
    {
     "name": "stdout",
     "output_type": "stream",
     "text": [
      "CPU times: total: 0 ns\n",
      "Wall time: 0 ns\n"
     ]
    },
    {
     "data": {
      "text/plain": [
       "159       [Chicago PD S09E10 720p WEB H264DEXTEROUSFeel free to post any comments about Chicago PD S09E10 720p WEB H264DEXTEROUS, including links to downloads, samples, screenshots, information, or any other relevant information., Please note that anything you download from here, you do so at your own risk., Remember if you see , this means they are trusted commentors Chicago., PD.S09E10.480p.x264mSD  Chicago PD S09E10 720p WEB H264DEXTEROUS  Chicago PD S09E10 1080p WEB H264DEXTEROUS  Chicago., PD.S09E10.720p., HEVC.x265MeGusta   2.75 GB  1.47 GB Pd S09E10 720p Web H264 dexterous mkvsize: 1,47 GBDropapk: Pd S09E10 Web H264 RBB mp4size: 318,40 MBDropapk: Pd S09E10 Xvid AFG avisize: 396,08 MBDropapk: Pd S09E10 Web X264 TGX mkvsize: 289,25 MBDropapk: Pd S09E10 480p X264 mSD mkvsize: 303,57 MBDropapk: Pd S09E10 720p Hevc X265 MeGusta mkvsize: 360,99 MBDropapk: : 303.57 MB : 360.99 MB : 1.47 GB : 2...\n",
       "546                                                                                        [LAWRENCEVILLE, Ill.  An Illinois man has been sentenced to 30 years in prison for solicitation of child pornography and aggravated criminal sexual abuse , Attorney General Kwame Raoul announced Tuesday., An investigation into Glen., E. Howder, Jr., 59, of Lawrenceville, began in September 2017 after a minor victim came forward to law enforcement about the ongoing abuse., DOWNLOAD THE FOX 32 CHICAGO APP FOR BREAKING NEWS ALERTSOfficers searched Howders home and seized various electronic devices, officials said., After examining the devices, charges were filed against Howder., Individuals who exploit and abuse children need to be held accountable for their horrific actions, Raoul said in a statement., AdvertisementHowder faces additional pending charges in Edwards County for possession of child pornography.]\n",
       "656       [URBANA, Ill.  An eastern Illinois man was sentenced to more than eight years in federal prison on Monday for money laundering and other charges tied to an intricate scam involving stolen identities., According to court documents, Jeffery Henson of Danville, Illinois obtained highpaying jobs using stolen identities., This prevented employers from ever learning of Hensons prior convictions for theft and computer fraud., In 2016, Henson pretended to be an online job recruiter to steal an identity., He used that persons identity to land a job as a directing of accounting at a consulting firm in Schaumburg, Illinois., He would establish fake companies with names similar to legitimate companies and used his position to forge company checks and directed funds to those phony businesses hed previously set up., After defrauding the company of millions of dollars, Henson skipped town went to D...\n",
       "820       [AG Raoul asks Illinois Supreme Court to order Adams County judge to impose a lawful sentence in an Adams County sexual assault caseThursday, Feb 10, 2022 Background from the Independent In the disturbing case of an Illinois teen allowed to walk free after being convicted of rape, all eyes have turned on the judge., Adams County Judge Robert Adrian sparked nationwide outrage with his ruling on the case of 18yearold Drew Clinton, who was found was found guilty of raping a 16yearold girl at a graduation party in May 2021.Clinton pleaded guilty to all charges against him and his defence claimed he believed the sex was consensual., But despite the October conviction for felony sexual assault, Judge Adrian on 3 January freed Clinton  who faced a minimum sentence of four years  from jail after a mere 148 days, saying that was plenty of punishment., Judge Adrian has subsequently faced heate...\n",
       "839                                                                                                                                                                                                                                                                                                                                                                                                                                                                                                                                                                                                                                                                                                                                                                                                                                                                                                                  [Is it a trap or winner]\n",
       "                                                                                                                                                                                                                                                                                                                                                                                                                                                                         ...                                                                                                                                                                                                                                                                                                                                                                                                                                                                 \n",
       "199639                                                                                                                                                                                                                                                                                                                                                                                                                                                                                                                                                                                                                               [IRS No.:, 000000000  State of Incorp.:, X1  Fiscal Year End: 1231Type: 8K  Act: 34  File No.:, 00051401cgibinbrowseedgarfilenum00051401actiongetcompany  Film No.:, 22637476SIC: 6111cgibinbrowseedgaractiongetcompanySIC6111ownerinclude Federal  FederallySponsored Credit AgenciesOffice of Finance]\n",
       "199645    [A man who led Dubuque police on a highspeed chase that ended with his car on its hood and his gun, heroin, fentanyl and cocaine in the snow was sentenced March 17, 2022, to four years in federal prison., Richard Allen Roberts, age 39, from Chicago, Illinois, received the prison term after September 27, 2021 guilty pleas to one count of distributing crack near a playground and one count of being a felon in possession of a firearm., In a plea agreement, Roberts admitted that he sold about a half gram of crack cocaine to a confidential informant near Jefferson Park in Dubuque on January 26, 2021., About a week later, police tracked Robertss car from Dubuque to Chicago., When he returned to Iowa on February 5, 2021, officers stopped the car after it crossed the bridge into Dubuque from Wisconsin., A narcotics K9 alerted to the odor of narcotics coming from Robertss vehicle., After an of...\n",
       "199646    [Credit: PixabayCC0 Public DomainMore than a year after a landmark 650 million Facebook privacy settlement was approved, checks for 397 each may finally be arriving for nearly 1.6 million Illinois users of the social media platform., The U.S. Court of Appeals for the 9th Circuit in Hawaii issued a ruling Thursday upholding the classaction settlement over Facebooks alleged violations of Illinois biometric privacy law., Barring further appeal, the money will go to Illinois class members within 60 days, according to Chicago attorney Jay Edelson, who filed the lawsuit against Facebook nearly seven years ago., Were gratified that the 9th Circuit rejected the frivolous appeal by a couple of objectors, Edelson said Thursday., We expect that their efforts to hold up the settlement are now over and Illinoisans will get the benefit of this historic settlement., In February 2021, a California f...\n",
       "199777                                                                                                                                                                                                                                                                                                                                                                                                                                                                                                                                                                                                                                                                                                                                                                                                                                                                                    [Shots fired, 3 rounds heard at 8200 S Exchange. .]\n",
       "200045    [On April 14, 2022, the Seventh Circuit affirmed the entry of summary judgment on claims under the Illinois Whistleblower Act and Illinois Jury Act, concluding that the plaintiff was not terminated for engaging in protected activity., The case is Perez v. Staples Contract  Commercial LLC , No., 21cv2601.BackgroundPlaintiff, a sales representative, was placed on an associate success plan the Plan in March 2016, after his performance continued to fall below expectations., In May 2016, after the Plan had commenced, plaintiff was summoned for jury duty in Illinois state court., Separately, in early 2016, Plaintiff allegedly refused to participate in the sale of a laundry detergent product to a client based in New York after learning that the sale of the particular detergent was prohibited under New York law due to its chemical makeup., The sale of the product was not prohibited under Ill...\n",
       "Name: text_clean, Length: 2555, dtype: object"
      ]
     },
     "execution_count": 101,
     "metadata": {},
     "output_type": "execute_result"
    }
   ],
   "source": [
    "\n",
    "\n",
    "nlp = English()  # just the language with no model\n",
    "sentencizer = nlp.create_pipe(\"sentencizer\")\n",
    "nlp.add_pipe('sentencizer')\n",
    "\n",
    "\n",
    "%time\n",
    "# # SpaCy with sentencizer\n",
    "df.loc[df['topic'] == 6, 'text_clean'].apply(lambda x: [sent.text for sent in nlp(x).sents])"
   ]
  },
  {
   "cell_type": "code",
   "execution_count": 105,
   "id": "54bc7701",
   "metadata": {},
   "outputs": [],
   "source": [
    "df1 = df[['date', 'text_clean', 'topic']]\n",
    "\n",
    "del df"
   ]
  },
  {
   "cell_type": "markdown",
   "id": "c3bba06a",
   "metadata": {},
   "source": [
    "### Loading spacy en_core_web_sm model to convert text to sentences"
   ]
  },
  {
   "cell_type": "code",
   "execution_count": 114,
   "id": "2938325d",
   "metadata": {},
   "outputs": [],
   "source": [
    "nlp = spacy.load(\"en_core_web_sm\")\n",
    "df1[\"text_clean\"] = df1[\"text_clean\"].astype(str).apply(lambda x: [sent.text for sent in nlp(x).sents])\n",
    "df1 = df1.explode(\"text_clean\", ignore_index=True)"
   ]
  },
  {
   "cell_type": "code",
   "execution_count": 117,
   "id": "c0f0313e",
   "metadata": {},
   "outputs": [
    {
     "data": {
      "text/html": [
       "<div>\n",
       "<style scoped>\n",
       "    .dataframe tbody tr th:only-of-type {\n",
       "        vertical-align: middle;\n",
       "    }\n",
       "\n",
       "    .dataframe tbody tr th {\n",
       "        vertical-align: top;\n",
       "    }\n",
       "\n",
       "    .dataframe thead th {\n",
       "        text-align: right;\n",
       "    }\n",
       "</style>\n",
       "<table border=\"1\" class=\"dataframe\">\n",
       "  <thead>\n",
       "    <tr style=\"text-align: right;\">\n",
       "      <th></th>\n",
       "      <th>date</th>\n",
       "      <th>text_clean</th>\n",
       "      <th>topic</th>\n",
       "    </tr>\n",
       "  </thead>\n",
       "  <tbody>\n",
       "    <tr>\n",
       "      <th>0</th>\n",
       "      <td>2022-01-06</td>\n",
       "      <td>CHICAGO AP  Chicago school leaders canceled classes Thursday for a second consecutive day after failing to reach agreement with the teachers union over COVID19 safety protocols in the nations thirdlargest school district.</td>\n",
       "      <td>1</td>\n",
       "    </tr>\n",
       "    <tr>\n",
       "      <th>1</th>\n",
       "      <td>2022-01-06</td>\n",
       "      <td>The Chicago Teachers Union sought to revert to remote instruction during the latest surge of infections and while both sides hammer out a deal.</td>\n",
       "      <td>1</td>\n",
       "    </tr>\n",
       "    <tr>\n",
       "      <th>2</th>\n",
       "      <td>2022-01-06</td>\n",
       "      <td>But Chicago Public Schools leaders have said remote learning didnt work and schools can safely remain open with protocols in place.</td>\n",
       "      <td>1</td>\n",
       "    </tr>\n",
       "    <tr>\n",
       "      <th>3</th>\n",
       "      <td>2022-01-06</td>\n",
       "      <td>The move to cancel classes and activities Thursday affects roughly 350,000 students and came after closeddoor negotiations Wednesday failed to produce a deal.</td>\n",
       "      <td>1</td>\n",
       "    </tr>\n",
       "    <tr>\n",
       "      <th>4</th>\n",
       "      <td>2022-01-06</td>\n",
       "      <td>The issues include metrics for closing schools.</td>\n",
       "      <td>1</td>\n",
       "    </tr>\n",
       "  </tbody>\n",
       "</table>\n",
       "</div>"
      ],
      "text/plain": [
       "         date  \\\n",
       "0  2022-01-06   \n",
       "1  2022-01-06   \n",
       "2  2022-01-06   \n",
       "3  2022-01-06   \n",
       "4  2022-01-06   \n",
       "\n",
       "                                                                                                                                                                                                                      text_clean  \\\n",
       "0  CHICAGO AP  Chicago school leaders canceled classes Thursday for a second consecutive day after failing to reach agreement with the teachers union over COVID19 safety protocols in the nations thirdlargest school district.   \n",
       "1                                                                                The Chicago Teachers Union sought to revert to remote instruction during the latest surge of infections and while both sides hammer out a deal.   \n",
       "2                                                                                            But Chicago Public Schools leaders have said remote learning didnt work and schools can safely remain open with protocols in place.   \n",
       "3                                                                 The move to cancel classes and activities Thursday affects roughly 350,000 students and came after closeddoor negotiations Wednesday failed to produce a deal.   \n",
       "4                                                                                                                                                                                The issues include metrics for closing schools.   \n",
       "\n",
       "   topic  \n",
       "0      1  \n",
       "1      1  \n",
       "2      1  \n",
       "3      1  \n",
       "4      1  "
      ]
     },
     "execution_count": 117,
     "metadata": {},
     "output_type": "execute_result"
    }
   ],
   "source": [
    "df1.head()"
   ]
  },
  {
   "cell_type": "code",
   "execution_count": 120,
   "id": "81daea54",
   "metadata": {},
   "outputs": [
    {
     "data": {
      "text/plain": [
       "(4531961, 3)"
      ]
     },
     "execution_count": 120,
     "metadata": {},
     "output_type": "execute_result"
    }
   ],
   "source": [
    "df1.shape"
   ]
  },
  {
   "cell_type": "markdown",
   "id": "f1631fde",
   "metadata": {},
   "source": [
    "Dropping na and texts less than length 30 as we cannot get sentiments for those"
   ]
  },
  {
   "cell_type": "code",
   "execution_count": 182,
   "id": "dd5890e0",
   "metadata": {},
   "outputs": [],
   "source": [
    "df1['text_clean'].dropna(inplace=True)\n",
    "\n",
    "df1 = df1[~(df1.text_clean.str.len() <=30)]"
   ]
  },
  {
   "cell_type": "markdown",
   "id": "01064dc4",
   "metadata": {},
   "source": [
    "## Loading yelp trained model"
   ]
  },
  {
   "cell_type": "code",
   "execution_count": 3,
   "id": "24252023",
   "metadata": {
    "scrolled": true
   },
   "outputs": [
    {
     "name": "stdout",
     "output_type": "stream",
     "text": [
      "CPU times: total: 31.5 s\n",
      "Wall time: 31.7 s\n"
     ]
    }
   ],
   "source": [
    "%time clf_large = load(\"/home/jupyter/data/yelp/yelp_model/logreg.joblib\")"
   ]
  },
  {
   "cell_type": "markdown",
   "id": "07891495",
   "metadata": {},
   "source": [
    "Using yelp model to predict sentiment on text"
   ]
  },
  {
   "cell_type": "code",
   "execution_count": 206,
   "id": "f4366bf8",
   "metadata": {
    "scrolled": true
   },
   "outputs": [
    {
     "name": "stderr",
     "output_type": "stream",
     "text": [
      "C:\\Users\\gargk\\AppData\\Local\\Temp\\ipykernel_37484\\392814080.py:2: TqdmDeprecationWarning: This function will be removed in tqdm==5.0.0\n",
      "Please use `tqdm.notebook.tqdm` instead of `tqdm.tqdm_notebook`\n",
      "  tqdm_notebook().pandas()\n"
     ]
    },
    {
     "data": {
      "application/vnd.jupyter.widget-view+json": {
       "model_id": "2b7c155d6cd14a36ac99bad6419225e6",
       "version_major": 2,
       "version_minor": 0
      },
      "text/plain": [
       "0it [00:00, ?it/s]"
      ]
     },
     "metadata": {},
     "output_type": "display_data"
    },
    {
     "data": {
      "application/vnd.jupyter.widget-view+json": {
       "model_id": "e5e49e72ea3343908586ba32fcded2ba",
       "version_major": 2,
       "version_minor": 0
      },
      "text/plain": [
       "  0%|          | 0/4054659 [00:00<?, ?it/s]"
      ]
     },
     "metadata": {},
     "output_type": "display_data"
    },
    {
     "name": "stderr",
     "output_type": "stream",
     "text": [
      "C:\\Users\\gargk\\AppData\\Local\\Temp\\ipykernel_37484\\392814080.py:13: SettingWithCopyWarning: \n",
      "A value is trying to be set on a copy of a slice from a DataFrame.\n",
      "Try using .loc[row_indexer,col_indexer] = value instead\n",
      "\n",
      "See the caveats in the documentation: https://pandas.pydata.org/pandas-docs/stable/user_guide/indexing.html#returning-a-view-versus-a-copy\n",
      "  df1['sentiments'] = df1.progress_apply(lambda x: apply_sentiments(x[\"text_clean\"]),axis=1)\n"
     ]
    }
   ],
   "source": [
    "\n",
    "def apply_sentiments(content):\n",
    "    try:\n",
    "        y_pred = clf_large.predict([content])\n",
    "        y_pred_class = np.where(y_pred < 1, 'Negative', 'Positive')\n",
    "        y_pred_prob = clf_large.predict_proba([content])\n",
    "        return y_pred_class[0], y_pred_prob[0][0], y_pred_prob[0][1]\n",
    "    except:\n",
    "        return np.nan\n",
    "    \n",
    "df1['sentiments'] = df1.progress_apply(lambda x: apply_sentiments(x[\"text_clean\"]),axis=1)"
   ]
  },
  {
   "cell_type": "code",
   "execution_count": 207,
   "id": "f12d2a95",
   "metadata": {
    "scrolled": true
   },
   "outputs": [
    {
     "data": {
      "text/html": [
       "<div>\n",
       "<style scoped>\n",
       "    .dataframe tbody tr th:only-of-type {\n",
       "        vertical-align: middle;\n",
       "    }\n",
       "\n",
       "    .dataframe tbody tr th {\n",
       "        vertical-align: top;\n",
       "    }\n",
       "\n",
       "    .dataframe thead th {\n",
       "        text-align: right;\n",
       "    }\n",
       "</style>\n",
       "<table border=\"1\" class=\"dataframe\">\n",
       "  <thead>\n",
       "    <tr style=\"text-align: right;\">\n",
       "      <th></th>\n",
       "      <th>date</th>\n",
       "      <th>text_clean</th>\n",
       "      <th>topic</th>\n",
       "      <th>sentiments</th>\n",
       "    </tr>\n",
       "  </thead>\n",
       "  <tbody>\n",
       "    <tr>\n",
       "      <th>0</th>\n",
       "      <td>2022-01-06</td>\n",
       "      <td>CHICAGO AP  Chicago school leaders canceled classes Thursday for a second consecutive day after failing to reach agreement with the teachers union over COVID19 safety protocols in the nations thirdlargest school district.</td>\n",
       "      <td>1</td>\n",
       "      <td>(Negative, 0.8961695106614529, 0.10383048933854715)</td>\n",
       "    </tr>\n",
       "    <tr>\n",
       "      <th>1</th>\n",
       "      <td>2022-01-06</td>\n",
       "      <td>The Chicago Teachers Union sought to revert to remote instruction during the latest surge of infections and while both sides hammer out a deal.</td>\n",
       "      <td>1</td>\n",
       "      <td>(Positive, 0.4675166632374851, 0.5324833367625149)</td>\n",
       "    </tr>\n",
       "    <tr>\n",
       "      <th>2</th>\n",
       "      <td>2022-01-06</td>\n",
       "      <td>But Chicago Public Schools leaders have said remote learning didnt work and schools can safely remain open with protocols in place.</td>\n",
       "      <td>1</td>\n",
       "      <td>(Negative, 0.7853307303079926, 0.21466926969200734)</td>\n",
       "    </tr>\n",
       "    <tr>\n",
       "      <th>3</th>\n",
       "      <td>2022-01-06</td>\n",
       "      <td>The move to cancel classes and activities Thursday affects roughly 350,000 students and came after closeddoor negotiations Wednesday failed to produce a deal.</td>\n",
       "      <td>1</td>\n",
       "      <td>(Negative, 0.9643950816841969, 0.03560491831580317)</td>\n",
       "    </tr>\n",
       "    <tr>\n",
       "      <th>4</th>\n",
       "      <td>2022-01-06</td>\n",
       "      <td>The issues include metrics for closing schools.</td>\n",
       "      <td>1</td>\n",
       "      <td>(Negative, 0.6093631112708314, 0.3906368887291686)</td>\n",
       "    </tr>\n",
       "  </tbody>\n",
       "</table>\n",
       "</div>"
      ],
      "text/plain": [
       "         date  \\\n",
       "0  2022-01-06   \n",
       "1  2022-01-06   \n",
       "2  2022-01-06   \n",
       "3  2022-01-06   \n",
       "4  2022-01-06   \n",
       "\n",
       "                                                                                                                                                                                                                      text_clean  \\\n",
       "0  CHICAGO AP  Chicago school leaders canceled classes Thursday for a second consecutive day after failing to reach agreement with the teachers union over COVID19 safety protocols in the nations thirdlargest school district.   \n",
       "1                                                                                The Chicago Teachers Union sought to revert to remote instruction during the latest surge of infections and while both sides hammer out a deal.   \n",
       "2                                                                                            But Chicago Public Schools leaders have said remote learning didnt work and schools can safely remain open with protocols in place.   \n",
       "3                                                                 The move to cancel classes and activities Thursday affects roughly 350,000 students and came after closeddoor negotiations Wednesday failed to produce a deal.   \n",
       "4                                                                                                                                                                                The issues include metrics for closing schools.   \n",
       "\n",
       "   topic                                           sentiments  \n",
       "0      1  (Negative, 0.8961695106614529, 0.10383048933854715)  \n",
       "1      1   (Positive, 0.4675166632374851, 0.5324833367625149)  \n",
       "2      1  (Negative, 0.7853307303079926, 0.21466926969200734)  \n",
       "3      1  (Negative, 0.9643950816841969, 0.03560491831580317)  \n",
       "4      1   (Negative, 0.6093631112708314, 0.3906368887291686)  "
      ]
     },
     "execution_count": 207,
     "metadata": {},
     "output_type": "execute_result"
    }
   ],
   "source": [
    "df1.head()"
   ]
  },
  {
   "cell_type": "markdown",
   "id": "2876f899",
   "metadata": {},
   "source": [
    "Dropping missing sentiment rows and saving the dataframe"
   ]
  },
  {
   "cell_type": "code",
   "execution_count": 228,
   "id": "1bc15aab",
   "metadata": {},
   "outputs": [],
   "source": [
    "df1 = df1[~(df1.sentiments.isna())]\n",
    "df1.reset_index(inplace = True)\n",
    "df1[['sentiment', 'proba_neg', 'proba_pos']] = pd.DataFrame(df1['sentiments'].tolist())\n",
    "df1.drop(['index','sentiments'], axis = 1, inplace = True)"
   ]
  },
  {
   "cell_type": "code",
   "execution_count": 239,
   "id": "cc55f3dd",
   "metadata": {},
   "outputs": [
    {
     "data": {
      "text/html": [
       "<div>\n",
       "<style scoped>\n",
       "    .dataframe tbody tr th:only-of-type {\n",
       "        vertical-align: middle;\n",
       "    }\n",
       "\n",
       "    .dataframe tbody tr th {\n",
       "        vertical-align: top;\n",
       "    }\n",
       "\n",
       "    .dataframe thead th {\n",
       "        text-align: right;\n",
       "    }\n",
       "</style>\n",
       "<table border=\"1\" class=\"dataframe\">\n",
       "  <thead>\n",
       "    <tr style=\"text-align: right;\">\n",
       "      <th></th>\n",
       "      <th>date</th>\n",
       "      <th>text_clean</th>\n",
       "      <th>topic</th>\n",
       "      <th>sentiment</th>\n",
       "      <th>proba_neg</th>\n",
       "      <th>proba_pos</th>\n",
       "    </tr>\n",
       "  </thead>\n",
       "  <tbody>\n",
       "    <tr>\n",
       "      <th>0</th>\n",
       "      <td>2022-01-06</td>\n",
       "      <td>CHICAGO AP  Chicago school leaders canceled classes Thursday for a second consecutive day after failing to reach agreement with the teachers union over COVID19 safety protocols in the nations thirdlargest school district.</td>\n",
       "      <td>1</td>\n",
       "      <td>Negative</td>\n",
       "      <td>0.896170</td>\n",
       "      <td>0.103830</td>\n",
       "    </tr>\n",
       "    <tr>\n",
       "      <th>1</th>\n",
       "      <td>2022-01-06</td>\n",
       "      <td>The Chicago Teachers Union sought to revert to remote instruction during the latest surge of infections and while both sides hammer out a deal.</td>\n",
       "      <td>1</td>\n",
       "      <td>Positive</td>\n",
       "      <td>0.467517</td>\n",
       "      <td>0.532483</td>\n",
       "    </tr>\n",
       "    <tr>\n",
       "      <th>2</th>\n",
       "      <td>2022-01-06</td>\n",
       "      <td>But Chicago Public Schools leaders have said remote learning didnt work and schools can safely remain open with protocols in place.</td>\n",
       "      <td>1</td>\n",
       "      <td>Negative</td>\n",
       "      <td>0.785331</td>\n",
       "      <td>0.214669</td>\n",
       "    </tr>\n",
       "    <tr>\n",
       "      <th>3</th>\n",
       "      <td>2022-01-06</td>\n",
       "      <td>The move to cancel classes and activities Thursday affects roughly 350,000 students and came after closeddoor negotiations Wednesday failed to produce a deal.</td>\n",
       "      <td>1</td>\n",
       "      <td>Negative</td>\n",
       "      <td>0.964395</td>\n",
       "      <td>0.035605</td>\n",
       "    </tr>\n",
       "    <tr>\n",
       "      <th>4</th>\n",
       "      <td>2022-01-06</td>\n",
       "      <td>The issues include metrics for closing schools.</td>\n",
       "      <td>1</td>\n",
       "      <td>Negative</td>\n",
       "      <td>0.609363</td>\n",
       "      <td>0.390637</td>\n",
       "    </tr>\n",
       "  </tbody>\n",
       "</table>\n",
       "</div>"
      ],
      "text/plain": [
       "         date  \\\n",
       "0  2022-01-06   \n",
       "1  2022-01-06   \n",
       "2  2022-01-06   \n",
       "3  2022-01-06   \n",
       "4  2022-01-06   \n",
       "\n",
       "                                                                                                                                                                                                                      text_clean  \\\n",
       "0  CHICAGO AP  Chicago school leaders canceled classes Thursday for a second consecutive day after failing to reach agreement with the teachers union over COVID19 safety protocols in the nations thirdlargest school district.   \n",
       "1                                                                                The Chicago Teachers Union sought to revert to remote instruction during the latest surge of infections and while both sides hammer out a deal.   \n",
       "2                                                                                            But Chicago Public Schools leaders have said remote learning didnt work and schools can safely remain open with protocols in place.   \n",
       "3                                                                 The move to cancel classes and activities Thursday affects roughly 350,000 students and came after closeddoor negotiations Wednesday failed to produce a deal.   \n",
       "4                                                                                                                                                                                The issues include metrics for closing schools.   \n",
       "\n",
       "   topic sentiment  proba_neg  proba_pos  \n",
       "0      1  Negative   0.896170   0.103830  \n",
       "1      1  Positive   0.467517   0.532483  \n",
       "2      1  Negative   0.785331   0.214669  \n",
       "3      1  Negative   0.964395   0.035605  \n",
       "4      1  Negative   0.609363   0.390637  "
      ]
     },
     "execution_count": 239,
     "metadata": {},
     "output_type": "execute_result"
    }
   ],
   "source": [
    "df1.head()"
   ]
  },
  {
   "cell_type": "code",
   "execution_count": 240,
   "id": "678fcb74",
   "metadata": {},
   "outputs": [],
   "source": [
    "df1.to_csv(\"text_tokenized.csv\")"
   ]
  },
  {
   "cell_type": "markdown",
   "id": "87363bd3",
   "metadata": {},
   "source": [
    "## Visualize results"
   ]
  },
  {
   "cell_type": "code",
   "execution_count": 63,
   "id": "134debfc",
   "metadata": {},
   "outputs": [],
   "source": [
    "text_clean = df.loc[df['topic'] == 5, 'text_clean'].str.cat(sep='. ')\n",
    "content = sent_tokenize(text_clean)"
   ]
  },
  {
   "cell_type": "code",
   "execution_count": 64,
   "id": "00a4923d",
   "metadata": {},
   "outputs": [
    {
     "name": "stdout",
     "output_type": "stream",
     "text": [
      "Text: Not known Facts About near me roofing contractor Chicago ILTerminate or modify appointment at any time By clicking Confirm Appointment, you affirm youve examine and agree to the HomeAdvisor Conditions  Conditions, and also you concur and authorize HomeAdvisor and its affiliate marketers, and their networks of Service Professionals, to provide advertising phone calls or texts employing automated technological innovation for the amount you offered above about your job together with other property companies provides.     \n",
      "Sentiment: Negative     \n",
      "Probability Negative: = 0.9932701468071302    \n",
      "Probability Positive = 0.0067298531928697445    \n",
      "\n",
      "\n"
     ]
    }
   ],
   "source": [
    "y_pred = clf_large.predict(content)\n",
    "y_pred_class = np.where(y_pred < 1, 'Negative', 'Positive')\n",
    "y_pred_prob = clf_large.predict_proba(content)\n",
    "\n",
    "print(f'Text: {content[0]} \\\n",
    "    \\nSentiment: {y_pred_class[0]} \\\n",
    "    \\nProbability Negative: = {y_pred_prob[0][0]}\\\n",
    "    \\nProbability Positive = {y_pred_prob[0][1]}\\\n",
    "    \\n\\n')"
   ]
  }
 ],
 "metadata": {
  "kernelspec": {
   "display_name": "Python 3 (ipykernel)",
   "language": "python",
   "name": "python3"
  },
  "language_info": {
   "codemirror_mode": {
    "name": "ipython",
    "version": 3
   },
   "file_extension": ".py",
   "mimetype": "text/x-python",
   "name": "python",
   "nbconvert_exporter": "python",
   "pygments_lexer": "ipython3",
   "version": "3.8.13"
  }
 },
 "nbformat": 4,
 "nbformat_minor": 5
}
