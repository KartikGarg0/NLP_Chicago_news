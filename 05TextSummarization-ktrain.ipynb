{
 "cells": [
  {
   "cell_type": "code",
   "execution_count": 3,
   "id": "2474224c",
   "metadata": {},
   "outputs": [
    {
     "name": "stderr",
     "output_type": "stream",
     "text": [
      "C:\\Users\\gargk\\anaconda3\\lib\\site-packages\\numpy\\_distributor_init.py:30: UserWarning: loaded more than 1 DLL from .libs:\n",
      "C:\\Users\\gargk\\anaconda3\\lib\\site-packages\\numpy\\.libs\\libopenblas.EL2C6PLE4ZYW3ECEVIV3OXXGRN2NRFM2.gfortran-win_amd64.dll\n",
      "C:\\Users\\gargk\\anaconda3\\lib\\site-packages\\numpy\\.libs\\libopenblas.XWYDX2IKJW2NMTWSFYNGFUWKQU3LYTCZ.gfortran-win_amd64.dll\n",
      "  warnings.warn(\"loaded more than 1 DLL from .libs:\"\n",
      "C:\\Users\\gargk\\AppData\\Roaming\\Python\\Python38\\site-packages\\cupy\\_environment.py:213: UserWarning: CUDA path could not be detected. Set CUDA_PATH environment variable if CuPy fails to load.\n",
      "  warnings.warn(\n",
      "C:\\Users\\gargk\\AppData\\Roaming\\Python\\Python38\\site-packages\\cupy\\_environment.py:213: UserWarning: CUDA path could not be detected. Set CUDA_PATH environment variable if CuPy fails to load.\n",
      "  warnings.warn(\n",
      "C:\\Users\\gargk\\AppData\\Roaming\\Python\\Python38\\site-packages\\cupy\\_environment.py:213: UserWarning: CUDA path could not be detected. Set CUDA_PATH environment variable if CuPy fails to load.\n",
      "  warnings.warn(\n"
     ]
    }
   ],
   "source": [
    "import pandas as pd\n",
    "import numpy as np\n",
    "from spacy.util import minibatch, compounding\n",
    "import warnings\n",
    "warnings.filterwarnings(\"ignore\", category=DeprecationWarning)\n",
    "import os\n",
    "import sys\n",
    "import pandas as pd\n",
    "import re\n",
    "import tensorflow as tf\n",
    "print('Python Version: ' + sys.version)\n",
    "print('TensorFlow Version: ' + tf.__version__)\n",
    "import ktrain\n",
    "from ktrain import text\n",
    "ts = text.TransformerSummarizer()\n",
    "\n",
    "print('Ktrain Version: ' + ktrain.__version__)"
   ]
  },
  {
   "cell_type": "markdown",
   "id": "9ebcbf5d",
   "metadata": {},
   "source": [
    "## Read ner tokenized data"
   ]
  },
  {
   "cell_type": "code",
   "execution_count": 4,
   "id": "23a84c8c",
   "metadata": {},
   "outputs": [],
   "source": [
    "df = pd.read_csv(\"ner_text_tokenized.csv\")"
   ]
  },
  {
   "cell_type": "code",
   "execution_count": 6,
   "id": "1f137cab",
   "metadata": {},
   "outputs": [
    {
     "data": {
      "text/plain": [
       "(4054576, 7)"
      ]
     },
     "execution_count": 6,
     "metadata": {},
     "output_type": "execute_result"
    }
   ],
   "source": [
    "df.shape"
   ]
  },
  {
   "cell_type": "markdown",
   "id": "540012dd",
   "metadata": {},
   "source": [
    "### Preprocessing\n",
    "\n",
    "Dropping nan, empty NER and dropping duplicate text."
   ]
  },
  {
   "cell_type": "code",
   "execution_count": 7,
   "id": "edfa8623",
   "metadata": {},
   "outputs": [],
   "source": [
    "df = df[~((df['NER'].isna()) | (df['NER'].astype(str)=='[]'))].drop_duplicates()"
   ]
  },
  {
   "cell_type": "code",
   "execution_count": 8,
   "id": "21f551b5",
   "metadata": {},
   "outputs": [
    {
     "data": {
      "text/plain": [
       "(2153447, 7)"
      ]
     },
     "execution_count": 8,
     "metadata": {},
     "output_type": "execute_result"
    }
   ],
   "source": [
    "df.shape"
   ]
  },
  {
   "cell_type": "code",
   "execution_count": 9,
   "id": "a677fe61",
   "metadata": {
    "scrolled": true
   },
   "outputs": [
    {
     "data": {
      "text/html": [
       "<div>\n",
       "<style scoped>\n",
       "    .dataframe tbody tr th:only-of-type {\n",
       "        vertical-align: middle;\n",
       "    }\n",
       "\n",
       "    .dataframe tbody tr th {\n",
       "        vertical-align: top;\n",
       "    }\n",
       "\n",
       "    .dataframe thead th {\n",
       "        text-align: right;\n",
       "    }\n",
       "</style>\n",
       "<table border=\"1\" class=\"dataframe\">\n",
       "  <thead>\n",
       "    <tr style=\"text-align: right;\">\n",
       "      <th></th>\n",
       "      <th>date</th>\n",
       "      <th>text_clean</th>\n",
       "      <th>topic</th>\n",
       "      <th>sentiment</th>\n",
       "      <th>proba_neg</th>\n",
       "      <th>proba_pos</th>\n",
       "      <th>NER</th>\n",
       "    </tr>\n",
       "  </thead>\n",
       "  <tbody>\n",
       "    <tr>\n",
       "      <th>0</th>\n",
       "      <td>2022-01-06</td>\n",
       "      <td>CHICAGO AP  Chicago school leaders canceled cl...</td>\n",
       "      <td>1</td>\n",
       "      <td>Negative</td>\n",
       "      <td>0.896170</td>\n",
       "      <td>0.103830</td>\n",
       "      <td>[('CHICAGO', 'GPE'), ('AP', 'ORG'), ('Chicago'...</td>\n",
       "    </tr>\n",
       "    <tr>\n",
       "      <th>1</th>\n",
       "      <td>2022-01-06</td>\n",
       "      <td>The Chicago Teachers Union sought to revert to...</td>\n",
       "      <td>1</td>\n",
       "      <td>Positive</td>\n",
       "      <td>0.467517</td>\n",
       "      <td>0.532483</td>\n",
       "      <td>[('The Chicago Teachers Union', 'ORG')]</td>\n",
       "    </tr>\n",
       "    <tr>\n",
       "      <th>2</th>\n",
       "      <td>2022-01-06</td>\n",
       "      <td>But Chicago Public Schools leaders have said r...</td>\n",
       "      <td>1</td>\n",
       "      <td>Negative</td>\n",
       "      <td>0.785331</td>\n",
       "      <td>0.214669</td>\n",
       "      <td>[('Chicago Public Schools', 'ORG')]</td>\n",
       "    </tr>\n",
       "    <tr>\n",
       "      <th>3</th>\n",
       "      <td>2022-01-06</td>\n",
       "      <td>The move to cancel classes and activities Thur...</td>\n",
       "      <td>1</td>\n",
       "      <td>Negative</td>\n",
       "      <td>0.964395</td>\n",
       "      <td>0.035605</td>\n",
       "      <td>[('Thursday', 'DATE'), ('roughly 350,000', 'CA...</td>\n",
       "    </tr>\n",
       "    <tr>\n",
       "      <th>5</th>\n",
       "      <td>2022-01-06</td>\n",
       "      <td>We have no choice but to cancel classes tomorr...</td>\n",
       "      <td>1</td>\n",
       "      <td>Negative</td>\n",
       "      <td>0.865027</td>\n",
       "      <td>0.134973</td>\n",
       "      <td>[('tomorrow', 'DATE'), ('Pedro Martinez', 'PER...</td>\n",
       "    </tr>\n",
       "  </tbody>\n",
       "</table>\n",
       "</div>"
      ],
      "text/plain": [
       "         date                                         text_clean  topic  \\\n",
       "0  2022-01-06  CHICAGO AP  Chicago school leaders canceled cl...      1   \n",
       "1  2022-01-06  The Chicago Teachers Union sought to revert to...      1   \n",
       "2  2022-01-06  But Chicago Public Schools leaders have said r...      1   \n",
       "3  2022-01-06  The move to cancel classes and activities Thur...      1   \n",
       "5  2022-01-06  We have no choice but to cancel classes tomorr...      1   \n",
       "\n",
       "  sentiment  proba_neg  proba_pos  \\\n",
       "0  Negative   0.896170   0.103830   \n",
       "1  Positive   0.467517   0.532483   \n",
       "2  Negative   0.785331   0.214669   \n",
       "3  Negative   0.964395   0.035605   \n",
       "5  Negative   0.865027   0.134973   \n",
       "\n",
       "                                                 NER  \n",
       "0  [('CHICAGO', 'GPE'), ('AP', 'ORG'), ('Chicago'...  \n",
       "1            [('The Chicago Teachers Union', 'ORG')]  \n",
       "2                [('Chicago Public Schools', 'ORG')]  \n",
       "3  [('Thursday', 'DATE'), ('roughly 350,000', 'CA...  \n",
       "5  [('tomorrow', 'DATE'), ('Pedro Martinez', 'PER...  "
      ]
     },
     "execution_count": 9,
     "metadata": {},
     "output_type": "execute_result"
    }
   ],
   "source": [
    "df.head()"
   ]
  },
  {
   "cell_type": "markdown",
   "id": "07273460",
   "metadata": {},
   "source": [
    "Converting to lowercase"
   ]
  },
  {
   "cell_type": "code",
   "execution_count": 11,
   "id": "bf8acc56",
   "metadata": {},
   "outputs": [],
   "source": [
    "df['text_clean'] = df['text_clean'].str.lower()"
   ]
  },
  {
   "cell_type": "markdown",
   "id": "516f868a",
   "metadata": {},
   "source": [
    "# Text Summarization (ktrain)"
   ]
  },
  {
   "cell_type": "markdown",
   "id": "2eab8dba",
   "metadata": {},
   "source": [
    "## On Positive keywords"
   ]
  },
  {
   "cell_type": "markdown",
   "id": "419241c2",
   "metadata": {},
   "source": [
    "\n",
    "### Superbowl"
   ]
  },
  {
   "cell_type": "markdown",
   "id": "00f9086a",
   "metadata": {},
   "source": [
    "Filter on keyword, sentiment and topic"
   ]
  },
  {
   "cell_type": "code",
   "execution_count": 106,
   "id": "de0766b7",
   "metadata": {},
   "outputs": [],
   "source": [
    "df1 = df[(df['text_clean'].str.contains('superbowl') & (df['sentiment'] == 'Positive')&(df['topic'] == 2))]"
   ]
  },
  {
   "cell_type": "markdown",
   "id": "490ad9a6",
   "metadata": {},
   "source": [
    "News from a particular day (Latest and has substantial text)"
   ]
  },
  {
   "cell_type": "code",
   "execution_count": 108,
   "id": "449f49ac",
   "metadata": {},
   "outputs": [],
   "source": [
    "df1 = df1.loc[df1['date'] == '2022-05-01',:]"
   ]
  },
  {
   "cell_type": "code",
   "execution_count": 109,
   "id": "30ccd0d3",
   "metadata": {},
   "outputs": [
    {
     "data": {
      "text/plain": [
       "'bearsranking the super bowls nfl history super bowl chicago bears super bowlchicago bears on instagram ma turkey chivsdet chicago bears chicago bears football bears footballtwitter chicago bears football bears football superbowl championspin on chicago sportsnbc sports chicago. yet one of the best teams ever dabears superbowl chicago football chicago bears football bear pridepin by harold harlow on da bears nfc north chicago bears nfcpin'"
      ]
     },
     "execution_count": 109,
     "metadata": {},
     "output_type": "execute_result"
    }
   ],
   "source": [
    "df11 = df1['text_clean'].drop_duplicates().reset_index()\n",
    "text_clean = df11.loc[:, 'text_clean'].str.cat(sep='. ')\n",
    "text_clean"
   ]
  },
  {
   "cell_type": "code",
   "execution_count": 110,
   "id": "ef6d5abc",
   "metadata": {},
   "outputs": [],
   "source": [
    "text_summary = ts.summarize(text_clean)"
   ]
  },
  {
   "cell_type": "code",
   "execution_count": 112,
   "id": "1cbfcbd7",
   "metadata": {},
   "outputs": [
    {
     "data": {
      "text/plain": [
       "'The Chicago Bears won the Super Bowl on Sunday. The Bears are considered to be one of the best teams in the history of the NFL. The team has won more games than any other team in NFL history. It is the first time that the Bears have won a Super Bowl since the New England Patriots did so in 1986.'"
      ]
     },
     "execution_count": 112,
     "metadata": {},
     "output_type": "execute_result"
    }
   ],
   "source": [
    "text_summary"
   ]
  },
  {
   "cell_type": "markdown",
   "id": "59049377",
   "metadata": {},
   "source": [
    "### The new beginning alcohol and drug rehab center\n"
   ]
  },
  {
   "cell_type": "code",
   "execution_count": 55,
   "id": "5cb3545b",
   "metadata": {},
   "outputs": [],
   "source": [
    "df1 = df[(df['text_clean'].str.contains('alcohol and drug rehab center'))]\n",
    "\n",
    "df1 = df1.loc[df1['date'] == '2022-05-04',:]"
   ]
  },
  {
   "cell_type": "code",
   "execution_count": 56,
   "id": "02f26ba7",
   "metadata": {},
   "outputs": [],
   "source": [
    "df11 = df1[(df1['sentiment'] == 'Positive') & \n",
    "   (df1['topic'] == 5)]['text_clean'].drop_duplicates().reset_index()\n",
    "\n",
    "\n",
    "text_clean = df11.loc[:, 'text_clean'].str.cat(sep='. ')"
   ]
  },
  {
   "cell_type": "code",
   "execution_count": 57,
   "id": "8f0f5431",
   "metadata": {
    "scrolled": true
   },
   "outputs": [
    {
     "data": {
      "text/plain": [
       "'in chicagonot known details about new beginnings alcohol  drug rehabthe best strategy to use for alcohol and drug rehab center. alcohol has an exceptional ability to enable drinkers to forget or quit caring regarding their problems, which is why its so tempting to intensify when somebody is really feeling stressed out.9 easy facts about alcohol and drug rehab center in chicago shownnevertheless, the most typical efforts to alter alcohol consumption patterns entail things like changing brands or trying to scale back from liquor to beer or red wine.. some ideas on new beginnings alcohol and drug rehab center in chicago. to know before you buytable of contents examine this report about new beginnings alcohol and drug rehab center in chicagocontentsection0. examine this report about new beginnings alcohol and drug rehab center in chicagothe 10minute rule for number one rated alcohol rehab. the best strategy to use for new beginnings alcohol and drug rehab centeras well as while out of anxiety, you may intend to enter as well as most likely to the first alcohol as well as medicine rehab that you find, that might not be the most effective method.. in chicagotable of contents the 9minute rule for alcohol detox in chicagocontentsection0 new beginnings alcohol and drug rehab center in chicago fundamentals explainedcontentsection1. the 9minute rule for alcohol detox in chicagonew beginnings alcohol and drug rehab center in chicago fundamentals explainedmore about new beginnings alcohol and drug rehab center in chicago7. the therapy programsnew beginnings alcohol and drug rehab center that have enjoyed one of the most success in assisting their people recover after alcohol addiction are those which contain a selection of evidencebased strategies to improve the mind, body, as well as spirit of the person.. this is completed by both doctors and treatment therapists new beginnings alcohol and drug rehab center.. new beginnings alcohol and drug rehab center in chicago.. 10 simple techniques for new beginnings alcohol and drug rehab center in chicago getting my number one rated alcohol rehab in chicago to worktable of contents 6 simple techniques for alcohol detox in chicago all about alcohol rehab in chicago new beginnings alcohol and drug rehab center in chicago  . the 2minute rule for new beginnings alcohol and drug rehab centeralcohol rehabilitation for individuals experiencing from alcohol and drug misuse is similarly essential as any other therapy for the addicted.. alcohol and drug rehab center in chicago. new beginnings alcohol and drug rehab center things. the greatest guide to alcohol and drug rehab center in chicago new beginnings drug detox center things to know before you get thistable of contents number one. everything about alcohol rehab in chicago alcohol and drug rehab center in chicago can be fun for anyonetable of contents not known factual statements about new beginnings drug detox center the single strategy. alcohol and drug rehab center in chicago nonetheless, it shows a frame of mind in which somebody is seeing alcohol as the service to an issue, which mindset can be exceptionally hazardous.. the new beginnings alcohol and drug rehab center diariesconstruct healthy and balanced relationships alcohol addiction burglarizes people of the most important partnerships in their lives.. illinois examine this report on new beginnings alcohol and drug rehab center in chicago new beginnings alcohol and drug rehab center for dummies our alcohol detox. in chicago statements new beginnings alcohol and drug rehab center in chicago  . the finest therapy programs provide lots of solutions over a duration of time.3 easy facts about new beginnings alcohol and drug rehab center in chicago describedtherapy does function, however its a lifelong process.. the new beginnings alcohol and drug rehab center in chicago pdfsnew beginnings alcohol detox center when it comes to medicine as well as alcohol rehabilitation, there are several options.'"
      ]
     },
     "execution_count": 57,
     "metadata": {},
     "output_type": "execute_result"
    }
   ],
   "source": [
    "text_clean"
   ]
  },
  {
   "cell_type": "code",
   "execution_count": 58,
   "id": "05b11f0a",
   "metadata": {},
   "outputs": [
    {
     "data": {
      "text/plain": [
       "'The best strategy to use for alcohol and drug rehab center. Alcohol has an exceptional ability to enable drinkers to forget or quit caring regarding their problems. Alcohol addiction burglarizes people of the most important partnerships in their lives. The finest therapy programs provide lots of solutions over a duration of time.'"
      ]
     },
     "execution_count": 58,
     "metadata": {},
     "output_type": "execute_result"
    }
   ],
   "source": [
    "ts.summarize(text_clean)"
   ]
  },
  {
   "cell_type": "markdown",
   "id": "2c5022d3",
   "metadata": {},
   "source": [
    "### New Years day"
   ]
  },
  {
   "cell_type": "code",
   "execution_count": 96,
   "id": "30764343",
   "metadata": {},
   "outputs": [],
   "source": [
    "df1 = df[(df['text_clean'].str.contains('new years day') & (df['sentiment'] == 'Positive')&(df['topic'] == 3))]\n",
    "\n",
    "df1 = df1.loc[df1['date'] == '2022-01-01',:]"
   ]
  },
  {
   "cell_type": "code",
   "execution_count": 99,
   "id": "fcc2e448",
   "metadata": {},
   "outputs": [],
   "source": [
    "df11 = df1['text_clean'].drop_duplicates().reset_index()\n",
    "text_clean = df11.loc[:, 'text_clean'].str.cat(sep='. ')\n",
    "text_clean"
   ]
  },
  {
   "cell_type": "code",
   "execution_count": 102,
   "id": "bfe5e2d3",
   "metadata": {},
   "outputs": [],
   "source": [
    "text_summary = ts.summarize(text_clean)"
   ]
  },
  {
   "cell_type": "code",
   "execution_count": 105,
   "id": "479d4299",
   "metadata": {},
   "outputs": [
    {
     "data": {
      "text/plain": [
       "['oh baby chicago area families welcome new babies on new years day january 1, 2022',\n",
       " ' The idot truck was parked in an accident investigation site southbound near 87th street when a passing car slammed into it',\n",
       " 'cta and metra are offering you free and safe transportation to start the new year',\n",
       " '']"
      ]
     },
     "execution_count": 105,
     "metadata": {},
     "output_type": "execute_result"
    }
   ],
   "source": [
    "text_summary.split('.')"
   ]
  },
  {
   "cell_type": "markdown",
   "id": "9d2d7877",
   "metadata": {},
   "source": [
    "### Transportation"
   ]
  },
  {
   "cell_type": "code",
   "execution_count": 15,
   "id": "7b9fb25e",
   "metadata": {},
   "outputs": [],
   "source": [
    "df1 = df[(df['text_clean'].str.contains('transportation')) & \n",
    "   (df['sentiment'] == 'Positive') & \n",
    "   (df['topic'] == 6)]['text_clean'].drop_duplicates().reset_index()\n",
    "\n",
    "\n",
    "text_clean = df1.loc[:, 'text_clean'].str.cat(sep='. ')"
   ]
  },
  {
   "cell_type": "code",
   "execution_count": 18,
   "id": "b8044cb6",
   "metadata": {},
   "outputs": [
    {
     "data": {
      "text/plain": [
       "'FOR TRIPS:Trip Prize Conditions: All prize packages shall include roundtrip, coach class air transportation for winner from a major commercial airport near winners home to the destination and a double occupancy standard hotel room as specified in herein.. We are confident that Scotts previous experience as a clerk for a judge in the Illinois Appellate Court has prepared him to defend his clients in the transportation industry in personal injury and property loss matters.. Grand Prize trip includes roundtrip nonrefundable coach class air transportation from a majorairport near Winners residence to Chicago, IL for Winner and one 1 Guest three 3 daystwo2 nights standard double occupancy hotel accommodations ground transportation in Chicago,IL tofrom the airport and hotel and a culinary tour of Chicago, IL tour details determined inSponsors sole discretion.'"
      ]
     },
     "execution_count": 18,
     "metadata": {},
     "output_type": "execute_result"
    }
   ],
   "source": [
    "text_clean"
   ]
  },
  {
   "cell_type": "code",
   "execution_count": 17,
   "id": "ba04753a",
   "metadata": {},
   "outputs": [
    {
     "data": {
      "text/plain": [
       "'Grand Prize trip includes roundtrip, coach class air transportation for winner from a major commercial airport near winners home to the destination and a double occupancy standard hotel room as specified in herein. We are confident Scotts previous experience as a clerk for a judge in the Illinois Appellate Court has prepared him to defend his clients in the transportation industry in personal injury and property loss matters.'"
      ]
     },
     "execution_count": 17,
     "metadata": {},
     "output_type": "execute_result"
    }
   ],
   "source": [
    "ts.summarize(text_clean)"
   ]
  },
  {
   "cell_type": "markdown",
   "id": "a189ab20",
   "metadata": {},
   "source": [
    "### Missouri valley conference\n"
   ]
  },
  {
   "cell_type": "code",
   "execution_count": 154,
   "id": "8e0b2bad",
   "metadata": {},
   "outputs": [],
   "source": [
    "df1 = df[(df['text_clean'].str.contains('missouri valley conference') & (df['sentiment'] == 'Positive')&(df['topic'] == 2))]\n",
    "\n",
    "df1 = df1.loc[df1['date'] == '2022-03-04',:]"
   ]
  },
  {
   "cell_type": "code",
   "execution_count": 159,
   "id": "5dd432ca",
   "metadata": {},
   "outputs": [
    {
     "data": {
      "text/plain": [
       "'the reigning missouri valley conference tournament champion loyola chicago ramblers take on the bradley braves in an mvc tournament quarterfinal matchup on friday afternoon in st. louis, missouri.. louis ap  aj green had 17 points as northern iowa beat illinois state 7865 in the missouri valley conference tournament quarterfinals on friday.. sportslines model revealed its college basketball picks for illinois state vs. northern iowa in the 2022 missouri valley conference tournament, also known as arch madness sourcenorthern iowa vs. illinois state prediction, odds: 2022 mvc tournament picks, best bets from proven modelsportslines model revealed its college basketball picks for illinois state vs. northern iowa in the 2022 missouri valley conference tournament, also known as arch madness. they might not be all that great defensively and they havent seen a turnover it didnt like to give up, but it hits the glass hard enough to lead the missouri valley conference in boards.. you can also watch on your computer via espn.com .bradley vs loyola chicago previewthe winners of the last four missouri valley conference tournaments square off friday afternoon in an mvc tournament quarterfinal round matchup when the fourthseeded loyola chicago ramblers and fifthseeded bradley braves meet in st. louis.. reigning missouri valley conference tournament champion loyola chicago ramblers meets the bradley braves in the quarterfinals of the mvc tournament friday afternoon in st. louis, missouri.. the bradley braves are taking on the loyola chicago ramblers in a 2022 missouri valley conference tournament mens basketball game at enterprise center in st. louis.. the missouri valley conference tournament quarterfinals will feature an intriguing matchup between the southern illinois redbirds and drake bulldogs on saturday night at the enterprise center in st. louis.'"
      ]
     },
     "execution_count": 159,
     "metadata": {},
     "output_type": "execute_result"
    }
   ],
   "source": [
    "df11 = df1['text_clean'].drop_duplicates().reset_index()\n",
    "text_clean = df11.loc[:, 'text_clean'].str.cat(sep='. ')\n",
    "text_clean"
   ]
  },
  {
   "cell_type": "code",
   "execution_count": 160,
   "id": "f655b74e",
   "metadata": {},
   "outputs": [],
   "source": [
    "text_summary = ts.summarize(text_clean)"
   ]
  },
  {
   "cell_type": "code",
   "execution_count": 161,
   "id": "e6e13cbe",
   "metadata": {},
   "outputs": [
    {
     "data": {
      "text/plain": [
       "'The bradley braves take on the loyola chicago ramblers in a 2022 missouri valley conference tournament mens basketball game at enterprise center in st. louis. sportslines model revealed its college basketball picks for illinois state vs. northern iowa in the 2022 miss Missouri Valley Conference tournament, also known as arch madness. The southern illinois redbirds and drake bulldogs meet in the quarterfinals on Saturday night.'"
      ]
     },
     "execution_count": 161,
     "metadata": {},
     "output_type": "execute_result"
    }
   ],
   "source": [
    "text_summary"
   ]
  },
  {
   "attachments": {},
   "cell_type": "markdown",
   "id": "1084cd82",
   "metadata": {},
   "source": [
    "### Immigration reform"
   ]
  },
  {
   "cell_type": "code",
   "execution_count": 37,
   "id": "3ed9f774",
   "metadata": {},
   "outputs": [],
   "source": [
    "df1 = df[(df['text_clean'].str.contains('immigration reform') & (df['sentiment'] == 'Positive'))]\n",
    "\n",
    "df1 = df1.loc[df1['date'] == '2022-04-14',:]"
   ]
  },
  {
   "cell_type": "code",
   "execution_count": 40,
   "id": "1aa96b8b",
   "metadata": {},
   "outputs": [
    {
     "data": {
      "text/plain": [
       "'the crowd gathered on 26th street between troy street and albany avenue, to welcome omar gomez and homero ocon, immigration activists with united for immigration reform colorado, who arrived in chicago on the 24th day of a 40day bicycle ride from colorado to washington, d.c.the trek is expected to last through may 1, according to the suntimes.. the crowd gathered on 26th street between troy street and albany avenue, to welcome omar gomez and homero ocon, immigration activists with united for immigration reform colorado, who arrived in chicago on the 24th day of a 40day bicycle ride from colorado to washington, d.c.the trek is expected to last through may 1, according to the suntimes .theyre biking for immigration reform, and calling for an end to deportations.. delia was here helping get people to fill out their census forms, and the things shes been fighting to achieve for years  affordable housing, affordable health care, immigration reform  are the things that are important to residents here.. the crowd gathered on 26th street between troy street and albany avenue, to welcome omar gomez and homero ocon, immigration activists with united for immigration reform colorado, who arrived in chicago on the 24th day of a 40day bicycle ride from colorado to washington d.c.'"
      ]
     },
     "execution_count": 40,
     "metadata": {},
     "output_type": "execute_result"
    }
   ],
   "source": [
    "df11 = df1['text_clean'].drop_duplicates().reset_index()\n",
    "text_clean = df11.loc[:, 'text_clean'].str.cat(sep='. ')\n",
    "text_clean"
   ]
  },
  {
   "cell_type": "code",
   "execution_count": 41,
   "id": "f8c75d98",
   "metadata": {},
   "outputs": [],
   "source": [
    "text_summary = ts.summarize(text_clean)"
   ]
  },
  {
   "cell_type": "code",
   "execution_count": 42,
   "id": "e7fef2ab",
   "metadata": {},
   "outputs": [
    {
     "data": {
      "text/plain": [
       "'Omar gomez and homero ocon, immigration activists with united for immigration reform colorado, arrived in chicago on the 24th day of a 40day bicycle ride from colorado to washington, d.c. The trek is expected to last through may 1, according to the suntimes.'"
      ]
     },
     "execution_count": 42,
     "metadata": {},
     "output_type": "execute_result"
    }
   ],
   "source": [
    "text_summary"
   ]
  },
  {
   "attachments": {},
   "cell_type": "markdown",
   "id": "4cd5ee5f",
   "metadata": {},
   "source": [
    "### Chicago med"
   ]
  },
  {
   "cell_type": "code",
   "execution_count": 58,
   "id": "acf854f7",
   "metadata": {},
   "outputs": [],
   "source": [
    "df1 = df[(df['text_clean'].str.contains('chicago med') & (df['sentiment'] == 'Positive')&(df['topic'] == 3))]\n",
    "\n",
    "df1 = df1.loc[df1['date'] == '2022-01-09',:]"
   ]
  },
  {
   "cell_type": "code",
   "execution_count": 62,
   "id": "255efbe3",
   "metadata": {},
   "outputs": [
    {
     "data": {
      "text/plain": [
       "'but if youre a fan of the other two shows in the franchise, chicago med and chicago fire, you should tune in at 87 central to start with chicago med and catch all three.. nbcs one chicago series may have only just returned, but an extended break is fast approaching for chicago fire, chicago med and chicago pd.following the winter premieres on jan. 5, nbcs mostwatched dramas will be airing a pair of new episodes on wednesday, jan. 12 and jan. 19 before they head on break for what is looking to be yet another extended hiatus.. for the latest chicago fire season 10, chicago med season 7, and chicago pd season 9 spoilers and news, plus more on the entire series, follow the chicago fire , chicago med and chicago pd categories at one chicago center.. theres a lot we love about one chicago shows beyond ships but, lets face it, we cant live without ships and couples are important to the emotional development of the characters in chicago fire , chicago pd , and chicago med , so were going to analyze the progress of our beloved ships each week in a roundtable.. chicago medat chicago med, the consequences feel real for what it feels like the first time.. dont mind those chicago med fans as they are just having a wonderful time watching one couple share their love on the screen.. one chicago med fan tweeted out, wait, did stevie feel a little jealous if will did slept with jessa ohhhh... its kicking booty compared to other current medical dramas on tv.this information comes courtesy of fan website one chicago center .see, chicago med is the mostwatched medical drama in the 202122 season when it comes to total viewers.. of course, chicago med is part of the one chicago franchise under the watchful eyes of dick wolf.'"
      ]
     },
     "execution_count": 62,
     "metadata": {},
     "output_type": "execute_result"
    }
   ],
   "source": [
    "df11 = df1['text_clean'].drop_duplicates().reset_index()\n",
    "text_clean = df11.loc[:, 'text_clean'].str.cat(sep='. ')\n",
    "text_clean"
   ]
  },
  {
   "cell_type": "code",
   "execution_count": 63,
   "id": "e569e49d",
   "metadata": {},
   "outputs": [],
   "source": [
    "text_summary = ts.summarize(text_clean)"
   ]
  },
  {
   "cell_type": "code",
   "execution_count": 64,
   "id": "764e47e9",
   "metadata": {},
   "outputs": [
    {
     "data": {
      "text/plain": [
       "'nbcs one chicago series may have only just returned, but an extended break is fast approaching for chicago fire, chicago med and chicago pd. nbcs mostwatched dramas will be airing a pair of new episodes on wednesday, jan. 12 and jan. 19 before they head on break for yet another extended hiatus.'"
      ]
     },
     "execution_count": 64,
     "metadata": {},
     "output_type": "execute_result"
    }
   ],
   "source": [
    "text_summary"
   ]
  },
  {
   "cell_type": "markdown",
   "id": "846cc534",
   "metadata": {},
   "source": [
    "## Negative Sentiment Keywords"
   ]
  },
  {
   "attachments": {},
   "cell_type": "markdown",
   "id": "237aa569",
   "metadata": {},
   "source": [
    "### Chicago Public Schools"
   ]
  },
  {
   "cell_type": "code",
   "execution_count": 66,
   "id": "5f6e387d",
   "metadata": {},
   "outputs": [],
   "source": [
    "df1 = df[(df['text_clean'].str.contains('chicago public schools ') & (df['sentiment'] == 'Negative')&(df['topic'] == 1))]\n",
    "\n",
    "df1 = df1[df1['proba_neg']>0.7] # High negative sentiment confidence\n",
    "\n",
    "df1 = df1.loc[df1['date'] == '2022-01-06',:]"
   ]
  },
  {
   "cell_type": "code",
   "execution_count": 74,
   "id": "e8b3b79a",
   "metadata": {},
   "outputs": [
    {
     "data": {
      "text/plain": [
       "'in midoctober, chicago public schools told principals it would shift some of their schools budgeted spending to the districts covid relief fund.. the new mask optional policy at chicago public schools will remain in place, at least for now, after the illinois educational labor relations board on wednesday denied the chicago teachers unions request to block it.. abedelal, jackson, and bannack  who worked as a sales representative for a company that sold goods to chicago public schools  allegedly submitted or assisted in submitting false purchase orders and invoices to cps which were purported to be for school supplies.. by way of a 32 vote this morning, wednesday, march 16, the illinois educational labor relations board  chaired by former chicago public schools lawyer lara shayne  denied a request for a preliminary injunction concerning mayor lightfoots unfair labor practice in disregarding januarys covid19 related safety protocols memorandum of agreement and unilaterally implementing a maskoptional policy in chicago public schools without bargaining with the union.. on monday, chicago public schools began a maskoptional policy.. chicago illinois, march 14: chicago public schools cps, the thirdlargest school district in the united states, lifted mask mandate and introduced a maskoptional policy beginning monday.. a state labor board has rejected the chicago teachers unions request to temporarily block chicago public schools mask optional policy while the unions legal challenge plays out.. related  barefaced chicago public schools students sent home as district moves toward maskoptional policyan administrative law judge will hear the ctus case sometime this spring.. watch: chicago public schools ceo weighs in on mask mandate changesthe ctu has accused cps of reneging on the pairs january safety agreement, signed after tense negotiations led to five days of canceled classes for 272,000 students during the height of the citys omicron surge.. chicago, march 15: chicago public schools cps, the third largest school district in the us, lifted its mask mandate and introduced an optional policy.'"
      ]
     },
     "execution_count": 74,
     "metadata": {},
     "output_type": "execute_result"
    }
   ],
   "source": [
    "df11 = df1['text_clean'].drop_duplicates().reset_index()\n",
    "text_clean = df11.loc[:, 'text_clean'].str.cat(sep='. ')\n",
    "text_clean"
   ]
  },
  {
   "cell_type": "code",
   "execution_count": 75,
   "id": "0e7a6242",
   "metadata": {},
   "outputs": [],
   "source": [
    "text_summary = ts.summarize(text_clean)"
   ]
  },
  {
   "cell_type": "code",
   "execution_count": 76,
   "id": "abb51c31",
   "metadata": {},
   "outputs": [
    {
     "data": {
      "text/plain": [
       "' chicago public schools told principals it would shift some of their schools budgeted spending to the districts covid relief fund. The new mask optional policy will remain in place, at least for now, after the illinois educational labor relations board on wednesday denied the chicago teachers unions request to block it. The ctus has accused cps of reneging on the pairs january safety agreement, signed after tense negotiations.'"
      ]
     },
     "execution_count": 76,
     "metadata": {},
     "output_type": "execute_result"
    }
   ],
   "source": [
    "text_summary"
   ]
  },
  {
   "attachments": {},
   "cell_type": "markdown",
   "id": "f863836a",
   "metadata": {},
   "source": [
    "## Illinois Department of Public Health"
   ]
  },
  {
   "cell_type": "code",
   "execution_count": 79,
   "id": "6c4a6b16",
   "metadata": {},
   "outputs": [],
   "source": [
    "df1 = df[(df['text_clean'].str.contains('illinois department of public health') & (df['sentiment'] == 'Negative')&(df['topic'] == 1))]\n",
    "\n",
    "df1 = df1[df1['proba_neg']>0.7]\n",
    "\n",
    "df1 = df1.loc[df1['date'] == '2022-04-26',:]"
   ]
  },
  {
   "cell_type": "code",
   "execution_count": 83,
   "id": "ebc78f97",
   "metadata": {},
   "outputs": [
    {
     "data": {
      "text/plain": [
       "'the court found that because rules from the illinois department of public health requiring masking and other covid19 protocols had been allowed to expire, the appeal was moot.. one case resulted in a liver transplant, according to the warning, which was issued monday by the illinois department of public health.. the problem with severe hepatitis cases in children has now spread to illinois, according to the illinois department of public health  idph .. the illinois department of public health idph said the three cases  two in the suburbs and one in western illinois  are potentially linked to a strain of adenovirus, a group of common viruses that cause fever, coughs, sore throats, diarrhea, and pink eye.. the illinois department of public health suspects three cases among children under ten.. what is a close contactthe cdc and the illinois department of public health define a close contact as someone who was less than six feet away from an infected person for a cumulative total of 15 minutes or more over a 24hour period.. the illinois department of public health idph said monday that it has learned of three suspected cases of severe hepatitis in children under 10 years of age.. the illinois department of public health announced monday it has learned of three suspected cases of severe hepatitis in children under 10yearsold.. the illinois department of public health announced monday that it has learned of three suspected cases of severe hepatitis in children younger than 10 years old, potentially linked to a strain of adenovirus.. however, over the past few weeks, covid cases are rising in the state of illinois, as hospitalizations and icu admissions have remained mostly steady in recent weeks, according to the latest data from the illinois department of public health.. on friday, the illinois department of public health and the cdc announced that three counties in illinois  dupage, mclean, and piatt  have shifted from low risk to medium community levels.. as the chances to contract an infection climb, some are asking the following questions: what should you do if you or someone you have been in close contact with tests positive for coronavirusguidelines state those who were exposed should watch for symptoms until at least 10 days after the last close contact with someone who had covid.close contact is defined by the cdc and the illinois department of public health as someone who was less than 6 feet away from an infected person for a cumulative total of 15 minutes or more over a 24hour period.. the illinois department of public health idph said the three cases  two in suburban and one in western illinois  are potentially linked to a strain of adenovirus, a group of common viruses. which cause fever, cough, sore throat, diarrhea and pink eye.. valelopardo pixabaythe illinois department of public health on monday announced it has learned about three suspected cases of severe hepatitis in children under 10 that are potentially linked to a strain of the adenovirus, which spreads from persontoperson.. those who test positive, regardless of vaccination status, must isolate, according to the cdc.close contact is defined by the cdc and the illinois department of public health as someone who was less than 6 feet away from an infected person for a cumulative total of 15 minutes or more over a 24hour period.. for these individuals, the cdc and illinois department of public health recommend you: stay home and away from other people for at least 5 days day 0 through day 5 after your last contact with a person who has covid19.. according to the illinois department of public health , two of the illinois cases are in suburban chicago, and one is in the western part of the state.. according to the latest data from the illinois department of public health, the state is seeing an average of 3,136 new cases per day over the last seven days.. close contact is defined by the cdc and the illinois department of public health as someone who was less than 6 feet away from an infected person for a cumulative total of 15 minutes or more over a 24hour period.. the illinois department of public health has leased 9,923 square feet of office space at 11 executive drive in fairview heights, just east of st. louis.. monday, the illinois department of public health issued a warning that 3 possible cases of the mysterious disease were reported detected in illinois  2 in suburban chicago, and 1 in western illinois.'"
      ]
     },
     "execution_count": 83,
     "metadata": {},
     "output_type": "execute_result"
    }
   ],
   "source": [
    "df11 = df1['text_clean'].drop_duplicates().reset_index()\n",
    "text_clean = df11.loc[:, 'text_clean'].str.cat(sep='. ')\n",
    "text_clean"
   ]
  },
  {
   "cell_type": "code",
   "execution_count": 84,
   "id": "3034dd3d",
   "metadata": {},
   "outputs": [],
   "source": [
    "text_summary = ts.summarize(text_clean)"
   ]
  },
  {
   "cell_type": "code",
   "execution_count": 85,
   "id": "e7f0239e",
   "metadata": {},
   "outputs": [
    {
     "data": {
      "text/plain": [
       "'The problem with severe hepatitis cases in children has now spread to illinois, according to the illinois department of public health  idph. The three cases are potentially linked to a strain of adenovirus, a group of common viruses that cause fever, cough, sore throats, diarrhea, and pink eye.'"
      ]
     },
     "execution_count": 85,
     "metadata": {},
     "output_type": "execute_result"
    }
   ],
   "source": [
    "text_summary"
   ]
  },
  {
   "attachments": {},
   "cell_type": "markdown",
   "id": "e8cd70e3",
   "metadata": {},
   "source": [
    "## Lori Lightfoot"
   ]
  },
  {
   "cell_type": "code",
   "execution_count": 93,
   "id": "45ac74a8",
   "metadata": {},
   "outputs": [],
   "source": [
    "df1 = df[(df['text_clean'].str.contains('lightfoot') & (df['sentiment'] == 'Negative'))]\n",
    "\n",
    "df1 = df1[df1['proba_neg']>0.95]\n",
    "\n",
    "df1 = df1.loc[df1['date'] == '2022-04-21',:]"
   ]
  },
  {
   "cell_type": "code",
   "execution_count": 97,
   "id": "4b02031a",
   "metadata": {},
   "outputs": [
    {
     "data": {
      "text/plain": [
       "'chicagos democrat mayor lori lightfoot has done such a horrible job that even the media is calling her out.. well i disagree with you fundamentally and i dont think i need to address and dignify your comments one second further next question, lightfoot replied.. chicago mayor lori lightfoots incompetence has been well documented by the blue state conservative, and with bill deblasio now out the door in new york city, she is quite possibly the worst mayor in america.. by jordan case at cdn  chicago mayor lori lightfoots incompetence has been well documented by the blue state conservative, and with bill deblasio now out the door in new york city, she is quite possibly the worst mayor in america.. chicagos inspector general said this month that officials in ms. lightfoots office had made false or unfounded statements about the incident, which occurred not long before her administration took office, and that city agencies had prioritized communications and public relations concerns over the higher mission of city government.. despite the citys mounting problems, ms. lightfoot has left crucial administrative positions vacant, including her deputy mayor of public safety, a job that was left unfilled for months until last may.. would our country be greater if donald trump returned to the white house in 2024 promoted contentchicago mayor lori lightfoots incompetence has been well documented by the blue state conservative, and with bill deblasio now out the door in new york city, she is quite possibly the worst mayor in america.. ms lightfoot, who was elected in 2019, refused to engage with comments from radio host william j kelly, who asked: real chicagoans are asking me, how can you possibly even consider running for reelection for mayor of the city of chicago after all the harm youve causedms lightfoot said she disagrees fundamentally with the premise of the question, and i dont think i need to address and dignify your comments one second further.. ms lightfoots office did not respond to whether the policy of rejecting interviews from white reporters was still in place, or clarify why she would not answer mr kellys question.. to be eligible for one, applicants must:be a resident of chicago be at least 18 years old have a current and valid city sticker with the correct postal information for their vehicle bring a household income equal to or less than 100 of the median income of the region according to chicago data, the median income for a family of four is 93,200.lightfoot also plans to reserve 75 of gas cards for residents of southern and western neighborhoods defined as high mobility difficulties.. lightfoot said her oneday policy was meant to draw attention to a lack of diversity in the citys press corps, but critics called it a publicity stunt that deflected efforts to evaluate her performance in office.. the triibe questioned lightfoot about the lack of resources for chicagoans getting out of prison, her views on qualified immunity for police officers, and the invest southwest program lightfoot claims has pushed tens of millions of dollars to disinvested parts of the city.. still, lightfoot ended the appeal by asking news outlets to tell her what they plan to do to address this concern, saying its impossible for this glaring lack of diversity not to be reflected in the daily coverage of government, politics and city life every single day.. in her letter in 2021, lightfoot touted efforts shes taken to prioritize outlets led by people of color, stating her administration has hosted ethnic media roundtables and focused paid public service media ad dollars in the direction of black and latinx tv and radio stations.. well, i disagree with you fundamentally and i dont think i need to address and dignify your comments one second further, lightfoot said trying to keep calm.. while touting what she said was her probusiness record of accomplishment, lightfoot implicitly acknowledged that she would have to break through the noise to tell chicagos real story.. while lightfoot said she was proud to serve as chicagos cheerleader in chief, she acknowledged that chicago is still struggling to reverse a surge of violent crime that polls show is voters biggest concern.. chicago mayor lori lightfoot is undoubtedly one of the worst mayors in america, second perhaps only to  well, i cant think of any mayor worse than her at the moment.. chicagos mayoral election will be held on february 28, 2023, and while lightfoot has not formally declared shes running for reelection, shes been busy laying the groundwork for it, citing alleged facts and figures she says back up her claims about the city being on the comeback both economically and from a safety and security standpoint.. but during a press conference tuesday, lightfoot got confronted with a reality check when a reporter demanded to know how could you possibly even consider running for reelection as mayor of the city of chicago after all the harm youve caused after pointing to recent incidents of violent crime in the city and how businesses were running away as evidence of her failed management of the city.. well, i disagree with you fundamentally and i dont think i need to address and dignify your comments one second further, lightfoot responded..  our country be greater if donald trump returned to the white house in 2024 promoted contentchicago mayor lori lightfoots incompetence has been well documented by the blue state conservative, and with bill deblasio now out the door in new york city, she is quite possibly the worst mayor in america.'"
      ]
     },
     "execution_count": 97,
     "metadata": {},
     "output_type": "execute_result"
    }
   ],
   "source": [
    "df11 = df1['text_clean'].drop_duplicates().reset_index()\n",
    "text_clean = df11.loc[:, 'text_clean'].str.cat(sep='. ')\n",
    "text_clean"
   ]
  },
  {
   "cell_type": "code",
   "execution_count": 98,
   "id": "ba1cc2b4",
   "metadata": {},
   "outputs": [],
   "source": [
    "text_summary = ts.summarize(text_clean)"
   ]
  },
  {
   "cell_type": "code",
   "execution_count": 99,
   "id": "c9ad1473",
   "metadata": {},
   "outputs": [
    {
     "data": {
      "text/plain": [
       "'chicagos democrat mayor lori lightfoot has done such a horrible job that even the media is calling her out. lightfoot refused to engage with comments from radio host william j kelly, who asked: real chicagoans are asking me, how can you possibly even consider running for reelection after all the harm youve caused? lightfoot said she disagrees fundamentally with the premise of the question, and i dont think i need to address and dignify your comments one second further.'"
      ]
     },
     "execution_count": 99,
     "metadata": {},
     "output_type": "execute_result"
    }
   ],
   "source": [
    "text_summary"
   ]
  },
  {
   "attachments": {},
   "cell_type": "markdown",
   "id": "0f7eb8a6",
   "metadata": {},
   "source": [
    "## SEC"
   ]
  },
  {
   "cell_type": "code",
   "execution_count": 144,
   "id": "39463aa9",
   "metadata": {},
   "outputs": [],
   "source": [
    "df1 = df[(df['text_clean'].str.contains('sec') & (df['sentiment'] == 'Negative'))]\n",
    "\n",
    "df1 = df1[df1['proba_neg']>0.99]\n",
    "\n",
    "df1 = df1.loc[df1['date'] == '2022-04-27',:]"
   ]
  },
  {
   "cell_type": "code",
   "execution_count": 148,
   "id": "e805fdd0",
   "metadata": {},
   "outputs": [
    {
     "data": {
      "text/plain": [
       "'federal prosecutors in pennsylvania said, over a span of three years, theyd increase the estimate of their fees, and if customers didnt pay, theyd refuse to deliver their household goods.. if water in a home has not been used for six hours, residents should allow cold water to flow from a tap for 1530 seconds to flush any lead, according to guidance from the epa.the study found that homes where a relatively low amount of water was used had the highest concentration of lead in the water, cheng said.. illinois agility run test for dummiestable of contents how illinois airport can save you time, stress, and money.contentsection0 not known facts about illinois agility testcontentsection1 excitement about illinois agility runcontentsection2. borrowers who fall short to file the 2nd certification with the court prior to their situation is shut, dont get a discharge mercy of financial debt as well as the discharge was the entire factor they filed personal bankruptcy in the very first area once again, take the second program asap after you obtain a case number as well as stay clear of obtaining anywhere near that penalty.. debtors who stop working to file the 2nd certificate with the court prior to their case is shut, dont obtain a discharge forgiveness of financial obligation as well as the discharge was the entire factor they submitted bankruptcy in the initial area again, take the second program asap after you obtain an instance number and also avoid getting anywhere near that charge.. borrowers that fall short to file the second certificate with the court before their case is closed, dont get a discharge forgiveness of financial debt and also thecheck that discharge was the entire reason they filed insolvency in the first location once again, take the 2nd training course immediately after you get a case number and prevent getting anywhere near that charge.. itll be terrible for the online commentary if we see a third consecutive poor start.. duke university professor timothy tyson said donham told him in a 2008 interview that emmet never held her waist, touched her hand, and said, how about a date, babydonham, who is now 88 years old, denied recanting her story when questioned by the fbi, and federal prosecutors said it would be impossible to prove that she did so.. borrowers that fall short to file the second certificate with the court before their instance is shut, do not obtain a discharge mercy of debt and the discharge was the whole reason they filed bankruptcy in the first location once again, take the second training course as soon as possible after you obtain an instance number and stay clear of obtaining anywhere near that charge.. he said the president stopped at the restroom door and asked him, has there ever been a negro secret service agent on white house detail in washington, d.c.bolden said, i told him, not to my knowledge, mr. president.. borrowers that fail to file the 2nd certification with the court prior to their instance is shut, do not get a discharge forgiveness of financial obligation and the discharge was the entire reason they submitted insolvency to begin with once again, take the second program immediately after you get an instance number and also stay clear of getting anywhere near that charge.. not a single person in this country has paid a dime on federal student loans since the president took office, white house press secretary jen psaki said at mondays press briefing.. but prosecutors repeatedly declined to approve murder charges because stamps, who originally told police he was covered in blood because he fell into a pool of it, claimed the victim tried to rape him, a source said.. borrowers that stop working to file the second certificate with the court before their case is closed, dont obtain a discharge mercy of financial debt and also the discharge was the entire factor they filed insolvency in the first place again, take the second course as quickly as feasible after youvisit the website obtain an instance number as well as avoid obtaining anywhere near that charge.. these factors include, among others, the following: i the effects of the covid19 pandemic, including its potential effects on the economic environment, the companys customers and its operations, as well as any changes to federal, state or local government laws, regulations or orders in connection with the pandemicii the strength of the local, state, national and international economies including the impact of the 2020 presidential election and the impact of tariffs, a u.s. withdrawal from or significant renegotiation of trade agreements, trade wars and other changes in trade regulations iii changes in accounting policies and practices including as a result of the future implementation of the current expected credit loss cecl impairment standards, that will change how the company estimates credit losses iv changes in state and federal laws, regulations and governmental policies concerning the companys general business v changes in interest rates and prepayment rates of the companys assets including the impact of libor phaseout vi increased competition in the financial services sector and the inability to attract new customers vii the economic impact of any future terrorist threats and attacks, and the response of the united states to any such threats and attacks viii changes in technology and the ability to develop and maintain secure and reliable electronic systems ix the loss of key executives or employees x changes in consumer spending and xi unexpected outcomes of existing or new litigation involving the company.. borrowers that fail to file the second certificate with the court before their situation is shut, do not obtain a discharge mercy of financial debt and the discharge was the whole reason they filed insolvency in the very first location once again, take the 2nd course as soon as feasible after you obtain a situation number and also stay clear of obtaining anywhere near that charge.. debtors who fail to submit the second certificate with the court before their case is closed, dont obtain a discharge mercy of financial debt and also the discharge was the entire factor they filed insolvency in the very first place again, take the second training course as quickly as possible after you get a case number and avoid obtaining anywhere near that fine.. however, you should understand that these statements are not guarantees of performance or results and there are a number of risks, uncertainties and other factors that could cause our actual results to differ materially from those expressed in the forwardlooking statements, including, among others: cost inflationdeflation and commodity volatility competition reliance on third party suppliers interruption of product supply or increases in product costs changes in our relationships with customers and group purchasing organizations our ability to increase or maintain the highest margin portions of our business effective integration of acquisitions achievement of expected benefits from cost savings initiatives fluctuations in fuel costs economic factors affecting consumer confidence and discretionary spending changes in consumer eating habits our reputation in the industry labor relations and costs access to qualified and diverse labor cost and pricing structures changes in tax laws and regulations and resolution of tax disputes governmental regulation product recalls and product liability claims adverse judgments or settlements resulting from litigation disruptions of existing technologies and implementation of new technologies cybersecurity incidents and other technology disruptions management of retirement benefits and pension obligations extreme weather conditions, natural disasters and other catastrophic events risks associated with intellectual property, including potential infringement indebtedness and restrictions under agreements governing indebtedness potential interest rate increases risks related to the impact of the ongoing covid19 outbreak on our business, suppliers, consumers, customers and employees and potential costs associated with shareholder activism.. debtors who fall short to submit the 2nd certificate with the court before their situation is closed, dont get a discharge mercy of financial obligation as well as the discharge was the whole reason they filed bankruptcy in the first place again, take the second program as soon as possible after you obtain a case number and stay clear of obtaining anywhere near that fine.. age financing cash advance, pay day loan strategy, can t rating an online payday loan, legitimate personal loans for poor credit, payday loan for the st. louis mo, payday loans llc, cash advance exact same big date cord import, step one payday, zero facsimile pay day loan into the pa, bucks financing inside carbondale il, refuted pay day loan, on the internet same day loan lenders, what is an unsecured loan mention, free pay dayla reproduccin total de este contenido no est permitida sin autorizacin previa de cidac.. debtors that fall short to file the second certification with the court before their situationsites is shut, dont get a discharge forgiveness of debt and the discharge was the entire factor they submitted insolvency to begin with again, take the second program immediately after you obtain a case number and also stay clear of obtaining anywhere near that penalty.. skip to comments.commentposted on 04272022 2:30:36 am pdt by main streetmainstreetprosecutors refused to approve murder charges against a man who allegedly admitted to killing the victim with a hammer this weekend, according to law enforcement sources and court records.. important factors that may affect the companys business and operations and that may cause actual results to differ materially from those in the forwardlooking statements include, but are not limited to, the impacts of covid19 and government and consumer responses operating in a highly competitive industry the companys ability to correctly predict, identify, and interpret changes in consumer preferences and demand, to offer new products to meet those changes, and to respond to competitive innovation changes in the retail landscape or the loss of key retail customers changes in the companys relationships with significant customers or suppliers, or in other business relationships the companys ability to maintain, extend, and expand its reputation and brand image the companys ability to leverage its brand value to compete against private label products the companys ability to drive revenue growth in its key product categories or platforms, increase its market share, or add products that are in fastergrowing and more profitable categories product recalls or other product liability claims climate change and legal or regulatory responses the companys ability to identify, complete, or realize the benefits from strategic acquisitions, alliances, divestitures, joint ventures, or other investments the companys ability to successfully execute its strategic initiatives the impacts of the companys international operations the companys ability to protect intellectual property rights the companys ownership structure the companys ability to realize the anticipated benefits from prior or future streamlining actions to reduce fixed costs, simplify or improve processes, and improve its competitiveness the companys level of indebtedness, as well as our ability to comply with covenants under our debt instruments additional impairments of the carrying amounts of goodwill or other indefinitelived intangible assets foreign exchange rate fluctuations volatility in commodity, energy, and other input costs volatility in the market value of all or a portion of the commodity derivatives we use compliance with laws and regulations and related legal claims or regulatory enforcement actions failure to maintain an effective system of internal controls a downgrade in the companys credit rating the impact of future sales of the companys common stock in the public market the companys ability to continue to pay a regular dividend and the amounts of any such dividends unanticipated business disruptions and natural events in the locations in which the company or the companys customers, suppliers, distributors, or regulators operate economic and political conditions in the united states and in various other nations where the company does business including the russia and ukraine conflict and its regional and global ramifications changes in the companys management team or other key personnel and the companys ability to hire or retain key personnel or a highly skilled and diverse global workforce risks associated with information technology and systems, including service interruptions, misappropriation of data, or breaches of security increased pension, labor, and peoplerelated expenses changes in tax laws and interpretations volatility of capital markets and other macroeconomic factors and other factors.. debtors who stop working to submit the second certificate with the court prior to their instance is closed, dont get a discharge forgiveness of financial obligation and the discharge was the entire reason they filed personal bankruptcy in the first location once again, take the second program immediately after you obtain an instance number and stay clear of obtaining anywhere near that fine.. zwiesel, grafenau, vilshofen, frstenzell, straubing, sulzbachrosenberg, amberg, ansbach, erlangen, suhl, schweinfurt, ulm, memmingen, kemten, bad hindelang, fischen, oberstdorf, marktoberdorf, schongau, oberammergau, hersching, starnberg, rottach, bad tlz, lenggries, prien, bad endorf, chieming, traunreut, freilassing, pfarrkirchen, herzogenaurach, feuchtwangen, ellwangen, schwbisch gmnd, gppingen, bad saulgau, trier, mainz, kaiserslautern, saarbrcken, wiesbaden, frankfurt, darmstadt, gieen, wrzburg, pforzheim, stuttgart, freiburg, badenbaden, offenburg, reutlingen, konstanz, berlin, hamburg, mnchen, frankfurt, stuttgart, mainz, wiesbaden, wrzburg, kassel, osnabrck, lingen, bremen, hannover, bamberg, nrnberg, dresden, leipzig, nabburg, nagel, naila, nandlstadt, nassenfels, nennslingen, nersingen, nesselwang, neualbenreuth, neubeuern, neubiberg, neubrunn, neuburg, neuburg an der kammel, neuburg am inn, neuching, neudrossenfeld, neuendettelsau, neuendorf, neuenmarkt, neufahrn, neufraunhofen, neuhaus an der pegnitz, neuhaus am inn, neuhof an der zenn, neuhtten, neukirchen, neukirchen beim heiligen, neukirchenbalbini, neukirchen vorm wald, neumarkt in der oberpfalz, neumarktsankt veit, neunburg vorm wald, neunkirchen, neunkirchen am brand, neunkirchen am sand, neutting, neureichenau, neuried, neus, neuschnau, neusitz, neusorg, neustadt am kulm, neustadt am main, neustadt an der aisch, neustadt an der donau, neustadt an der waldnaab, neustadt bei coburg, neutraubling, neuulm, niederaichbach, niederalteich, niederbergkirchen, niederfllbach, niederlauer, niedermurach, niedernberg, niederrieden, niederschnenfeld, niedertaufkirchen, niederviehbach, niederwerrn, niederwinkling, nittenau, nittendorf, nonnenhorn, nordendorf, nordhalben, nordheim am main, nordheim vor der rhn, nrdlingen, ndlingen, nudorf, vachendorf, valley, vaterstetten, veitsbronn, veitshchheim, velburg, velden, vestenbergsgreuth, viechtach, vierethtrunstadt, vierkirchen, vilgertshofen, villenbach, vilsbiburg, vilseck, vilsheim, vilshofen an der donau, vogtareuth, vohburg an der donau, vohenstrau, vhringen, volkach, volkenschwand, vorbach, vorra, bersee, chtelhausen, uffenheim, uffing am staffelsee, uehlfeld, uettingen, ungerhausen, unsleben, unterammergau, unterdieen, unterdietfurt, unteregg, unterfhring, untergriesbach, unterhaching, unterleinleiter, untermeitingen, untermerzbach, unterneukirchen, unterpleichfeld, unterreit, unterroth, unterschleiheim, unterschwaningen, untersiemau, untersteinach, unterthingau, unterwssen, untrasried, ursberg, ursensollen, urspringen, ustersbach, uttenreuth, utting am ammersee, arnsberg, badoeynhausen, bergheim, badsalzuflen, bergischgladbach, baesweiler, bocholt, castroprauxel, detmold, dinslaken, dormagen, dorsten, dren, gladbeck, grevenbroich, gtersloh, herford, herten, iserlohn, ldenscheid, lnen, marl, minden, moers, neuss, paderborn, ratingen, recklinghausen, rheine, siegen, troisdorf, unna, velbert, kerpen, lippstadt, viersen, wesel, witten, beckum, bergkamen, borken, bornheim, brilon, brhl, bnde, coesfeld, datteln, delbrck, dlmen, emmerich, emsdetten, ennepetal, erftstadt, erkelenz, erkrath, eschweiler, espelkamp, euskirchen, frechen, geilenkirchen, geldern, gevelsberg, goch, greven, gronau, gummersbach, haan, haltern, hamminkeln, hattingen, heiligenhaus, heinsberg, hemer, hennef, herdecke, herzogenrath, hilden, hxter, hckelhoven, hrth, ibbenbren, jlich, kaarst, kamen, kamplintfort, kempen, ahaus, ahlen, alsdorf, altena, badhonnef, kevelaer, kleve, knigswinter, korschenbroich, kreuztal, lage, langenfeld, leichlingen, lemgo, lennestadt, kln, dsseldorf, dortmund, essen, duisburg, bochum, wuppertal, bielefeld, bonn, mnster, gelsenkirchen, mnchengladbach, aachen, krefeld, oberhausen, hagen, hamm, mlheim, leverkusen, solingen, herne, neuss, paderborn, bottrop, remscheid, bergischgladbach, moers, siegen, lohmar, lhne, lbbecke, mechernich, meckenheim, meerbusch, menden, meschede, mettmann, monheim, netphen, nettetal, neukirchenvluyn, niederkassel, oelde, oererkenschwick, olpe, overath, petershagen, plettenberg, portawestfalica, pulheim, radevormwald, rhedawiedenbrck, rheinbach, rheinberg, rsrath, sanktaugustin, schloholtestukenbrock, schmallenberg, schwelm, schwerte, selm, siegburg, soest, sprockhvel, steinfurt, stolberg, sundern, tnisvorst, verl, voerde, waltrop, warendorf, warstein, wegberg, werdohl, werl, wermelskirchen, werne, wesseling, wetter, wiehl, willich, wipperfrth, wlfrath, wrselen, attendorn, badberleburg, baddriburg, badlaasphe, badlippspringe, badmnstereifel, balve, barntrup, bedburg, bergneustadt, beverungen, billerbeck, blomberg, borgentreich, borgholzhausen, brakel, breckerfeld, bren, burscheid, drensteinfurt, drolshagen, elsdorf, enger, ennigerloh, erwitte, freudenberg, frndenberg, gescher, geseke, halle, hallenberg, halver, harsewinkel, heimbach, hilchenbach, hrstel, horstmar, hckeswagen, isselburg, kalkar, kierspe, lengerich, lichtenau, linnich, ldinghausen, lgde, marienmnster, marsberg, medebach, meinerzhagen, monschau, neuenrade, nideggen, nieheim, ochtrup, oerlinghausen, olfen, olsberg, preuischoldendorf, rahden, rees, rhede, rthen, salzkotten, sassenberg, schiederschwalenberg, schleiden, sendenhorst, spenge, stadtlohn, steinheim, straelen, tecklenburg, telgte, bachpalenberg, aldenhoven, alfter, alpen, altenbeken, altenberge, anrchte, ascheberg, augustdorf, badsassendorf, bedburghau, beelen, bestwig, blankenheim, bnen, borchen, brggen, burbach, dahlem, drentrup, eitorf, engelskirchen, ense, erndtebrck, eslohe, everswinkel, extertal, finnentrop, gangelt, grefrath, havixbeck, heek, heiden, hellenthal, herscheid, herzebrockclarholz, hiddenhausen, hille, holzwickede, hopsten, hvelhof, hllhorst, hnxe, hrtgenwald, inden, issum, jchen, kall, kalletal, kerken, kirchhundem, kirchlengern, kranenburg, kreuzau, krten, ladbergen, laer, langenberg, langerwehe, legden, leopoldshhe, lienen, lindlar, lippetal, lotte, marienheide, merzenich, metelen, mettingen, mhnesee, morsbach, much, nachrodtwiblingswerde, nettersheim, neuenkirchen, neunkirchen, neunkirchenseelscheid, niederkrchten, niederzier, nordkirchen, nordwalde, nottuln, nmbrecht, odenthal, ostbevern, raesfeld, recke, reichshof, reken, rheurd, rdinghausen, roetgen, rommerskirchen, rosendahl, ruppichteroth, saerbeck, schalksmhle, schermbeck, schlangen, schppingen, schwalmtal, selfkant, senden, simmerath, sonsbeck, steinhagen, stemwede, sdlohn, swisttal, titz, uedem, vettwei, wachtberg,. debtors thatsite fall short to file the second certification with the court prior to their instance is shut, dont obtain a discharge mercy of debt as well as the discharge was the whole factor they submitted personal bankruptcy to begin with once more, take the second course asap after you obtain an instance number and avoid getting anywhere near that fine.. borrowers who fall short to submit the second certification with the court prior to their case is closed, dont get a discharge forgiveness of financial debt and the discharge was the whole reason they filed insolvency in the initial place once again, take the 2nd program as soon as possible after you get a case number and avoid getting anywhere near that penalty.. borrowers that fail to file the second certificate with the court before their situation is shut, dont obtain a discharge mercy of debt and also the discharge was the entire factor they submitted insolvency in the first place once again, take the second program asap after you get an instance number and also avoid getting anywhere near that penalty.. trust you are aware of this statement savings account bonus offer at account opening deposit 15,000.00 or more of new money, defined as money not held at any wtfc location maintain a minimum balance of at least 15,000.00 on the last business day of each of the 3 consecutive calendar months following the calendar month your new account is opened.. i have not been notified, no, we are waiting to be notified, we will gladly answer, oh and by the way i tell the anticorruption prosecutor that, if they are interested, i am selling my apartment in chicago, in case you are interested, because i also have an apartment there, he said.. the 25second trick for illinois abbreviationtable of contents not known details about illinois agility run contentsection0 how illinois address can save you time, stress, and money.contentsection1. borrowers that fail to file the second certification with the court prior to their case is closed, dont obtain a discharge forgiveness of financial debt and the discharge was the entire factor they submitted bankruptcy to begin with once again, take the 2nd course immediately after you get a situation number and also avoid getting anywhere near that penalty.'"
      ]
     },
     "execution_count": 148,
     "metadata": {},
     "output_type": "execute_result"
    }
   ],
   "source": [
    "df11 = df1['text_clean'].drop_duplicates().reset_index()\n",
    "text_clean = df11.loc[:, 'text_clean'].str.cat(sep='. ')\n",
    "text_clean"
   ]
  },
  {
   "cell_type": "code",
   "execution_count": 149,
   "id": "ad09d0d2",
   "metadata": {},
   "outputs": [],
   "source": [
    "text_summary = ts.summarize(text_clean)"
   ]
  },
  {
   "cell_type": "code",
   "execution_count": 150,
   "id": "0fa8d7d4",
   "metadata": {},
   "outputs": [
    {
     "data": {
      "text/plain": [
       "\"federal prosecutors in pennsylvania said, over a span of three years, theyd increase the estimate of their fees, and if customers didnt pay, they'd refuse to deliver their household goods. If water in a home has not been used for six hours, residents should allow cold water to flow from a tap for 1530 seconds to flush any lead.\""
      ]
     },
     "execution_count": 150,
     "metadata": {},
     "output_type": "execute_result"
    }
   ],
   "source": [
    "text_summary"
   ]
  },
  {
   "attachments": {
    "image.png": {
     "image/png": "[encoded data removed]"
    }
   },
   "cell_type": "markdown",
   "id": "4e2a306d",
   "metadata": {},
   "source": [
    "# Final Summary\n",
    "![image.png](attachment:image.png)"
   ]
  }
 ],
 "metadata": {
  "kernelspec": {
   "display_name": "Python 3 (ipykernel)",
   "language": "python",
   "name": "python3"
  },
  "language_info": {
   "codemirror_mode": {
    "name": "ipython",
    "version": 3
   },
   "file_extension": ".py",
   "mimetype": "text/x-python",
   "name": "python",
   "nbconvert_exporter": "python",
   "pygments_lexer": "ipython3",
   "version": "3.8.13"
  }
 },
 "nbformat": 4,
 "nbformat_minor": 5
}
