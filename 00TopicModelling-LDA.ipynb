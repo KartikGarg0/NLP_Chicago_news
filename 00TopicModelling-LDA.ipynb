{
 "cells": [
  {
   "cell_type": "markdown",
   "id": "0c9bdbac",
   "metadata": {},
   "source": [
    "Illinois is famous for being one of the very few states in the country with negative population growth.  The objective of your final project is to:\n",
    "\n",
    "Identify the key reasons for the declining population (what people like / dislike about Chicago / suburbs) by extracting meaningful insights from unstructured text\n",
    "Provide actionable recommendations on what can be done to reverse this trend (how to make Chicago / suburbs more attractive)\n",
    "You have access to a collection of ~200K news articles (about 500 MB).  The news articles are related to either Chicago and / or Illinois and you can access them in the following ways:\n",
    "\n",
    "Download a data by following this think from your browser: https://storage.googleapis.com/msca-bdp-data-open/news/news_final_project.json (Links to an external site.)\n",
    "Use Spark on GCP news_final_project = spark.read.parquet('gs://msca-bdp-data-open/news_final_project')\n",
    "Use Pandas from anywhere (your laptop, Colab or any cloud) df_news_final_project = pd.read_json('https://storage.googleapis.com/msca-bdp-data-open/news/news_final_project.json', orient='records', lines=True) \n",
    " \n",
    "\n",
    "To complete your assignment, I suggest considering the following steps:\n",
    "Clean-up the noise (eliminate articles irrelevant to the analysis)\n",
    "Detect major topics\n",
    "Identify top reasons for population decline (negative sentiment)\n",
    "Suggest corrective actions\n",
    "Plot a timeline to illustrate how the sentiment is changing over time\n",
    "Demonstrate how the city / state can attract new businesses (positive sentiment)\n",
    "Leverage appropriate NLP techniques to identify organizations and people and apply targeted sentiment\n",
    "Why businesses should stay in IL or move into IL?\n",
    "Create appropriate visualization to summarize your recommendations (i.e. word cloud chart or bubble chart)\n",
    "Whey residents should stay in IL or move into IL?\n",
    "Create appropriate visualization to summarize your recommendations (i.e. word cloud chart or bubble chart)\n",
    " \n",
    "\n",
    "Additional guidance:\n",
    "Default sentiment will likely be wrong from any software package and will require some tweaking\n",
    "Either keyword / dictionary approach or\n",
    "Data annotation and development of custom classifier\n",
    "Fine-tuning Transformer Pipeline\n",
    "You are encouraged to explore a combination several techniques to identify key topics:\n",
    "Topic modeling (i.e. LDA using gensim or ktrain) or using BERTopic\n",
    "Classification (hand-label several topics on a sample and then train classifier)\n",
    "Clustering (cluster topics around pre-selected keywords or word vectors)\n",
    "Zero-shot (NLI) modeling\n",
    "Please ensure your PowerPoint presentation (in PPTX or PDF format) is submitted to the course module as-is (not zipped). Otherwise we are unable to use Canvas SpeedGrader.\n",
    "The presentation should look professional – not a collection of screenshots from your analytical software\n",
    "Roughly 8-12 pages is reasonable for this kind of project but there are no strict restrictions.\n",
    "On your slides you will want to provide:\n",
    "Executive Summary\n",
    "Methodology and source data overview\n",
    "Actionable recommendations\n",
    "Apply text summarization algorithms where possible to synthesize your insights\n",
    "Please submit your actual program codes (Jupyter notebooks) along with your PowerPoint\n",
    "The slides should be self-sufficient and after reading them, there should not be any need to read the notebook (we are still asking you to provide the notebooks as a proof or work though).\n",
    "The slides should clearly answer all the questions and the answers should be supported with the plots/tables/numbers produced in the notebook based on the actual data.\n",
    "The slides should contain the RIGHT amount of supporting material for each question, putting too much supporting material is as bad as putting too little: too much - you would not be able to keep the audience attention and your presentation would be a mess, too little - your statements would not look convincing.\n",
    "Everything should be clear, logical, well organized, as simple as possible.  Use proper English and run spell check.\n",
    "All the plots should be of production quality and easily readable. Fuzzy plots, untitled plots, unreadable labels, overlapping labels are unacceptable.\n",
    "If you formatting somehow gets corrupted when you put your slides into Canvas (sometimes it happens), it is your responsibility to fix formatting. For example, try saving it in some other format like PDF, HTML.\n",
    "Any statements you make should be supported by data. Only recommendations or goals of the project sections can contain elements not directly supported by the data\n",
    "Please submit your actual program codes (i.e. Python Notebook) along with your PowerPoint – as a separate attachment\n",
    "Your presentation should be targeted toward business audience and must not contain any code snippets\n",
    "You are welcome to use any software packages of your choice to complete the assignment"
   ]
  },
  {
   "cell_type": "code",
   "execution_count": 1,
   "id": "b327565a",
   "metadata": {},
   "outputs": [
    {
     "name": "stderr",
     "output_type": "stream",
     "text": [
      "C:\\Users\\gargk\\anaconda3\\lib\\site-packages\\numpy\\_distributor_init.py:30: UserWarning: loaded more than 1 DLL from .libs:\n",
      "C:\\Users\\gargk\\anaconda3\\lib\\site-packages\\numpy\\.libs\\libopenblas.EL2C6PLE4ZYW3ECEVIV3OXXGRN2NRFM2.gfortran-win_amd64.dll\n",
      "C:\\Users\\gargk\\anaconda3\\lib\\site-packages\\numpy\\.libs\\libopenblas.XWYDX2IKJW2NMTWSFYNGFUWKQU3LYTCZ.gfortran-win_amd64.dll\n",
      "  warnings.warn(\"loaded more than 1 DLL from .libs:\"\n",
      "C:\\Users\\gargk\\AppData\\Roaming\\Python\\Python38\\site-packages\\cupy\\_environment.py:213: UserWarning: CUDA path could not be detected. Set CUDA_PATH environment variable if CuPy fails to load.\n",
      "  warnings.warn(\n",
      "C:\\Users\\gargk\\AppData\\Roaming\\Python\\Python38\\site-packages\\cupy\\_environment.py:213: UserWarning: CUDA path could not be detected. Set CUDA_PATH environment variable if CuPy fails to load.\n",
      "  warnings.warn(\n",
      "C:\\Users\\gargk\\AppData\\Roaming\\Python\\Python38\\site-packages\\cupy\\_environment.py:213: UserWarning: CUDA path could not be detected. Set CUDA_PATH environment variable if CuPy fails to load.\n",
      "  warnings.warn(\n"
     ]
    }
   ],
   "source": [
    "import sys\n",
    "import os\n",
    "import numpy as np\n",
    "import pandas as pd\n",
    "import tensorflow as tf\n",
    "import re\n",
    "import string\n",
    "\n",
    "import nltk as nltk\n",
    "from nltk.corpus import stopwords\n",
    "from nltk.stem.wordnet import WordNetLemmatizer\n",
    "import spacy\n",
    "import multiprocessing\n",
    "import string\n",
    "\n",
    "import gensim\n",
    "from gensim import corpora, models\n",
    "from gensim.models.ldamulticore import LdaMulticore\n",
    "from gensim.utils import simple_preprocess\n",
    "from gensim.models import CoherenceModel\n",
    "\n",
    "import pyLDAvis\n",
    "import pyLDAvis.gensim_models as gensimvis\n",
    "pyLDAvis.enable_notebook()\n",
    "from pprint import pprint\n",
    "from textblob import TextBlob"
   ]
  },
  {
   "cell_type": "code",
   "execution_count": 2,
   "id": "b2a6c4e0",
   "metadata": {
    "scrolled": true
   },
   "outputs": [
    {
     "data": {
      "text/html": [
       "<div>\n",
       "<style scoped>\n",
       "    .dataframe tbody tr th:only-of-type {\n",
       "        vertical-align: middle;\n",
       "    }\n",
       "\n",
       "    .dataframe tbody tr th {\n",
       "        vertical-align: top;\n",
       "    }\n",
       "\n",
       "    .dataframe thead th {\n",
       "        text-align: right;\n",
       "    }\n",
       "</style>\n",
       "<table border=\"1\" class=\"dataframe\">\n",
       "  <thead>\n",
       "    <tr style=\"text-align: right;\">\n",
       "      <th></th>\n",
       "      <th>date</th>\n",
       "      <th>language</th>\n",
       "      <th>title</th>\n",
       "      <th>text</th>\n",
       "    </tr>\n",
       "  </thead>\n",
       "  <tbody>\n",
       "    <tr>\n",
       "      <th>0</th>\n",
       "      <td>2022-01-06</td>\n",
       "      <td>english</td>\n",
       "      <td>No deal, no school: Chicago cancels classes fo...</td>\n",
       "      <td>CHICAGO (AP) — Chicago school leaders canceled...</td>\n",
       "    </tr>\n",
       "    <tr>\n",
       "      <th>1</th>\n",
       "      <td>2022-01-06</td>\n",
       "      <td>english</td>\n",
       "      <td>No deal, no school: Chicago cancels classes fo...</td>\n",
       "      <td>CHICAGO (AP) — Chicago school leaders canceled...</td>\n",
       "    </tr>\n",
       "    <tr>\n",
       "      <th>2</th>\n",
       "      <td>2022-01-06</td>\n",
       "      <td>english</td>\n",
       "      <td>Watch ‘Chicago P.D.’ Preview Wednesday</td>\n",
       "      <td>Chicago PD 9×11 “Lies” Season 9 Episode 11 Pro...</td>\n",
       "    </tr>\n",
       "    <tr>\n",
       "      <th>3</th>\n",
       "      <td>2022-01-06</td>\n",
       "      <td>english</td>\n",
       "      <td>Trump’s Solution for Chicago Public Schools? K...</td>\n",
       "      <td>Wise of Foolish?\\nThe Chicago Tribune article ...</td>\n",
       "    </tr>\n",
       "    <tr>\n",
       "      <th>4</th>\n",
       "      <td>2022-01-06</td>\n",
       "      <td>english</td>\n",
       "      <td>Family, friends, colleagues gathering today at...</td>\n",
       "      <td>The neighbors near Mashawn Plummer’s Portage P...</td>\n",
       "    </tr>\n",
       "  </tbody>\n",
       "</table>\n",
       "</div>"
      ],
      "text/plain": [
       "        date language                                              title  \\\n",
       "0 2022-01-06  english  No deal, no school: Chicago cancels classes fo...   \n",
       "1 2022-01-06  english  No deal, no school: Chicago cancels classes fo...   \n",
       "2 2022-01-06  english             Watch ‘Chicago P.D.’ Preview Wednesday   \n",
       "3 2022-01-06  english  Trump’s Solution for Chicago Public Schools? K...   \n",
       "4 2022-01-06  english  Family, friends, colleagues gathering today at...   \n",
       "\n",
       "                                                text  \n",
       "0  CHICAGO (AP) — Chicago school leaders canceled...  \n",
       "1  CHICAGO (AP) — Chicago school leaders canceled...  \n",
       "2  Chicago PD 9×11 “Lies” Season 9 Episode 11 Pro...  \n",
       "3  Wise of Foolish?\\nThe Chicago Tribune article ...  \n",
       "4  The neighbors near Mashawn Plummer’s Portage P...  "
      ]
     },
     "execution_count": 2,
     "metadata": {},
     "output_type": "execute_result"
    }
   ],
   "source": [
    "import pandas as pd\n",
    "df = pd.read_json('news_final_project.json', \n",
    "                                     orient='records', lines=True) \n",
    "\n",
    "df.head()"
   ]
  },
  {
   "cell_type": "code",
   "execution_count": 3,
   "id": "465cbd9a",
   "metadata": {},
   "outputs": [
    {
     "data": {
      "text/plain": [
       "(200119, 4)"
      ]
     },
     "execution_count": 3,
     "metadata": {},
     "output_type": "execute_result"
    }
   ],
   "source": [
    "df.shape"
   ]
  },
  {
   "cell_type": "code",
   "execution_count": 4,
   "id": "fb5c28eb",
   "metadata": {},
   "outputs": [
    {
     "data": {
      "text/plain": [
       "date        datetime64[ns]\n",
       "language            object\n",
       "title               object\n",
       "text                object\n",
       "dtype: object"
      ]
     },
     "execution_count": 4,
     "metadata": {},
     "output_type": "execute_result"
    }
   ],
   "source": [
    "df.dtypes"
   ]
  },
  {
   "cell_type": "code",
   "execution_count": 5,
   "id": "216d8abe",
   "metadata": {},
   "outputs": [
    {
     "data": {
      "text/plain": [
       "date        0\n",
       "language    0\n",
       "title       0\n",
       "text        0\n",
       "dtype: int64"
      ]
     },
     "execution_count": 5,
     "metadata": {},
     "output_type": "execute_result"
    }
   ],
   "source": [
    "df.isna().sum()"
   ]
  },
  {
   "cell_type": "code",
   "execution_count": 6,
   "id": "be52e9f4",
   "metadata": {},
   "outputs": [
    {
     "data": {
      "text/plain": [
       "english    200119\n",
       "Name: language, dtype: int64"
      ]
     },
     "execution_count": 6,
     "metadata": {},
     "output_type": "execute_result"
    }
   ],
   "source": [
    "df.language.value_counts()"
   ]
  },
  {
   "cell_type": "markdown",
   "id": "4c4e6861",
   "metadata": {},
   "source": [
    "## Preprocessing the text"
   ]
  },
  {
   "cell_type": "code",
   "execution_count": 7,
   "id": "eaf14bba",
   "metadata": {
    "scrolled": true
   },
   "outputs": [
    {
     "data": {
      "text/plain": [
       "['CHICAGO AP  Chicago school leaders canceled classes Thursday for a second consecutive day after failing to reach agreement with the teachers union over COVID19 safety protocols in the nations thirdlargest school district. The Chicago Teachers Union sought to revert to remote instruction during the latest surge of infections and while both sides hammer out a deal. But Chicago Public Schools leaders have said remote learning didnt work and schools can safely remain open with protocols in place. The move to cancel classes and activities Thursday affects roughly 350,000 students and came after closeddoor negotiations Wednesday failed to produce a deal. The issues include metrics for closing schools. We have no choice but to cancel classes tomorrow, Schools CEO Pedro Martinez said at a Wednesday evening news conference. Students returned to class Monday after a twoweek winter break with COVID19 infections and hospitalizations fueled by the omicron variant at record levels. School districts nationwide have grappled with the same issue , with most opting to stay open while ramping up virus testing, tweaking protocols and other adjustments in response to the shifting pandemic. White House press secretary Jen Psaki, echoing President Joe Biden a day earlier , said Wednesday that the country is better equipped now to make sure schools can safely open including in Chicago, while former President Donald Trump called the closures devastating. Chicago Teachers Union President Jesse Sharkey said teachers dont want to return to inperson instruction until the current surge has subsided. Wed rather be in our classes teaching, wed rather have the schools open. What we are saying though is that right now were in the middle of a major surge, it is breaking all the records and hospitals are full, he said during a Wednesday morning news conference with other union officials, teachers and parents. The unions action, approved by 73 of members, called for remote instruction until cases substantially subside or union leaders approve an agreement for safety protocols with the district. The district said early Tuesday that classes would be canceled Wednesday if the union voted not to return to inperson instruction. Devices were not distributed to students ahead of the union vote, which was announced just before 11 p.m. Tuesday. Union members who tried to log into teaching systems Wednesday said they were locked out. District officials blamed the union for the late cancellation, saying despite safety measures including a high teacher vaccination rate, our teachers are not willing to report to work. We are deeply concerned about this decision but even more concerned about its impact on the health, safety, and wellbeing of our students and families, the district said in a statement. CPS leaders said a plan would come later Wednesday to continue student learning in the district, where students are largely low income and Black and Latino. School officials labeled the union action an illegal work stoppage and said those who did not report to schools Wednesday would not be compensated. Last year during a similar debate, the district punished teachers who did not come to schools . Keyonna Payton, a teacher at Park Manor Elementary School who also chairs its safety committee, said she taught remotely Monday and Tuesday because most of her students were at home under quarantine. Payton said she is vaccinated and boosted, and she has a child who attends classes in the district who is also vaccinated, but shes fearful of the variant spreading to her family, including her 91yearold grandmother. Im doing my part to try to protect my children. However, I am afraid of this virus and variant because of how fast it is moving and spreading, she said during the Wednesday news conference. Danelda Craig, a parent who also spoke at the news conference, said she was taken aback by a suggestion from the citys public health commissioner that people could wear two masks to improve protection. Craig said most children struggle with one. We want them to go to school, she said. What we dont want is COVID with it. In Illinois, masks are required in indoor settings, including schools. While some significantly smaller, neighboring school districts have returned or plan to return to class this week, others have temporarily returned to remote learning. Niles Township High School District 219 in Skokie, just north of Chicago, switched to remote learning for the first two weeks of January due to staffing shortages, while the Lincoln Way district southwest of Chicago did so for one week, also due to staffing. In Chicago, the district proposed guidelines for individual school closures, saying safety measures like required masks, availability of vaccines and improved ventilation make schools among the safest places for kids to be. Roughly 100,000 students and 91 of CPS more than 47,000 staff in the district are vaccinated, according to the district. But the union, with roughly 25,000 members, has proposed metrics for districtwide closure, citing risks to students and teachers. A fierce battle took place last January over similar issues. The district said it has provided 200,000 KN95 masks to teachers, would allow schools to resume daily health screening questions for students and building visitors and would spell out metrics for closing individual schools. Schools CEO Pedro Martinez said buildings would remain open for essential services, but not instruction. The district said food service and COVID19 testing would be available at schools but afterschool activities would be canceled. ___ Associated Press writers Sara Burnett in Chicago and Rick Callahan in Indianapolis contributed to this report. ___ Follow Sophia Tareen on Twitter: https:twitter.comsophiatareen Sophia Tareen, The Associated Press']"
      ]
     },
     "execution_count": 7,
     "metadata": {},
     "output_type": "execute_result"
    }
   ],
   "source": [
    "df['text_clean'] = df['text'].map(lambda x: re.sub('[^a-zA-Z0-9 @ . , : - _]', '', str(x)))\n",
    "\n",
    "pd.set_option('display.max_colwidth', 900)\n",
    "df[['text', 'text_clean']].head(5)\n",
    "\n",
    "texts = df['text_clean'].tolist()\n",
    "texts[:1]"
   ]
  },
  {
   "cell_type": "code",
   "execution_count": 8,
   "id": "0bd64680",
   "metadata": {},
   "outputs": [
    {
     "name": "stdout",
     "output_type": "stream",
     "text": [
      "CPU times: total: 2min 37s\n",
      "Wall time: 2min 37s\n"
     ]
    }
   ],
   "source": [
    "%%time\n",
    "\n",
    "def sent_to_words(sentences):\n",
    "    for sentence in sentences:\n",
    "        yield(gensim.utils.simple_preprocess(str(sentence), deacc=True))  # deacc=True removes punctuations\n",
    "        \n",
    "        \n",
    "data_list = df['text'].tolist()        \n",
    "data_tokens = list(sent_to_words(data_list))"
   ]
  },
  {
   "cell_type": "code",
   "execution_count": 9,
   "id": "4349e8ac",
   "metadata": {},
   "outputs": [],
   "source": [
    "del data_list"
   ]
  },
  {
   "cell_type": "code",
   "execution_count": 10,
   "id": "227eb6a0",
   "metadata": {},
   "outputs": [
    {
     "name": "stdout",
     "output_type": "stream",
     "text": [
      "CPU times: total: 10min 14s\n",
      "Wall time: 10min 14s\n"
     ]
    }
   ],
   "source": [
    "%%time\n",
    "\n",
    "# bigram = gensim.models.Phrases(data_tokens, min_count=5, threshold=100)\n",
    "# trigram = gensim.models.Phrases(bigram[data_tokens], threshold=100)\n",
    "\n",
    "bigram = gensim.models.Phrases(data_tokens, min_count=1, threshold=1)\n",
    "trigram = gensim.models.Phrases(bigram[data_tokens], threshold=1)\n",
    "\n",
    "bigram_mod = gensim.models.phrases.Phraser(bigram)\n",
    "trigram_mod = gensim.models.phrases.Phraser(trigram)"
   ]
  },
  {
   "cell_type": "code",
   "execution_count": 11,
   "id": "4d3910b1",
   "metadata": {},
   "outputs": [
    {
     "name": "stdout",
     "output_type": "stream",
     "text": [
      "CPU times: total: 0 ns\n",
      "Wall time: 9 ms\n"
     ]
    }
   ],
   "source": [
    "%%time\n",
    "\n",
    "stop_words = stopwords.words('english')\n",
    "\n",
    "# Define functions for stopwords, bigrams, trigrams and lemmatization\n",
    "def remove_stopwords(texts):\n",
    "    return [[word for word in simple_preprocess(str(doc)) if word not in stop_words] for doc in texts]\n",
    "\n",
    "def make_bigrams(texts):\n",
    "    return [bigram_mod[doc] for doc in texts]\n",
    "\n",
    "def make_trigrams(texts):\n",
    "    return [trigram_mod[bigram_mod[doc]] for doc in texts]\n",
    "\n",
    "def lemmatization(texts, allowed_postags=['NOUN', 'ADJ', 'VERB', 'ADV']):\n",
    "    \"\"\"https://spacy.io/api/annotation\"\"\"\n",
    "    texts_out = []\n",
    "    for sent in texts:\n",
    "        doc = nlp(\" \".join(sent)) \n",
    "        texts_out.append([token.lemma_ for token in doc if token.pos_ in allowed_postags])\n",
    "    return texts_out"
   ]
  },
  {
   "cell_type": "code",
   "execution_count": 12,
   "id": "f0ab514b",
   "metadata": {},
   "outputs": [
    {
     "name": "stdout",
     "output_type": "stream",
     "text": [
      "['thursday', 'day', 'fail', 'protocol', 'nation_third', 'district', 'chicago_teacher', 'revert', 'remote_instruction', 'infection', 'deal', 'chicago_public', 'schools_leader', 'say', 'remote_learne', 'work', 'schools_safely', 'remain_open', 'protocol', 'place', 'move', 'cancel_classe', 'activity', 'thursday_affect', 'roughly_student', 'come', 'negotiations_wednesday', 'fail', 'produce_deal', 'metric', 'choice', 'cancel_classe', 'two_week', 'covid_infection', 'fuel', 'omicron_variant', 'school_district', 'nationwide', 'grapple', 'issue', 'opt', 'ramp', 'virus_teste', 'tweaking_protocol', 'adjustment', 'response', 'jen_psaki', 'joe_biden', 'day_earlier', 'say', 'wednesday', 'country', 'schools_safely', 'open', 'include', 'call', 'say', 'teacher', 'want', 'return', 'subside', 'rather', 'classes_teache', 'rather', 'right', 'middle', 'breaking_records', 'hospital', 'full', 'say', 'wednesday_morne', 'teacher', 'parent', 'approve', 'members_called', 'remote_instruction', 'cases_substantially', 'subside', 'union_leader', 'approve', 'agreement', 'district', 'district_said', 'union_voted', 'return', 'device', 'distribute', 'try', 'log', 'teaching_system', 'wednesday', 'say', 'lock', 'district_official', 'blame', 'union', 'include', 'teacher', 'willing', 'report', 'work', 'deeply_concerne', 'decision', 'even', 'concerned', 'impact', 'well', 'students_familie', 'plan', 'later_wednesday', 'learn', 'district', 'student', 'illegal_work', 'stoppage', 'say', 'report', 'school', 'year', 'district_punishe', 'teacher', 'come', 'say', 'monday', 'tuesday', 'student', 'home', 'say', 'child_attend', 'class', 'district', 'also', 'vaccinate', 'fearful', 'variant_spreade', 'family', 'include', 'grandmother', 'part', 'try', 'however', 'afraid', 'fast_move', 'spread', 'say', 'wednesday', 'parent', 'say', 'taken_aback', 'suggestion', 'city', 'commissioner', 'people', 'could_wear', 'mask', 'want', 'go', 'school', 'say', 'want', 'covid', 'indoor_setting', 'include', 'school', 'neighboring_school', 'district', 'return', 'plan', 'return', 'class', 'week', 'other', 'temporarily_returne', 'remote_learne', 'niles_township', 'high_school', 'district', 'switch', 'remote_learne', 'week', 'january', 'due', 'chicago', 'week', 'also', 'due', 'staffing', 'chicago', 'district_propose', 'guideline', 'required_mask', 'availability', 'vaccine', 'make', 'school', 'safest_place', 'kid', 'cps_staff', 'district', 'vaccinated_accorde', 'district', 'member', 'proposed_metric', 'students_teacher', 'last', 'january', 'similar_issue', 'mask', 'teacher', 'school', 'resume_daily', 'health_screene', 'question', 'student', 'building_visitor', 'would_spell', 'metric', 'closing_individual', 'school', 'say', 'essential_service', 'say', 'covid_teste', 'available', 'school', 'school_activitie', 'canceled_associated', 'press_writer', 'chicago', 'indianapolis_contributed', 'twitter_https', 'tareen_associated', 'press']\n",
      "CPU times: total: 2h 25min 52s\n",
      "Wall time: 2h 26min 1s\n"
     ]
    }
   ],
   "source": [
    "%%time\n",
    "\n",
    "# Remove Stop Words\n",
    "data_tokens_nostops = remove_stopwords(data_tokens)\n",
    "\n",
    "# Create n-grams\n",
    "data_words_bigrams = make_bigrams(data_tokens_nostops)\n",
    "# data_words_trigrams = make_trigrams(data_tokens_nostops)\n",
    "\n",
    "# Combine tokens and n-grams\n",
    "# data_tokens_cobnined = data_tokens_nostops + data_words_bigrams + data_words_trigrams\n",
    "data_tokens_cobined = data_words_bigrams\n",
    "\n",
    "# Initialize spacy 'en' model, keeping only tagger component (for efficiency)\n",
    "nlp = spacy.load(\"en_core_web_lg\", disable=['parser', 'ner'])\n",
    "\n",
    "# Lemmatize text keeping only noun, adj, vb, adv\n",
    "data_lemmatized = lemmatization(data_tokens_cobined, allowed_postags=['NOUN', 'ADJ', 'VERB', 'ADV'])\n",
    "\n",
    "print(*data_lemmatized[:1])"
   ]
  },
  {
   "cell_type": "code",
   "execution_count": 13,
   "id": "cc730cc0",
   "metadata": {},
   "outputs": [],
   "source": [
    "del data_tokens"
   ]
  },
  {
   "cell_type": "code",
   "execution_count": 14,
   "id": "eb37da69",
   "metadata": {},
   "outputs": [
    {
     "name": "stdout",
     "output_type": "stream",
     "text": [
      "CPU times: total: 31.7 s\n",
      "Wall time: 31.8 s\n"
     ]
    }
   ],
   "source": [
    "%%time\n",
    "\n",
    "# Creating the term dictionary of our courpus, where every unique term is assigned an index. \n",
    "dictionary = corpora.Dictionary(data_lemmatized)\n",
    "\n",
    "# Converting list of documents (corpus) into Document Term Matrix using dictionary prepared above.\n",
    "doc_term_matrix = [dictionary.doc2bow(doc) for doc in data_lemmatized]"
   ]
  },
  {
   "cell_type": "markdown",
   "id": "c6b77abd",
   "metadata": {},
   "source": [
    "## Implementing LDA"
   ]
  },
  {
   "cell_type": "code",
   "execution_count": 15,
   "id": "50845cf9",
   "metadata": {},
   "outputs": [
    {
     "name": "stdout",
     "output_type": "stream",
     "text": [
      "Using 11 workers\n"
     ]
    }
   ],
   "source": [
    "num_processors = multiprocessing.cpu_count()\n",
    "num_processors\n",
    "\n",
    "workers = num_processors-1\n",
    "\n",
    "print(f'Using {workers} workers')"
   ]
  },
  {
   "cell_type": "code",
   "execution_count": 16,
   "id": "3ceab6ce",
   "metadata": {},
   "outputs": [],
   "source": [
    "# supporting function\n",
    "def compute_coherence_values(corpus, dictionary, k, a, b):\n",
    "    \n",
    "    lda_model = LdaMulticore(corpus=doc_term_matrix,\n",
    "                       id2word=dictionary,\n",
    "                       num_topics=k,\n",
    "                       random_state=100,                  \n",
    "                       passes=10,\n",
    "                       alpha=a,\n",
    "                       eta=b,\n",
    "                       workers=workers)\n",
    "    \n",
    "    coherence_model_lda = CoherenceModel(model=lda_model, texts=data_lemmatized, dictionary=dictionary, coherence='c_v')\n",
    "    \n",
    "    return coherence_model_lda.get_coherence()\n",
    "\n",
    "\n",
    "\n",
    "import time\n",
    "start_time = time.time()\n",
    "\n",
    "def tic():\n",
    "    global start_time \n",
    "    start_time = time.time()\n",
    "\n",
    "def tac():\n",
    "    t_sec = round(time.time() - start_time)\n",
    "    (t_min, t_sec) = divmod(t_sec,60)\n",
    "    (t_hour,t_min) = divmod(t_min,60) \n",
    "    print(f'Execution time to calculate for topic {k}: {t_hour}hour:{t_min}min:{t_sec}sec'.format(t_hour,t_min,t_sec))"
   ]
  },
  {
   "cell_type": "code",
   "execution_count": 40,
   "id": "58df9615",
   "metadata": {},
   "outputs": [
    {
     "name": "stdout",
     "output_type": "stream",
     "text": [
      "LDA will execute 15 iterations\n",
      "Completed model based on 1 LDA topics. Finished 6.7% of LDA runs\n",
      "Execution time to calculate for topic 1: 0hour:8min:21sec\n",
      "Completed model based on 2 LDA topics. Finished 13.3% of LDA runs\n",
      "Execution time to calculate for topic 2: 0hour:9min:17sec\n",
      "Completed model based on 3 LDA topics. Finished 20.0% of LDA runs\n",
      "Execution time to calculate for topic 3: 0hour:9min:36sec\n",
      "Completed model based on 4 LDA topics. Finished 26.7% of LDA runs\n",
      "Execution time to calculate for topic 4: 0hour:9min:54sec\n",
      "Completed model based on 5 LDA topics. Finished 33.3% of LDA runs\n",
      "Execution time to calculate for topic 5: 0hour:10min:10sec\n",
      "Completed model based on 6 LDA topics. Finished 40.0% of LDA runs\n",
      "Execution time to calculate for topic 6: 0hour:10min:25sec\n",
      "Completed model based on 7 LDA topics. Finished 46.7% of LDA runs\n",
      "Execution time to calculate for topic 7: 0hour:10min:36sec\n",
      "Completed model based on 8 LDA topics. Finished 53.3% of LDA runs\n",
      "Execution time to calculate for topic 8: 0hour:10min:46sec\n",
      "Completed model based on 9 LDA topics. Finished 60.0% of LDA runs\n",
      "Execution time to calculate for topic 9: 0hour:11min:0sec\n",
      "Completed model based on 10 LDA topics. Finished 66.7% of LDA runs\n",
      "Execution time to calculate for topic 10: 0hour:11min:15sec\n",
      "Completed model based on 11 LDA topics. Finished 73.3% of LDA runs\n",
      "Execution time to calculate for topic 11: 0hour:11min:28sec\n",
      "Completed model based on 12 LDA topics. Finished 80.0% of LDA runs\n",
      "Execution time to calculate for topic 12: 0hour:11min:41sec\n",
      "Completed model based on 13 LDA topics. Finished 86.7% of LDA runs\n",
      "Execution time to calculate for topic 13: 0hour:11min:58sec\n",
      "Completed model based on 14 LDA topics. Finished 93.3% of LDA runs\n",
      "Execution time to calculate for topic 14: 0hour:12min:11sec\n",
      "Completed model based on 15 LDA topics. Finished 100.0% of LDA runs\n",
      "Execution time to calculate for topic 15: 0hour:12min:30sec\n",
      "CPU times: total: 2h 39min 10s\n",
      "Wall time: 2h 41min 23s\n"
     ]
    }
   ],
   "source": [
    "%%time\n",
    "# supporting function\n",
    "corpus_train = corpora.Dictionary(data_lemmatized)\n",
    "def compute_coherence_values(corpus, corpus_train, k, a, b):\n",
    "    \n",
    "    lda_model = LdaMulticore(corpus=doc_term_matrix,\n",
    "                       id2word=corpus_train,\n",
    "                       num_topics=k,\n",
    "                       random_state=100,                  \n",
    "                       passes=10,\n",
    "                       alpha=a,\n",
    "                       eta=b,\n",
    "                       workers=workers)\n",
    "\n",
    "    coherence_model_lda = gensim.models.coherencemodel.CoherenceModel(model=lda_model, corpus=corpus_train, \n",
    "                                                                      texts=data_lemmatized, coherence='c_v')\n",
    "\n",
    "    return coherence_model_lda.get_coherence()\n",
    "\n",
    "\n",
    "\n",
    "grid = {}\n",
    "grid['Validation_Set'] = {}\n",
    "# Topics range\n",
    "min_topics = 1\n",
    "max_topics = 15\n",
    "step_size = 1\n",
    "topics_range = range(min_topics, max_topics+1, step_size)\n",
    "\n",
    "# Alpha parameter\n",
    "# alpha = list(np.arange(0.01, 1, 0.3))\n",
    "# alpha.append('symmetric')\n",
    "# alpha.append('asymmetric')\n",
    "alpha = ['asymmetric'] # Run for number of topics only\n",
    "\n",
    "# Beta parameter\n",
    "# beta = list(np.arange(0.01, 1, 0.3))\n",
    "# beta.append('symmetric')\n",
    "beta = ['auto'] # Run for number of topics only\n",
    "\n",
    "\n",
    "# Validation sets\n",
    "num_of_docs = len(doc_term_matrix)\n",
    "corpus_sets = [# gensim.utils.ClippedCorpus(doc_term_matrix, num_of_docs*0.25), \n",
    "               # gensim.utils.ClippedCorpus(doc_term_matrix, num_of_docs*0.5), \n",
    "#                gensim.utils.ClippedCorpus(doc_term_matrix, num_of_docs*0.75), \n",
    "               doc_term_matrix]\n",
    "# corpus_title = ['75% Corpus', '100% Corpus']\n",
    "corpus_title = ['100% Corpus']\n",
    "model_results = {\n",
    "                 'Topics': [],\n",
    "                 'Alpha': [],\n",
    "                 'Beta': [],\n",
    "                 'Coherence': []\n",
    "                }\n",
    "\n",
    "itr = 0\n",
    "itr_total = len(beta)*len(alpha)*len(topics_range)*len(corpus_title)\n",
    "print(f'LDA will execute {itr_total} iterations')\n",
    "\n",
    "    \n",
    "# iterate through hyperparameters\n",
    "for i in range(len(corpus_sets)):\n",
    "    # iterate through number of topics\n",
    "    for k in topics_range:\n",
    "        # iterate through alpha values\n",
    "        tic()\n",
    "        for a in alpha:\n",
    "            # iterare through beta values\n",
    "            for b in beta:\n",
    "                # get the coherence score for the given parameters\n",
    "                itr += 1\n",
    "                cv = compute_coherence_values(corpus=corpus_sets[i], corpus_train=corpus_train, \n",
    "                                              k=k, a=a, b=b)\n",
    "                # Save the model results\n",
    "                model_results['Topics'].append(k)\n",
    "                model_results['Alpha'].append(a)\n",
    "                model_results['Beta'].append(b)\n",
    "                model_results['Coherence'].append(cv)\n",
    "                pct_completed = round((itr / itr_total * 100),1)\n",
    "#                 print(f'Completed Percent: {pct_completed}%, Corpus: {corpus_title[i]}, Topics: {k}, Alpha: {a}, Beta: {b}, Coherence: {cv}')\n",
    "        print(f'Completed model based on {k} LDA topics. Finished {pct_completed}% of LDA runs')\n",
    "        tac()\n",
    "                    \n",
    "lda_tuning = pd.DataFrame(model_results)\n",
    "# lda_tuning.to_csv(os.path.join(path_lda, 'lda_tuning_results1.csv'), index=False)"
   ]
  },
  {
   "cell_type": "code",
   "execution_count": 41,
   "id": "160910a1",
   "metadata": {},
   "outputs": [],
   "source": [
    "lda_tuning.to_csv('lda_tuning_results2.csv', index=False)"
   ]
  },
  {
   "cell_type": "code",
   "execution_count": 17,
   "id": "fbbb1402",
   "metadata": {},
   "outputs": [],
   "source": [
    "import pandas as pd\n",
    "lda_tuning = pd.read_csv('lda_tuning_results2.csv')"
   ]
  },
  {
   "cell_type": "code",
   "execution_count": 18,
   "id": "0fcf0faf",
   "metadata": {},
   "outputs": [
    {
     "data": {
      "text/html": [
       "<div>\n",
       "<style scoped>\n",
       "    .dataframe tbody tr th:only-of-type {\n",
       "        vertical-align: middle;\n",
       "    }\n",
       "\n",
       "    .dataframe tbody tr th {\n",
       "        vertical-align: top;\n",
       "    }\n",
       "\n",
       "    .dataframe thead th {\n",
       "        text-align: right;\n",
       "    }\n",
       "</style>\n",
       "<table border=\"1\" class=\"dataframe\">\n",
       "  <thead>\n",
       "    <tr style=\"text-align: right;\">\n",
       "      <th></th>\n",
       "      <th>Topics</th>\n",
       "      <th>Alpha</th>\n",
       "      <th>Beta</th>\n",
       "      <th>Coherence</th>\n",
       "    </tr>\n",
       "  </thead>\n",
       "  <tbody>\n",
       "    <tr>\n",
       "      <th>5</th>\n",
       "      <td>6</td>\n",
       "      <td>asymmetric</td>\n",
       "      <td>auto</td>\n",
       "      <td>0.499614</td>\n",
       "    </tr>\n",
       "    <tr>\n",
       "      <th>11</th>\n",
       "      <td>12</td>\n",
       "      <td>asymmetric</td>\n",
       "      <td>auto</td>\n",
       "      <td>0.477696</td>\n",
       "    </tr>\n",
       "    <tr>\n",
       "      <th>10</th>\n",
       "      <td>11</td>\n",
       "      <td>asymmetric</td>\n",
       "      <td>auto</td>\n",
       "      <td>0.474563</td>\n",
       "    </tr>\n",
       "    <tr>\n",
       "      <th>12</th>\n",
       "      <td>13</td>\n",
       "      <td>asymmetric</td>\n",
       "      <td>auto</td>\n",
       "      <td>0.467675</td>\n",
       "    </tr>\n",
       "    <tr>\n",
       "      <th>13</th>\n",
       "      <td>14</td>\n",
       "      <td>asymmetric</td>\n",
       "      <td>auto</td>\n",
       "      <td>0.467064</td>\n",
       "    </tr>\n",
       "    <tr>\n",
       "      <th>14</th>\n",
       "      <td>15</td>\n",
       "      <td>asymmetric</td>\n",
       "      <td>auto</td>\n",
       "      <td>0.461920</td>\n",
       "    </tr>\n",
       "    <tr>\n",
       "      <th>4</th>\n",
       "      <td>5</td>\n",
       "      <td>asymmetric</td>\n",
       "      <td>auto</td>\n",
       "      <td>0.445588</td>\n",
       "    </tr>\n",
       "    <tr>\n",
       "      <th>6</th>\n",
       "      <td>7</td>\n",
       "      <td>asymmetric</td>\n",
       "      <td>auto</td>\n",
       "      <td>0.423902</td>\n",
       "    </tr>\n",
       "    <tr>\n",
       "      <th>9</th>\n",
       "      <td>10</td>\n",
       "      <td>asymmetric</td>\n",
       "      <td>auto</td>\n",
       "      <td>0.415127</td>\n",
       "    </tr>\n",
       "    <tr>\n",
       "      <th>8</th>\n",
       "      <td>9</td>\n",
       "      <td>asymmetric</td>\n",
       "      <td>auto</td>\n",
       "      <td>0.411842</td>\n",
       "    </tr>\n",
       "  </tbody>\n",
       "</table>\n",
       "</div>"
      ],
      "text/plain": [
       "    Topics       Alpha  Beta  Coherence\n",
       "5        6  asymmetric  auto   0.499614\n",
       "11      12  asymmetric  auto   0.477696\n",
       "10      11  asymmetric  auto   0.474563\n",
       "12      13  asymmetric  auto   0.467675\n",
       "13      14  asymmetric  auto   0.467064\n",
       "14      15  asymmetric  auto   0.461920\n",
       "4        5  asymmetric  auto   0.445588\n",
       "6        7  asymmetric  auto   0.423902\n",
       "9       10  asymmetric  auto   0.415127\n",
       "8        9  asymmetric  auto   0.411842"
      ]
     },
     "execution_count": 18,
     "metadata": {},
     "output_type": "execute_result"
    }
   ],
   "source": [
    "lda_tuning.sort_values(by=['Coherence'], ascending=False).head(10)"
   ]
  },
  {
   "cell_type": "code",
   "execution_count": 19,
   "id": "58df61d9",
   "metadata": {},
   "outputs": [
    {
     "data": {
      "text/plain": [
       "<AxesSubplot:xlabel='Topics', ylabel='Coherence'>"
      ]
     },
     "execution_count": 19,
     "metadata": {},
     "output_type": "execute_result"
    },
    {
     "data": {
      "image/png": "[encoded data removed]",
      "text/plain": [
       "<Figure size 432x288 with 1 Axes>"
      ]
     },
     "metadata": {
      "needs_background": "light"
     },
     "output_type": "display_data"
    }
   ],
   "source": [
    "lda_tuning.plot(x ='Topics', y='Coherence', kind = 'line', xticks=range(1,15), ylabel = 'Coherence')"
   ]
  },
  {
   "cell_type": "code",
   "execution_count": 20,
   "id": "f0f362b0",
   "metadata": {},
   "outputs": [
    {
     "name": "stdout",
     "output_type": "stream",
     "text": [
      "Best Parameters: Topics: 6, Alpha: asymmetric, Beta: auto\n"
     ]
    }
   ],
   "source": [
    "lda_tuning_best = lda_tuning.loc[[5]] # Best params for N=9\n",
    "\n",
    "\n",
    "tuned_topics = int(lda_tuning_best['Topics'].to_string(index=False))\n",
    "\n",
    "\n",
    "# Since the values for Alpha and Beta can be float, symmetric and asymmetric, we will either strip or convert to float\n",
    "try:\n",
    "    tuned_alpha = float(lda_tuning_best['Alpha'].to_string(index=False))\n",
    "except:\n",
    "    tuned_alpha = lda_tuning_best['Alpha'].to_string(index=False).strip()\n",
    "    \n",
    "\n",
    "try:\n",
    "    tuned_beta = float(lda_tuning_best['Beta'].to_string(index=False))\n",
    "except:\n",
    "    tuned_beta = lda_tuning_best['Beta'].to_string(index=False).strip()    \n",
    "    \n",
    "print(f'Best Parameters: Topics: {tuned_topics}, Alpha: {tuned_alpha}, Beta: {tuned_beta}')"
   ]
  },
  {
   "cell_type": "code",
   "execution_count": 21,
   "id": "2920f254",
   "metadata": {},
   "outputs": [
    {
     "name": "stdout",
     "output_type": "stream",
     "text": [
      "\n",
      "Coherence Score:  0.5010804564822159\n",
      "CPU times: total: 11min 22s\n",
      "Wall time: 11min 41s\n"
     ]
    }
   ],
   "source": [
    "%%time\n",
    "\n",
    "tuned_lda_model = LdaMulticore(corpus=doc_term_matrix,\n",
    "                       id2word=dictionary,\n",
    "                       num_topics=tuned_topics,\n",
    "                       random_state=100,\n",
    "                       passes=10,\n",
    "                       alpha=tuned_alpha,\n",
    "                       eta=tuned_beta,\n",
    "                       workers = workers)\n",
    "\n",
    "\n",
    "\n",
    "coherence_model_lda = CoherenceModel(model=tuned_lda_model, texts=data_lemmatized, dictionary=dictionary, coherence='c_v')\n",
    "coherence_lda = coherence_model_lda.get_coherence()\n",
    "print('\\nCoherence Score: ', coherence_lda)"
   ]
  },
  {
   "cell_type": "code",
   "execution_count": 22,
   "id": "84145b6a",
   "metadata": {},
   "outputs": [
    {
     "name": "stderr",
     "output_type": "stream",
     "text": [
      "C:\\Users\\gargk\\anaconda3\\lib\\site-packages\\pyLDAvis\\_prepare.py:246: FutureWarning: In a future version of pandas all arguments of DataFrame.drop except for the argument 'labels' will be keyword-only.\n",
      "  default_term_info = default_term_info.sort_values(\n"
     ]
    },
    {
     "name": "stdout",
     "output_type": "stream",
     "text": [
      "CPU times: total: 2min 23s\n",
      "Wall time: 2min 33s\n"
     ]
    },
    {
     "data": {
      "text/html": [
       "\n",
       "<link rel=\"stylesheet\" type=\"text/css\" href=\"https://cdn.jsdelivr.net/gh/bmabey/pyLDAvis@3.3.1/pyLDAvis/js/ldavis.v1.0.0.css\">\n",
       "\n",
       "\n",
       "<div id=\"ldavis_el2913618859383592004956225252\"></div>\n",
       "<script type=\"text/javascript\">\n",
       "\n",
       "var ldavis_el2913618859383592004956225252_data = {\"mdsDat\": {\"x\": [-0.046053831877782704, -0.15445122220630716, -0.14700504156930327, -0.08210186295019718, 0.08585090491761033, 0.34376105368598], \"y\": [0.03740566997420316, -0.22719946073733258, -0.04323855364350511, 0.2991534896972508, -0.12195719542995566, 0.055836050139339344], \"topics\": [1, 2, 3, 4, 5, 6], \"cluster\": [1, 1, 1, 1, 1, 1], \"Freq\": [19.420850141670172, 17.66999629683692, 26.43088592752696, 7.870586904878567, 23.821134895609294, 4.78654583347808]}, \"tinfo\": {\"Term\": [\"game\", \"company\", \"share\", \"work\", \"season\", \"say\", \"team\", \"bear\", \"school\", \"stock\", \"play\", \"chicago\", \"bull\", \"win\", \"city\", \"sponsor\", \"additional_share\", \"point\", \"sweepstake\", \"state\", \"rating\", \"use\", \"case\", \"lawyer\", \"player\", \"right\", \"position\", \"charge\", \"value\", \"student\", \"document_body\", \"ads_show\", \"document_documentelement\", \"offsetwidth\", \"window_innerwidth\", \"winw_window\", \"offsetwidth_winw\", \"var_winw\", \"geolocated\", \"flickr\", \"explore_breaking\", \"modal_body\", \"online_simply\", \"top_hiring\", \"mccormick_place\", \"news_video\", \"illegal_work\", \"comments_observed\", \"best_experience\", \"ad_slot\", \"brief_powered\", \"union_voted\", \"share_team\", \"us_collect\", \"videos_wgn\", \"reading_new\", \"wgn_tagged\", \"travel_nurse\", \"installed_maintaine\", \"multiple_crashe\", \"remote_learne\", \"casino\", \"students_staff\", \"covid_safety\", \"union_vote\", \"cps\", \"ins_class\", \"else_document\", \"chicago_public\", \"cancel_classe\", \"chicago_teacher\", \"teachers_union\", \"district_official\", \"chicago_auto\", \"news_alert\", \"snow\", \"classroom\", \"teacher\", \"school\", \"museum\", \"district\", \"union\", \"student\", \"covid_case\", \"school_district\", \"restaurant\", \"mask\", \"city\", \"food\", \"chicago\", \"river\", \"county\", \"park\", \"news\", \"covid\", \"class\", \"resident\", \"illinois\", \"new\", \"say\", \"day\", \"com\", \"area\", \"open\", \"place\", \"week\", \"state\", \"include\", \"community\", \"show\", \"event\", \"accord\", \"make\", \"year\", \"also\", \"home\", \"see\", \"good\", \"get\", \"come\", \"time\", \"work\", \"go\", \"cockburn\", \"free_throw\", \"eberflus\", \"ago_failed\", \"derozan\", \"justin_field\", \"big_ten\", \"ago_faile\", \"chicago_bear\", \"quarterback\", \"points_rebound\", \"alex_caruso\", \"nagy\", \"minnesota_viking\", \"head_coache\", \"college_scoute\", \"nfl_network\", \"vucevic\", \"nfl_draft\", \"touchdown\", \"dosunmu\", \"kofi_cockburn\", \"layup\", \"cornerback\", \"udp_tracker\", \"special_team\", \"free_agency\", \"field_goal\", \"scored_point\", \"coaching_candidate\", \"bull\", \"game\", \"last_game\", \"playoff\", \"chicago_bull\", \"matchup\", \"nfl\", \"illini\", \"nba\", \"blackhawk\", \"averaging_point\", \"rambler\", \"packer\", \"free_agent\", \"viking\", \"offseason\", \"college_basketball\", \"pole\", \"averaged_point\", \"ball\", \"rebound\", \"coach\", \"bear\", \"league\", \"player\", \"pizza\", \"season\", \"second_half\", \"play\", \"win\", \"team\", \"draft\", \"opponent\", \"field\", \"point\", \"score\", \"buck\", \"victory\", \"offense\", \"pick\", \"lead\", \"go\", \"loss\", \"shoot\", \"first\", \"get\", \"make\", \"start\", \"good\", \"come\", \"time\", \"year\", \"back\", \"look\", \"also\", \"chicago\", \"say\", \"take\", \"illinois\", \"well\", \"kyiv\", \"function_stoppropagation\", \"severide\", \"voight\", \"halstead\", \"gunfire\", \"violet\", \"gunman\", \"ukrainian\", \"function_openweb\", \"pelham\", \"russian_force\", \"https_open\", \"ago_fetch\", \"stella\", \"police_said\", \"next_click\", \"tracking_addevent\", \"card_carousel__trigger\", \"var_assetid\", \"prev_owl\", \"app_classified\", \"return_else\", \"carousel_control\", \"activethings_function\", \"var_hasbeenlogged\", \"var_activething\", \"next_owl\", \"nav_false\", \"assettracked_push\", \"ukraine\", \"russia\", \"episode\", \"russian\", \"firehouse\", \"gun_violence\", \"stab\", \"homicide\", \"www_npr\", \"atwater\", \"boyfriend\", \"kardashian\", \"moscow\", \"law_order\", \"kidd\", \"firefighter\", \"actor\", \"flee\", \"fatal_shoote\", \"countries_breake\", \"chelsea\", \"cop\", \"detective\", \"violence\", \"carjacking\", \"suspect\", \"police\", \"woman\", \"kill\", \"sister\", \"trump\", \"gun\", \"daughter\", \"chicago_fire\", \"war\", \"cub\", \"arrest\", \"man\", \"character\", \"mother\", \"church\", \"girl\", \"die\", \"say\", \"tell\", \"officer\", \"crime\", \"murder\", \"baby\", \"scene\", \"block\", \"death\", \"life\", \"people\", \"family\", \"hospital\", \"show\", \"think\", \"take\", \"call\", \"fire\", \"leave\", \"go\", \"know\", \"see\", \"want\", \"chicago\", \"get\", \"accord\", \"year\", \"time\", \"shoot\", \"make\", \"come\", \"first\", \"also\", \"work\", \"new\", \"city\", \"day\", \"way\", \"home\", \"report\", \"additional_share\", \"industrial_product\", \"illinois_tool\", \"owns_share\", \"get_rate\", \"institutional_investor\", \"per_share\", \"company_stock\", \"hedge_fund\", \"quarter_compared\", \"price_objective\", \"current_ratio\", \"sell_rate\", \"day_moving\", \"beta\", \"net_margin\", \"holding\", \"retirement_fund\", \"quick_ratio\", \"recent_file\", \"research_analyst\", \"stock_currently\", \"th_finally\", \"dividend\", \"latest_filing\", \"ex_dividend\", \"underweight_rating\", \"company_reporte\", \"day_move\", \"hold_rating\", \"also_recently\", \"stock\", \"set_hold\", \"stake\", \"ratio\", \"investor\", \"rating\", \"purchasing\", \"transaction\", \"share\", \"company\", \"value\", \"worth\", \"market\", \"equity\", \"work\", \"position\", \"buy\", \"rate\", \"sale\", \"sell\", \"business\", \"report\", \"acquire\", \"purchase\", \"year\", \"product\", \"price\", \"service\", \"datum\", \"include\", \"team\", \"divorce_lawyer\", \"roofing\", \"roof_covere\", \"chicago_divorce\", \"new_beginning\", \"rehab_cent\", \"alcohol_drug\", \"rated_alcohol\", \"roofing_company\", \"dependency\", \"rehab_center\", \"individuals_live\", \"roof_shingle\", \"roofing_companie\", \"td_social\", \"shingle\", \"moon_rock\", \"moon_stone\", \"family_lawyer\", \"alcohol_rehabilitation\", \"new_roof\", \"detox\", \"chicago_employment\", \"chicago_table\", \"roofer\", \"alcohol_detox\", \"parent_time\", \"chicago_immigration\", \"total_individual\", \"recuperation\", \"known_detail\", \"known_fact\", \"simple_technique\", \"easy_fact\", \"insurance_lawyer\", \"content_section\", \"known_factual\", \"youngster\", \"roof\", \"alcohol\", \"rehab\", \"section\", \"therapy\", \"quantity\", \"method\", \"mom\", \"lawyer\", \"treatment\", \"dad\", \"individual\", \"loan\", \"instance\", \"various\", \"well\", \"social\", \"obtain\", \"function\", \"also\", \"certainly\", \"type\", \"fact\", \"need\", \"state\", \"actually\", \"use\", \"attorney\", \"service\", \"illinois\", \"require\", \"get\", \"time\", \"chicago\", \"court\", \"program\", \"cost\", \"find\", \"work\", \"make\", \"help\", \"provide\", \"business\", \"people\", \"go\", \"company\", \"know\", \"case\", \"even\", \"lot\", \"good\", \"day\", \"take\", \"sweepstake\", \"official_rule\", \"released_parties\", \"sponsor_reserve\", \"potential_winner\", \"arbitrate\", \"certain_term\", \"sweepstakes_entrant\", \"sweepstakes_entitie\", \"conditions_specifie\", \"prizewinner\", \"participating_station\", \"accident_lawyer\", \"disqualify\", \"actual_value\", \"smollett\", \"eligible_entrie\", \"approximate_retail\", \"prize_awarded\", \"irs_form\", \"sponsor_decision\", \"winning_prize\", \"sponsor_sole\", \"annoy_abuse\", \"way_intentionally\", \"prize_component\", \"remaining_eligible\", \"hotels_airline\", \"action_regulation\", \"releases_winner\", \"entrant\", \"forfeit\", \"van_dyke\", \"truck_accident\", \"chicago_truck\", \"prize\", \"claimant\", \"account_holder\", \"airline_ticket\", \"one_eligible\", \"set_forth\", \"chicago_accident\", \"travel_relate\", \"defendant\", \"arbitration\", \"sponsor\", \"discretion\", \"car_accident\", \"plaintiff\", \"personal_injury\", \"winner\", \"accident\", \"liability\", \"sentence\", \"violate\", \"accordance\", \"responsible\", \"award\", \"participate\", \"rule\", \"claim\", \"agree\", \"subject\", \"conduct\", \"law\", \"charge\", \"release\", \"prison\", \"event\", \"case\", \"right\", \"use\", \"state\", \"time\", \"court\", \"attorney\", \"require\", \"lawyer\", \"include\", \"provide\"], \"Freq\": [108984.0, 71986.0, 60418.0, 122353.0, 73298.0, 250175.0, 89846.0, 48220.0, 61811.0, 25334.0, 58622.0, 268891.0, 31775.0, 40869.0, 67915.0, 15788.0, 17153.0, 61303.0, 13608.0, 101599.0, 18099.0, 80317.0, 42410.0, 27683.0, 29014.0, 52810.0, 28519.0, 25372.0, 22701.0, 35963.0, 6088.279484618193, 4075.334246068086, 4074.2292157613265, 4003.222803585853, 2041.4544571525375, 2036.8761391483633, 1965.8836532964954, 1621.2853818349777, 1604.037238860778, 1543.184837824676, 1233.5155071966033, 1281.1087963559596, 1285.672875085436, 1178.7832559584529, 974.5812599808282, 689.7209707158852, 881.1793635034845, 581.9933076827242, 574.9667341649368, 591.2637014131079, 483.2607978943069, 474.9641514874809, 558.0711305961645, 557.2356685364978, 434.1133153730292, 548.1488206217228, 428.7285615229952, 433.86561458350775, 414.156815408664, 406.9605441611002, 7702.0437128529575, 3112.1693636950213, 1710.8978317739543, 1441.3575938038155, 1047.2509289738746, 3167.9804355859546, 1056.6033941282028, 1044.175558590265, 7732.532034162822, 695.6562446560857, 5093.427365300828, 2045.5297062759087, 1188.712802926903, 1885.2494572432809, 1659.2820257502724, 5629.2040165601475, 4801.973509473121, 13340.350224882493, 50801.53106591217, 4029.434648220025, 21427.678667750213, 15044.476577397736, 28176.649232102118, 4384.859462718175, 3509.4923833756334, 7202.402272412188, 8278.222976024845, 42383.782600817634, 7743.6155100461965, 122289.66009506621, 2985.0492559224017, 7552.592041039062, 6488.126454857858, 19259.03024636728, 12231.650879517314, 8427.279077658128, 8184.434037284152, 36783.938403928674, 28402.274451575744, 53789.15747407931, 25983.906080224137, 14400.723662581344, 14003.46980509212, 12850.059763078363, 15127.446170976918, 14242.117545416744, 24192.87946841096, 19372.065677281782, 12150.829382235383, 16172.096945800777, 12312.188217207475, 14803.874770453058, 21204.424365751525, 19388.100039444664, 22879.26350324899, 14907.842130518318, 15792.228147388614, 14693.961339634914, 18653.434832327606, 14963.588734484247, 16548.450677544708, 15412.304269584216, 14936.603587701109, 3968.3269751761463, 2748.44425563881, 3244.769082024344, 1818.6545383701991, 4924.373620177211, 2011.3214671920798, 3029.7532478865264, 1326.6265434802176, 6322.900657683427, 3987.499775862207, 2714.924100961968, 1709.080281142699, 2791.319176688858, 1428.232848409531, 1613.5507019257427, 1158.5250591729161, 1187.7807000623498, 1241.6268423678312, 1632.1857758115418, 1744.624777194421, 1312.1860803214804, 1071.4519706484007, 969.6612981770329, 944.9160419206661, 872.4047859213752, 915.5892166520609, 964.0625043864334, 931.7643007624501, 1990.01683671859, 832.3852838730348, 31737.05773244905, 105845.46341033581, 9675.860314972935, 5481.0012967966, 6259.384829311285, 4432.007214748648, 7973.789417278498, 4393.824767973588, 4296.0518842314195, 5438.484290805027, 3694.623606736633, 2677.428156339638, 3080.0806039608005, 2138.6646267796195, 2014.9981403762897, 3020.1069102962333, 2042.2416836040607, 8516.572016886541, 3096.772486663975, 12705.89118193823, 6867.229382007076, 16010.314482133419, 44074.97578787339, 12333.321252954958, 26516.51837061599, 13910.337711220978, 61390.697889006056, 3773.2962978594956, 45120.11281552031, 32378.815092857192, 65334.83185633945, 7883.893796935452, 7741.235745275432, 19023.16428734187, 41424.02850532308, 13303.6759581695, 6996.13688951129, 6962.459844462754, 6885.524336929194, 15426.018291542605, 23526.494263695164, 46067.65093404776, 11030.05372113112, 18007.696908933645, 25258.86692791534, 41735.95503800254, 34973.136055989096, 20967.758656448623, 22418.744595079028, 22206.134508219693, 28183.349014295283, 23527.07285032907, 16554.93420819912, 16649.38847618431, 23943.93996425824, 27376.710408524803, 24384.720473788773, 18754.210340680685, 19759.98411507085, 19217.415638075352, 1218.1231276196784, 949.9244826260376, 751.0112444703408, 727.6708367403683, 776.0141999927613, 1084.187089165366, 776.7190312411352, 654.6297904467222, 2057.169386858307, 711.1626975930924, 565.3265159912401, 594.0544985388306, 629.81114837561, 552.9671331467085, 547.3522277580083, 1694.7593098732043, 480.3066925328437, 473.4816644554557, 474.55980763929284, 473.4788427879458, 474.557678078908, 473.4797478511093, 473.47953489507086, 475.6337449413699, 473.4788427879458, 474.55634710366746, 473.47777800775333, 473.477405334686, 473.476979422609, 473.4776182907245, 11508.100024843563, 5587.334822221769, 6941.841279090024, 2601.9341455097197, 1352.2884132494194, 1423.4232900425914, 1055.4147052837516, 1810.3710136060263, 1292.7352570872436, 668.8033457831027, 666.682250400788, 861.3242292926022, 594.0172312320958, 639.9886368888394, 566.2334957591453, 1667.2704120355356, 3039.159299067064, 2066.560748155471, 744.0457718855722, 1709.3553167509283, 994.4875567612739, 2320.5913214307225, 1389.8337340924393, 4307.6138410364065, 1113.9453530271442, 4985.419264478324, 20712.48762386668, 16436.412146217743, 9833.54917824234, 2342.4501940009586, 2628.8524276422695, 5809.591928643064, 4513.683307148344, 8299.796346045496, 5060.055245022199, 10265.64890586544, 8391.747356166465, 22094.48202027043, 5815.219079003978, 7131.386634351799, 5730.8033053487425, 5571.4086919276715, 8861.179980984196, 160694.25516191986, 17610.878327645936, 14604.131576504322, 8085.678419415076, 7389.0668482145975, 3551.6233117132324, 6864.086344406505, 12340.407183766332, 10870.68597322099, 18426.28529535458, 42254.839374982635, 22920.67137811962, 10165.115767393549, 27932.48611765601, 23617.252283650556, 36140.455819907016, 24044.067294222627, 11836.345351618567, 18965.842639996932, 48012.84014783038, 31904.572813137478, 33944.18738191936, 25771.752376074026, 63274.74522506054, 46369.74290811331, 22505.51272927003, 33799.42157060594, 37412.702895965725, 18118.110649294656, 35364.62460239032, 26607.628678201792, 21903.080540177223, 32669.51431067023, 27660.345336955965, 23279.001430363398, 21332.852415048186, 22166.609378680958, 18707.47585586606, 18701.363165737403, 18570.712080654732, 17151.709526094593, 12928.775438143142, 10953.32388002476, 6631.585659345787, 6702.807732655243, 4541.4957387263585, 4452.904816103941, 4090.1747857350574, 4322.856336865724, 3565.7942744849315, 3471.382451169787, 3107.803687415952, 3093.1730559423672, 2885.660026226835, 3521.9789842130876, 2792.579136584984, 10196.198910925657, 2562.426283336739, 2431.872013790813, 2434.01540802358, 2318.218344356228, 2206.8381947451094, 2161.269887012596, 5020.630846487558, 2031.5788092505884, 2043.735532564152, 2054.817134403682, 2030.3580891624, 2126.1954598844263, 1676.2754496561524, 4373.649453403746, 24782.22952122827, 2112.8090116903354, 9583.765481688344, 4735.883078741443, 4571.30997201997, 15801.033289496308, 3025.3334870227277, 6279.0143030157315, 40671.53514125749, 45736.71104668052, 15275.39286828711, 11710.094745177243, 12351.906626490192, 4287.059370273408, 38613.170499156484, 13926.997507539838, 11883.21910709103, 11200.810070728856, 8844.796203193331, 7500.6135633239055, 12417.097264525477, 14982.78226806439, 6873.28240271631, 7143.628083154961, 16212.221024485925, 7662.427906060103, 7016.80560247915, 8602.460246394812, 6400.639877059479, 8380.460408226994, 7191.542710018019, 9786.129245845541, 11088.285625617938, 8216.192704010751, 7771.440149672252, 5274.693251970758, 5188.852989555796, 6266.5514298086855, 3269.004476123209, 3780.5813476121657, 3003.0533977965674, 2177.4971254170337, 2000.736814728335, 2242.905390122332, 2234.709444396438, 1904.3433341381092, 3578.2148242681465, 1996.3974910996264, 1908.2364227525866, 1919.4646553558289, 1793.8810711766332, 2075.2615168275925, 1740.8883121059891, 1691.483282549762, 1497.9487577648242, 1423.870866466913, 1237.9517020667734, 1197.8122387673257, 1363.3780963635368, 942.0838768118597, 966.221448465505, 3924.824848689673, 3574.5842945781715, 2643.9898657907875, 2315.1893206985155, 1965.6731067778558, 2763.5952442825574, 1919.7013038601501, 5000.619736739922, 12555.468734317741, 8174.81894506549, 7903.706127180686, 20774.838247771742, 4485.600042160524, 3672.2297282857426, 6636.991363635337, 12786.54592251286, 22853.171780787627, 10042.244728671418, 9811.384036431591, 22164.949564103958, 7531.466666690195, 6877.010141870451, 10835.588015107514, 75047.12219369868, 8784.150649813895, 9108.587496289583, 6786.015817058862, 90199.75087615893, 12403.120069949493, 14287.96533307869, 17586.003298695552, 46296.59751990879, 47500.8462909072, 14276.352858540613, 37023.98055797522, 12392.822693182388, 24378.97539182142, 40790.233251298174, 16258.700376314751, 50727.26555199489, 36707.82890422827, 51822.87941640622, 16121.210090381643, 17132.57478410617, 12358.539560630996, 21660.173122302844, 29647.868164394287, 29091.12655159401, 19012.59188034591, 17730.12818762734, 16542.330038366472, 20809.929017716633, 23517.14952134327, 19487.160226938493, 19536.21114741891, 16336.813959502655, 16540.92051150862, 15867.793129835374, 17142.229582452783, 16947.77322249651, 16323.206958397745, 13605.498600872043, 3281.329399887439, 2152.007658066004, 1796.686749186116, 1109.0827291721844, 1094.07745853719, 1073.8426881075363, 1071.8392034885646, 1072.8300317239953, 1071.4318732759452, 1070.6524618389979, 1083.090495436154, 4690.0872264298005, 2647.7753455019288, 1075.9523053477094, 1068.5061301164908, 725.9745106164268, 720.8658755146618, 720.861016244941, 754.5769435051279, 718.1103610579626, 715.9200645141729, 715.2184785240221, 717.1817777537161, 715.8431646425611, 713.2358193467106, 715.2087599845806, 715.2152390108749, 715.2152390108749, 714.2240251191173, 6958.368107422864, 3005.391063790234, 2673.2983897504823, 2164.52328571616, 1004.7903057009414, 11544.437651948805, 913.7014436360283, 745.6621118492765, 730.3945949118951, 724.0706024610969, 1977.0350739629962, 860.0604279768006, 1085.6778637342638, 2132.8359107362025, 3188.339946311609, 13535.216591832313, 2405.7724522462613, 1750.0396110177546, 1813.2127398498935, 2279.898546451341, 9271.182421387051, 5385.149454152354, 3253.7219603225008, 4130.050683405351, 2808.1525345143195, 3486.4458080870604, 6159.06112335109, 6508.104164276894, 6118.271642002871, 7815.847491865319, 7771.453203696993, 6264.143525242642, 4988.978901537228, 3772.491733728386, 6741.420071634725, 7050.773214531965, 6276.426524996327, 3343.318255270505, 6471.796317973938, 7179.500360096856, 7758.588942727193, 8121.032461179912, 7731.927441001218, 8143.138281845832, 5123.444304723409, 4390.9107826904865, 4202.568573566726, 4139.936443430158, 4519.782009459159, 4054.4231691477894], \"Total\": [108984.0, 71986.0, 60418.0, 122353.0, 73298.0, 250175.0, 89846.0, 48220.0, 61811.0, 25334.0, 58622.0, 268891.0, 31775.0, 40869.0, 67915.0, 15788.0, 17153.0, 61303.0, 13608.0, 101599.0, 18099.0, 80317.0, 42410.0, 27683.0, 29014.0, 52810.0, 28519.0, 25372.0, 22701.0, 35963.0, 6089.169752622751, 4076.1852040729705, 4075.0804978419837, 4004.0772474541327, 2042.2969992689125, 2037.721502221209, 1966.726501976606, 1622.126889699466, 1604.9556351903059, 1544.1884131046877, 1234.426491269193, 1282.4105159040007, 1286.9972492536363, 1180.0452150617107, 975.7362472902707, 690.5600406798179, 882.2674732200902, 582.8574953995512, 575.8382774483928, 592.2211083200175, 484.1704155989085, 475.85973566215006, 559.1258475772372, 558.2899619598822, 434.95050858888754, 549.20642933437, 429.5649828225122, 434.7161333130604, 415.0083448760576, 407.8132771067042, 7787.832856942397, 3139.1788145297146, 1724.7297902156276, 1452.6503917709392, 1052.8417660622372, 3220.9308833361674, 1062.4324503385124, 1050.4487873010835, 7945.675361958739, 698.1184414195857, 5278.883039389599, 2085.917844224602, 1203.26553111134, 1931.6219817386489, 1698.133690882481, 6005.397288725525, 5133.110629549074, 14936.944517864591, 61811.745983044355, 4307.857485254648, 25230.031876531157, 17699.436915245773, 35963.80453018833, 4877.85418982067, 3858.0711698304813, 8595.416075172636, 10425.848023343502, 67915.23675145762, 10065.97342389825, 268891.42226359807, 3441.857983555224, 11044.130823977393, 9395.085649050538, 39515.60509413909, 22712.38916849835, 13896.437988979527, 13817.14154589496, 112126.21211178457, 80488.58750010077, 250175.21279180003, 83931.84499351129, 34895.45969460604, 35055.38865271001, 30250.277362878696, 41001.84189313514, 38032.51235970381, 101599.13413499304, 70002.04241489698, 29291.26572692175, 55196.80342445162, 30971.77955167745, 51405.84593520533, 124822.66444725437, 108100.0513234407, 173004.1611473477, 59832.97649940517, 82588.48558206418, 68591.85417010878, 162575.88412528313, 76313.57498524005, 130532.94993737795, 122353.92331397475, 133475.7661238321, 3969.9674934905997, 2749.632500650088, 3246.3353009400766, 1819.5904449174463, 4927.022334969378, 2012.4488620118734, 3031.827294165828, 1327.5518275557413, 6327.382446272411, 3990.4985158898444, 2716.980325843786, 1710.426163963615, 2793.525352231377, 1429.3963397336518, 1614.9349706774303, 1159.5219104805883, 1188.8149496899061, 1242.716656789455, 1633.6808988685652, 1746.2695195721035, 1313.4347615547333, 1072.4779813053503, 970.6298207140541, 945.8606476343559, 873.2984554446632, 916.5322146369703, 965.0569656628384, 932.7387995714371, 1992.2460563349848, 833.3215121632946, 31775.82268218451, 108984.77101506933, 9753.039915554684, 5496.418141285124, 6286.644155514724, 4439.194741904182, 8036.172602576613, 4406.018854238379, 4317.549037712865, 5483.714484472149, 3716.193616009722, 2686.0381319687976, 3094.6162314921066, 2141.6639278070134, 2017.6367433372113, 3036.7295547322674, 2046.4187590803383, 8712.746387716295, 3117.923177633765, 13229.018660048583, 7058.022455407142, 16964.477340777354, 48220.12154702033, 13059.040662239819, 29014.110179383555, 15138.647435962203, 73298.87172758875, 3863.0615250687674, 58622.48466148767, 40869.862450840985, 89846.84106565293, 8818.186034818078, 8685.492365668499, 24257.80344949861, 61303.20061162869, 16496.718847815122, 7832.962015967707, 7844.655821935973, 7922.885249933905, 23412.43845903395, 48640.753592592664, 133475.7661238321, 16519.51901886649, 36921.15810619977, 68198.63281122377, 162575.88412528313, 124822.66444725437, 53493.69005452137, 68591.85417010878, 76313.57498524005, 130532.94993737795, 108100.0513234407, 46063.92192014234, 53134.10693325597, 173004.1611473477, 268891.42226359807, 250175.21279180003, 81853.67747199087, 112126.21211178457, 120157.51307838825, 1219.192960883353, 950.8022776061495, 751.8935152419062, 728.619878913514, 777.0269242202943, 1085.7248116333583, 777.8265275469136, 655.5849240953532, 2060.2380354796924, 712.2235659492828, 566.2041518186654, 594.9907254643576, 630.8037980741143, 553.8685608940152, 548.2537590466009, 1697.6158772063732, 481.1705195077195, 474.3347864108807, 475.4149049140056, 474.3341673777799, 475.415071127786, 474.3355156354642, 474.335640545827, 476.49400758248436, 474.3352121520789, 475.4150097542802, 474.3348283389038, 474.3345335229689, 474.3343384899744, 474.33501148177777, 11592.133266817395, 5616.425030222651, 7031.170161557816, 2619.4740754547693, 1355.9724996884024, 1432.2098939594969, 1060.3087415038565, 1829.9163884137304, 1304.224506659252, 670.4191745323446, 668.5546029637347, 866.0461107888833, 595.2049694877512, 641.973773381659, 567.3561336855113, 1691.169604922009, 3122.8925095801937, 2111.9805884727048, 747.7071770277754, 1747.8392652616917, 1005.7260616109888, 2409.037304358755, 1420.51671437149, 4560.722460831445, 1131.6668935671294, 5306.297803695077, 23312.504188746956, 18334.03329497999, 10823.341156843459, 2440.5953249565855, 2755.6531788706975, 6299.183600535422, 4853.659615687303, 9161.120502113103, 5531.054292655574, 11648.292075707679, 9498.238565064536, 27127.290569565605, 6492.427299867739, 8176.562635375748, 6467.162439101508, 6277.66985880997, 10412.0037886283, 250175.21279180003, 22342.647443678197, 18326.474600734557, 9594.19177739157, 8720.504339978455, 3904.970461080026, 8362.087956867797, 16687.790369776852, 14483.647904915131, 28377.465007310282, 78535.4892573848, 37971.08442456808, 13817.435389176973, 55196.80342445162, 44925.48469123864, 81853.67747199087, 47066.97793432757, 17881.050421633412, 34831.7335271217, 133475.7661238321, 74474.18705315042, 82588.48558206418, 60690.34367030753, 268891.42226359807, 162575.88412528313, 51405.84593520533, 108100.0513234407, 130532.94993737795, 36921.15810619977, 124822.66444725437, 76313.57498524005, 68198.63281122377, 173004.1611473477, 122353.92331397475, 80488.58750010077, 67915.23675145762, 83931.84499351129, 47649.660612881635, 59832.97649940517, 63097.38839034733, 17153.9359963249, 12930.777613945313, 10955.27111787375, 6632.942797283142, 6704.29532906514, 4542.692422371104, 4454.161382388998, 4091.357755345638, 4324.167317365588, 3566.9116935267048, 3472.515269289225, 3108.8922414139397, 3094.279784234456, 2886.7077066615534, 3523.2681460636068, 2793.6586157430233, 10200.239145009898, 2563.471381536823, 2432.9126978706804, 2435.0596842333152, 2319.291565301793, 2207.8616913092633, 2162.2754975142207, 5023.098689519746, 2032.5866151900723, 2044.7532347232448, 2055.85292048665, 2031.3926817144502, 2127.3282652728676, 1677.2540092684255, 4379.726938524063, 25334.739026074378, 2114.0472075684443, 10451.791152416721, 4983.242376729531, 4799.269211083389, 18099.80915463231, 3098.5257696850217, 6796.062685679803, 60418.75740922666, 71986.2599105625, 22701.656652521033, 17095.008148500594, 21422.42205894483, 5058.824072536345, 122353.92331397475, 28519.784769015438, 22959.491302935494, 23307.431079624483, 16626.644985662944, 14319.168027146809, 41283.00309285331, 63097.38839034733, 12937.42280825557, 14469.937868877349, 108100.0513234407, 19751.26430045181, 20248.97917093003, 48089.62586215689, 16385.527257755937, 70002.04241489698, 89846.84106565293, 9787.511347070189, 11089.923201351157, 8217.434781824482, 7772.756332179494, 5275.7149170483, 5189.864907761769, 6268.07665444824, 3269.957605903428, 3781.8654615858854, 3004.164245852049, 2178.4029057614453, 2001.5991719358337, 2243.8879895470986, 2235.7214422383295, 1905.2260283071464, 3579.8857863136086, 1997.334852566944, 1909.1642055459645, 1920.4222061802325, 1794.8015100239718, 2076.3337470867823, 1741.8231304322007, 1692.5900676980932, 1498.9393436685248, 1424.852471930024, 1238.8447757947938, 1198.731475670095, 1364.5993327540189, 942.9378932104481, 967.117441089778, 3934.7034317326907, 3583.6904102987132, 2649.891137613295, 2319.2131049778504, 1968.4020611387389, 2778.5629384567847, 1924.9981360314819, 5103.082703124285, 13165.953969133805, 8543.28593017595, 8310.329388827291, 22848.857141714983, 4648.123768903755, 3800.586685933189, 7102.8441261532425, 14634.467829424457, 27683.71302889383, 11374.570531864343, 11522.620291961688, 28502.410318833277, 8612.57075754206, 7800.79742395113, 13029.109941818188, 120157.51307838825, 10376.126597749319, 10937.635001211183, 7786.732380703199, 173004.1611473477, 16013.030078339676, 19055.933623991717, 25778.737896844534, 88083.76308189792, 101599.13413499304, 20725.172870624112, 80317.1583734742, 17777.53068357515, 48089.62586215689, 112126.21211178457, 27669.75757908447, 162575.88412528313, 130532.94993737795, 268891.42226359807, 31056.904357556603, 35321.75418733673, 19322.965970953814, 59585.81075984148, 122353.92331397475, 124822.66444725437, 49129.96235875487, 42343.141023422824, 41283.00309285331, 78535.4892573848, 133475.7661238321, 71986.2599105625, 74474.18705315042, 42410.699131653826, 46771.07772168411, 39339.46167247301, 68591.85417010878, 83931.84499351129, 81853.67747199087, 13608.721152203125, 3282.503173515625, 2153.0618146056086, 1797.7019797646951, 1110.0390828072013, 1095.0348389808155, 1074.7933698041184, 1072.7917809137427, 1073.784191764335, 1072.3901013573577, 1071.6119539987421, 1084.0782358233564, 4694.540017363056, 2650.399609153235, 1077.0329251197707, 1069.7506226171085, 726.892200902473, 721.7842422601533, 721.7811756120218, 755.5449603067115, 719.0331581549192, 716.8405470330764, 716.1388532529676, 718.1049333857109, 716.7646045578222, 714.1545127640755, 716.1303924229143, 716.1382483280166, 716.1384275028889, 715.1475009405128, 7009.182297641131, 3011.4527444104524, 2677.9678385371985, 2167.7714441346325, 1006.1166893882721, 11851.631716704238, 916.095759935467, 746.6388299643786, 731.3915122339743, 725.0235338931758, 2005.387933100483, 862.9284217918032, 1094.861889200573, 2185.913177052336, 3426.5643665634575, 15788.631226186286, 2574.1273772651184, 1854.5022507675078, 1944.6206695154208, 2553.120899153514, 13072.063695027817, 6964.839116891228, 3992.9566893756, 5455.533385999215, 3445.0561084461688, 4628.921143060028, 9560.71270407154, 11993.065762379505, 11491.547995021778, 17132.45936896959, 17464.590329115632, 13490.591526799119, 10156.500388519074, 6843.22712124599, 21431.571018840357, 25372.586268164247, 21737.53105860025, 5744.3552045456445, 30971.77955167745, 42410.699131653826, 52810.74074470086, 80317.1583734742, 101599.13413499304, 130532.94993737795, 31056.904357556603, 17777.53068357515, 27669.75757908447, 27683.71302889383, 70002.04241489698, 42343.141023422824], \"Category\": [\"Default\", \"Default\", \"Default\", \"Default\", \"Default\", \"Default\", \"Default\", \"Default\", \"Default\", \"Default\", \"Default\", \"Default\", \"Default\", \"Default\", \"Default\", \"Default\", \"Default\", \"Default\", \"Default\", \"Default\", \"Default\", \"Default\", \"Default\", \"Default\", \"Default\", \"Default\", \"Default\", \"Default\", \"Default\", \"Default\", \"Topic1\", \"Topic1\", \"Topic1\", \"Topic1\", \"Topic1\", \"Topic1\", \"Topic1\", \"Topic1\", \"Topic1\", \"Topic1\", \"Topic1\", \"Topic1\", \"Topic1\", \"Topic1\", \"Topic1\", \"Topic1\", \"Topic1\", \"Topic1\", \"Topic1\", \"Topic1\", \"Topic1\", \"Topic1\", \"Topic1\", \"Topic1\", \"Topic1\", \"Topic1\", \"Topic1\", \"Topic1\", \"Topic1\", \"Topic1\", \"Topic1\", \"Topic1\", \"Topic1\", \"Topic1\", \"Topic1\", \"Topic1\", \"Topic1\", \"Topic1\", \"Topic1\", \"Topic1\", \"Topic1\", \"Topic1\", \"Topic1\", \"Topic1\", \"Topic1\", \"Topic1\", \"Topic1\", \"Topic1\", \"Topic1\", \"Topic1\", \"Topic1\", \"Topic1\", \"Topic1\", \"Topic1\", \"Topic1\", \"Topic1\", \"Topic1\", \"Topic1\", \"Topic1\", \"Topic1\", \"Topic1\", \"Topic1\", \"Topic1\", \"Topic1\", \"Topic1\", \"Topic1\", \"Topic1\", \"Topic1\", \"Topic1\", \"Topic1\", \"Topic1\", \"Topic1\", \"Topic1\", \"Topic1\", \"Topic1\", \"Topic1\", \"Topic1\", \"Topic1\", \"Topic1\", \"Topic1\", \"Topic1\", \"Topic1\", \"Topic1\", \"Topic1\", \"Topic1\", \"Topic1\", \"Topic1\", \"Topic1\", \"Topic1\", \"Topic1\", \"Topic1\", \"Topic1\", \"Topic1\", \"Topic2\", \"Topic2\", \"Topic2\", \"Topic2\", \"Topic2\", \"Topic2\", \"Topic2\", \"Topic2\", \"Topic2\", \"Topic2\", \"Topic2\", \"Topic2\", \"Topic2\", \"Topic2\", \"Topic2\", \"Topic2\", \"Topic2\", \"Topic2\", \"Topic2\", \"Topic2\", \"Topic2\", \"Topic2\", \"Topic2\", \"Topic2\", \"Topic2\", \"Topic2\", \"Topic2\", \"Topic2\", \"Topic2\", \"Topic2\", \"Topic2\", \"Topic2\", \"Topic2\", \"Topic2\", \"Topic2\", \"Topic2\", \"Topic2\", \"Topic2\", \"Topic2\", \"Topic2\", \"Topic2\", \"Topic2\", \"Topic2\", \"Topic2\", \"Topic2\", \"Topic2\", \"Topic2\", \"Topic2\", \"Topic2\", \"Topic2\", \"Topic2\", \"Topic2\", \"Topic2\", \"Topic2\", \"Topic2\", \"Topic2\", \"Topic2\", \"Topic2\", \"Topic2\", \"Topic2\", \"Topic2\", \"Topic2\", \"Topic2\", \"Topic2\", \"Topic2\", \"Topic2\", \"Topic2\", \"Topic2\", \"Topic2\", \"Topic2\", \"Topic2\", \"Topic2\", \"Topic2\", \"Topic2\", \"Topic2\", \"Topic2\", \"Topic2\", \"Topic2\", \"Topic2\", \"Topic2\", \"Topic2\", \"Topic2\", \"Topic2\", \"Topic2\", \"Topic2\", \"Topic2\", \"Topic2\", \"Topic2\", \"Topic2\", \"Topic2\", \"Topic3\", \"Topic3\", \"Topic3\", \"Topic3\", \"Topic3\", \"Topic3\", \"Topic3\", \"Topic3\", \"Topic3\", \"Topic3\", \"Topic3\", \"Topic3\", \"Topic3\", \"Topic3\", \"Topic3\", \"Topic3\", \"Topic3\", \"Topic3\", \"Topic3\", \"Topic3\", \"Topic3\", \"Topic3\", \"Topic3\", \"Topic3\", \"Topic3\", \"Topic3\", \"Topic3\", \"Topic3\", \"Topic3\", \"Topic3\", \"Topic3\", \"Topic3\", \"Topic3\", \"Topic3\", \"Topic3\", \"Topic3\", \"Topic3\", \"Topic3\", \"Topic3\", \"Topic3\", \"Topic3\", \"Topic3\", \"Topic3\", \"Topic3\", \"Topic3\", \"Topic3\", \"Topic3\", \"Topic3\", \"Topic3\", \"Topic3\", \"Topic3\", \"Topic3\", \"Topic3\", \"Topic3\", \"Topic3\", \"Topic3\", \"Topic3\", \"Topic3\", \"Topic3\", \"Topic3\", \"Topic3\", \"Topic3\", \"Topic3\", \"Topic3\", \"Topic3\", \"Topic3\", \"Topic3\", \"Topic3\", \"Topic3\", \"Topic3\", \"Topic3\", \"Topic3\", \"Topic3\", \"Topic3\", \"Topic3\", \"Topic3\", \"Topic3\", \"Topic3\", \"Topic3\", \"Topic3\", \"Topic3\", \"Topic3\", \"Topic3\", \"Topic3\", \"Topic3\", \"Topic3\", \"Topic3\", \"Topic3\", \"Topic3\", \"Topic3\", \"Topic3\", \"Topic3\", \"Topic3\", \"Topic3\", \"Topic3\", \"Topic3\", \"Topic3\", \"Topic3\", \"Topic3\", \"Topic3\", \"Topic3\", \"Topic3\", \"Topic3\", \"Topic3\", \"Topic3\", \"Topic3\", \"Topic3\", \"Topic3\", \"Topic3\", \"Topic3\", \"Topic3\", \"Topic3\", \"Topic3\", \"Topic4\", \"Topic4\", \"Topic4\", \"Topic4\", \"Topic4\", \"Topic4\", \"Topic4\", \"Topic4\", \"Topic4\", \"Topic4\", \"Topic4\", \"Topic4\", \"Topic4\", \"Topic4\", \"Topic4\", \"Topic4\", \"Topic4\", \"Topic4\", \"Topic4\", \"Topic4\", \"Topic4\", \"Topic4\", \"Topic4\", \"Topic4\", \"Topic4\", \"Topic4\", \"Topic4\", \"Topic4\", \"Topic4\", \"Topic4\", \"Topic4\", \"Topic4\", \"Topic4\", \"Topic4\", \"Topic4\", \"Topic4\", \"Topic4\", \"Topic4\", \"Topic4\", \"Topic4\", \"Topic4\", \"Topic4\", \"Topic4\", \"Topic4\", \"Topic4\", \"Topic4\", \"Topic4\", \"Topic4\", \"Topic4\", \"Topic4\", \"Topic4\", \"Topic4\", \"Topic4\", \"Topic4\", \"Topic4\", \"Topic4\", \"Topic4\", \"Topic4\", \"Topic4\", \"Topic4\", \"Topic4\", \"Topic4\", \"Topic5\", \"Topic5\", \"Topic5\", \"Topic5\", \"Topic5\", \"Topic5\", \"Topic5\", \"Topic5\", \"Topic5\", \"Topic5\", \"Topic5\", \"Topic5\", \"Topic5\", \"Topic5\", \"Topic5\", \"Topic5\", \"Topic5\", \"Topic5\", \"Topic5\", \"Topic5\", \"Topic5\", \"Topic5\", \"Topic5\", \"Topic5\", \"Topic5\", \"Topic5\", \"Topic5\", \"Topic5\", \"Topic5\", \"Topic5\", \"Topic5\", \"Topic5\", \"Topic5\", \"Topic5\", \"Topic5\", \"Topic5\", \"Topic5\", \"Topic5\", \"Topic5\", \"Topic5\", \"Topic5\", \"Topic5\", \"Topic5\", \"Topic5\", \"Topic5\", \"Topic5\", \"Topic5\", \"Topic5\", \"Topic5\", \"Topic5\", \"Topic5\", \"Topic5\", \"Topic5\", \"Topic5\", \"Topic5\", \"Topic5\", \"Topic5\", \"Topic5\", \"Topic5\", \"Topic5\", \"Topic5\", \"Topic5\", \"Topic5\", \"Topic5\", \"Topic5\", \"Topic5\", \"Topic5\", \"Topic5\", \"Topic5\", \"Topic5\", \"Topic5\", \"Topic5\", \"Topic5\", \"Topic5\", \"Topic5\", \"Topic5\", \"Topic5\", \"Topic5\", \"Topic5\", \"Topic5\", \"Topic5\", \"Topic5\", \"Topic5\", \"Topic5\", \"Topic5\", \"Topic5\", \"Topic5\", \"Topic5\", \"Topic5\", \"Topic5\", \"Topic5\", \"Topic6\", \"Topic6\", \"Topic6\", \"Topic6\", \"Topic6\", \"Topic6\", \"Topic6\", \"Topic6\", \"Topic6\", \"Topic6\", \"Topic6\", \"Topic6\", \"Topic6\", \"Topic6\", \"Topic6\", \"Topic6\", \"Topic6\", \"Topic6\", \"Topic6\", \"Topic6\", \"Topic6\", \"Topic6\", \"Topic6\", \"Topic6\", \"Topic6\", \"Topic6\", \"Topic6\", \"Topic6\", \"Topic6\", \"Topic6\", \"Topic6\", \"Topic6\", \"Topic6\", \"Topic6\", \"Topic6\", \"Topic6\", \"Topic6\", \"Topic6\", \"Topic6\", \"Topic6\", \"Topic6\", \"Topic6\", \"Topic6\", \"Topic6\", \"Topic6\", \"Topic6\", \"Topic6\", \"Topic6\", \"Topic6\", \"Topic6\", \"Topic6\", \"Topic6\", \"Topic6\", \"Topic6\", \"Topic6\", \"Topic6\", \"Topic6\", \"Topic6\", \"Topic6\", \"Topic6\", \"Topic6\", \"Topic6\", \"Topic6\", \"Topic6\", \"Topic6\", \"Topic6\", \"Topic6\", \"Topic6\", \"Topic6\", \"Topic6\", \"Topic6\", \"Topic6\", \"Topic6\", \"Topic6\", \"Topic6\", \"Topic6\", \"Topic6\", \"Topic6\", \"Topic6\", \"Topic6\"], \"logprob\": [30.0, 29.0, 28.0, 27.0, 26.0, 25.0, 24.0, 23.0, 22.0, 21.0, 20.0, 19.0, 18.0, 17.0, 16.0, 15.0, 14.0, 13.0, 12.0, 11.0, 10.0, 9.0, 8.0, 7.0, 6.0, 5.0, 4.0, 3.0, 2.0, 1.0, -6.7834, -7.1848, -7.1851, -7.2027, -7.8761, -7.8784, -7.9138, -8.1066, -8.1173, -8.1559, -8.3799, -8.3421, -8.3385, -8.4253, -8.6155, -8.9613, -8.7163, -9.1311, -9.1432, -9.1153, -9.317, -9.3343, -9.1731, -9.1746, -9.4242, -9.191, -9.4367, -9.4248, -9.4713, -9.4888, -6.5483, -7.4545, -8.0528, -8.2242, -8.5436, -7.4367, -8.5347, -8.5466, -6.5443, -8.9527, -6.9618, -7.8741, -8.4169, -7.9557, -8.0834, -6.8618, -7.0208, -5.999, -4.6619, -7.1962, -5.5251, -5.8788, -5.2513, -7.1116, -7.3343, -6.6154, -6.4762, -4.843, -6.5429, -3.7834, -7.4962, -6.5679, -6.7198, -5.6318, -6.0858, -6.4583, -6.4876, -4.9847, -5.2433, -4.6047, -5.3323, -5.9225, -5.9505, -6.0364, -5.8733, -5.9336, -5.4037, -5.626, -6.0924, -5.8065, -6.0792, -5.8949, -5.5356, -5.6251, -5.4596, -5.8879, -5.8303, -5.9023, -5.6638, -5.8842, -5.7835, -5.8546, -5.886, -7.117, -7.4843, -7.3183, -7.8972, -6.9011, -7.7965, -7.3868, -8.2127, -6.6511, -7.1121, -7.4965, -7.9594, -7.4688, -8.1389, -8.0169, -8.3482, -8.3232, -8.2789, -8.0054, -7.9388, -8.2236, -8.4263, -8.5261, -8.552, -8.6318, -8.5835, -8.5319, -8.566, -7.8072, -8.6788, -5.0378, -3.8333, -6.2257, -6.794, -6.6612, -7.0065, -6.4191, -7.0151, -7.0376, -6.8018, -7.1884, -7.5104, -7.3704, -7.7351, -7.7947, -7.39, -7.7813, -6.3533, -7.3649, -5.9532, -6.5685, -5.7221, -4.7094, -5.983, -5.2175, -5.8627, -4.378, -7.1674, -4.686, -5.0178, -4.3158, -6.4305, -6.4487, -5.5496, -4.7714, -5.9073, -6.5499, -6.5548, -6.5659, -5.7593, -5.3372, -4.6652, -6.0947, -5.6045, -5.2661, -4.7639, -4.9407, -5.4523, -5.3854, -5.3949, -5.1566, -5.3372, -5.6886, -5.6829, -5.3196, -5.1856, -5.3013, -5.5639, -5.5116, -5.5395, -8.7007, -8.9493, -9.1843, -9.2159, -9.1516, -8.8171, -9.1506, -9.3217, -8.1766, -9.2388, -9.4683, -9.4188, -9.3603, -9.4904, -9.5006, -8.3704, -9.6313, -9.6456, -9.6433, -9.6456, -9.6433, -9.6456, -9.6456, -9.6411, -9.6456, -9.6433, -9.6456, -9.6456, -9.6456, -9.6456, -6.4549, -7.1775, -6.9604, -7.9417, -8.5962, -8.5449, -8.844, -8.3044, -8.6412, -9.3002, -9.3034, -9.0473, -9.4188, -9.3443, -9.4667, -8.3868, -7.7864, -8.1721, -9.1936, -8.3619, -8.9035, -8.0561, -8.5688, -7.4376, -8.7901, -7.2915, -5.8672, -6.0985, -6.6122, -8.0468, -7.9314, -7.1385, -7.3909, -6.7817, -7.2766, -6.5692, -6.7707, -5.8026, -7.1375, -6.9335, -7.1521, -7.1803, -6.7163, -3.8185, -6.0295, -6.2167, -6.8079, -6.898, -7.6306, -6.9717, -6.3851, -6.5119, -5.9842, -5.1543, -5.7659, -6.579, -5.5682, -5.736, -5.3106, -5.7181, -6.4268, -5.9553, -5.0265, -5.4352, -5.3733, -5.6487, -4.7505, -5.0613, -5.7842, -5.3775, -5.276, -6.0011, -5.3323, -5.6168, -5.8113, -5.4115, -5.578, -5.7504, -5.8377, -5.7994, -5.969, -5.9694, -5.9764, -4.8445, -5.1271, -5.2929, -5.7947, -5.784, -6.1733, -6.193, -6.278, -6.2227, -6.4152, -6.442, -6.5527, -6.5574, -6.6268, -6.4275, -6.6596, -5.3646, -6.7456, -6.7979, -6.797, -6.8458, -6.895, -6.9159, -6.073, -6.9778, -6.9718, -6.9664, -6.9784, -6.9322, -7.17, -6.211, -4.4764, -6.9386, -5.4265, -6.1314, -6.1668, -4.9265, -6.5795, -5.8494, -3.981, -3.8637, -4.9603, -5.2261, -5.1728, -6.231, -4.033, -5.0527, -5.2114, -5.2706, -5.5067, -5.6716, -5.1675, -4.9797, -5.7589, -5.7203, -4.9008, -5.6502, -5.7383, -5.5345, -5.8302, -5.5607, -5.7137, -6.513, -6.3881, -6.6879, -6.7436, -7.1311, -7.1475, -6.9588, -7.6095, -7.4641, -7.6944, -8.0158, -8.1005, -7.9862, -7.9899, -8.1499, -7.5191, -8.1027, -8.1478, -8.142, -8.2096, -8.0639, -8.2396, -8.2684, -8.3899, -8.4406, -8.5806, -8.6135, -8.484, -8.8537, -8.8284, -7.4267, -7.5202, -7.8217, -7.9545, -8.1182, -7.7775, -8.1418, -7.1844, -6.2639, -6.693, -6.7267, -5.7603, -7.2931, -7.4932, -6.9014, -6.2456, -5.6649, -6.4872, -6.5105, -5.6955, -6.7749, -6.8658, -6.4112, -4.4759, -6.6211, -6.5848, -6.8791, -4.292, -6.2761, -6.1346, -5.9269, -4.9589, -4.9333, -6.1354, -5.1824, -6.2769, -5.6003, -5.0856, -6.0054, -4.8675, -5.191, -4.8462, -6.0139, -5.953, -6.2797, -5.7185, -5.4046, -5.4236, -5.8489, -5.9187, -5.9881, -5.7586, -5.6363, -5.8243, -5.8217, -6.0006, -5.9882, -6.0297, -5.9525, -5.9639, -6.0014, -4.5788, -6.001, -6.4228, -6.6033, -7.0857, -7.0993, -7.118, -7.1199, -7.1189, -7.1203, -7.121, -7.1094, -5.6438, -6.2155, -7.116, -7.123, -7.5095, -7.5165, -7.5166, -7.4708, -7.5204, -7.5234, -7.5244, -7.5217, -7.5235, -7.5272, -7.5244, -7.5244, -7.5244, -7.5258, -5.2493, -6.0888, -6.2059, -6.417, -7.1845, -4.743, -7.2795, -7.4827, -7.5034, -7.5121, -6.5076, -7.34, -7.107, -6.4318, -6.0297, -4.584, -6.3114, -6.6296, -6.5941, -6.3651, -4.9623, -5.5056, -6.0094, -5.771, -6.1567, -5.9404, -5.3713, -5.3162, -5.378, -5.1331, -5.1388, -5.3544, -5.582, -5.8615, -5.281, -5.2361, -5.3524, -5.9823, -5.3218, -5.218, -5.1404, -5.0948, -5.1439, -5.0921, -5.5554, -5.7097, -5.7536, -5.7686, -5.6808, -5.7894], \"loglift\": [30.0, 29.0, 28.0, 27.0, 26.0, 25.0, 24.0, 23.0, 22.0, 21.0, 20.0, 19.0, 18.0, 17.0, 16.0, 15.0, 14.0, 13.0, 12.0, 11.0, 10.0, 9.0, 8.0, 7.0, 6.0, 5.0, 4.0, 3.0, 2.0, 1.0, 1.6387, 1.6386, 1.6386, 1.6386, 1.6384, 1.6384, 1.6384, 1.6383, 1.6383, 1.6382, 1.6381, 1.6378, 1.6378, 1.6378, 1.6376, 1.6376, 1.6376, 1.6373, 1.6373, 1.6372, 1.6369, 1.6369, 1.6369, 1.6369, 1.6369, 1.6369, 1.6369, 1.6369, 1.6368, 1.6367, 1.6277, 1.6302, 1.6308, 1.631, 1.6335, 1.6222, 1.6333, 1.6328, 1.6116, 1.6353, 1.6031, 1.6193, 1.6267, 1.6145, 1.6157, 1.5741, 1.5721, 1.5258, 1.4427, 1.572, 1.4755, 1.4763, 1.3948, 1.5323, 1.5441, 1.462, 1.4082, 1.1673, 1.3765, 0.8509, 1.4964, 1.2588, 1.2686, 0.9201, 1.0199, 1.1387, 1.1151, 0.5243, 0.5972, 0.1017, 0.4663, 0.7537, 0.7212, 0.7827, 0.6417, 0.6566, 0.2038, 0.3541, 0.7589, 0.4112, 0.7163, 0.394, -0.1339, -0.0796, -0.3843, 0.2492, -0.0155, 0.0981, -0.5263, 0.0096, -0.4265, -0.4329, -0.5513, 1.7329, 1.7329, 1.7328, 1.7328, 1.7328, 1.7327, 1.7326, 1.7326, 1.7326, 1.7326, 1.7325, 1.7325, 1.7325, 1.7325, 1.7324, 1.7324, 1.7324, 1.7324, 1.7324, 1.7324, 1.7324, 1.7323, 1.7323, 1.7323, 1.7323, 1.7323, 1.7323, 1.7323, 1.7322, 1.7322, 1.7321, 1.7041, 1.7254, 1.7305, 1.729, 1.7317, 1.7255, 1.7305, 1.7283, 1.725, 1.7275, 1.7301, 1.7286, 1.7319, 1.732, 1.7278, 1.7313, 1.7105, 1.7265, 1.693, 1.7059, 1.6754, 1.6434, 1.6761, 1.6433, 1.6487, 1.556, 1.7098, 1.4715, 1.5004, 1.4147, 1.6213, 1.6182, 1.4902, 1.3413, 1.5182, 1.6203, 1.614, 1.593, 1.3161, 1.007, 0.6695, 1.3294, 1.0153, 0.7401, 0.3735, 0.461, 0.7967, 0.615, 0.4988, 0.2004, 0.2084, 0.71, 0.5729, -0.2443, -0.5513, -0.5949, 0.2598, -0.0027, -0.0997, 1.3298, 1.3297, 1.3295, 1.3293, 1.3293, 1.3292, 1.3292, 1.3292, 1.3291, 1.3291, 1.3291, 1.3291, 1.3291, 1.329, 1.329, 1.329, 1.3288, 1.3288, 1.3288, 1.3288, 1.3288, 1.3288, 1.3288, 1.3288, 1.3288, 1.3288, 1.3288, 1.3288, 1.3288, 1.3288, 1.3234, 1.3254, 1.3179, 1.3239, 1.3279, 1.3245, 1.326, 1.3199, 1.3218, 1.3282, 1.3278, 1.3252, 1.3286, 1.3275, 1.3287, 1.3164, 1.3035, 1.3089, 1.3257, 1.3084, 1.3194, 1.2932, 1.3088, 1.2735, 1.3149, 1.2683, 1.2124, 1.2214, 1.2347, 1.2896, 1.2835, 1.2497, 1.258, 1.2319, 1.2416, 1.2043, 1.2068, 1.1254, 1.2205, 1.1939, 1.2098, 1.2113, 1.1694, 0.888, 1.0927, 1.1036, 1.1596, 1.165, 1.2358, 1.1332, 1.0288, 1.0437, 0.8988, 0.7108, 0.8259, 1.0237, 0.6495, 0.6876, 0.5131, 0.659, 0.9181, 0.7227, 0.3082, 0.4829, 0.4415, 0.4741, -0.1162, 0.0761, 0.5046, 0.168, 0.081, 0.6188, 0.0695, 0.277, 0.1948, -0.3362, -0.1563, 0.0901, 0.1726, -0.0008, 0.3957, 0.1677, 0.1075, 2.5419, 2.5419, 2.5419, 2.5418, 2.5418, 2.5418, 2.5418, 2.5417, 2.5417, 2.5417, 2.5417, 2.5417, 2.5417, 2.5417, 2.5417, 2.5417, 2.5416, 2.5416, 2.5416, 2.5416, 2.5416, 2.5416, 2.5416, 2.5415, 2.5415, 2.5415, 2.5415, 2.5415, 2.5415, 2.5415, 2.5406, 2.52, 2.5415, 2.4553, 2.4911, 2.4934, 2.4062, 2.5181, 2.4629, 2.1463, 2.0885, 2.1458, 2.1637, 1.9914, 2.3765, 1.3887, 1.8253, 1.8834, 1.8093, 1.9109, 1.8954, 1.3407, 1.1043, 1.9096, 1.8362, 0.6447, 1.5951, 1.4822, 0.821, 1.602, 0.4194, 0.0168, 1.4345, 1.4344, 1.4344, 1.4344, 1.4344, 1.4344, 1.4344, 1.4343, 1.4343, 1.4342, 1.4342, 1.4342, 1.4342, 1.4341, 1.4341, 1.4341, 1.4341, 1.4341, 1.4341, 1.4341, 1.4341, 1.4341, 1.4339, 1.4339, 1.4339, 1.4339, 1.4338, 1.4337, 1.4337, 1.4337, 1.4321, 1.4321, 1.4324, 1.4329, 1.4332, 1.4292, 1.4318, 1.4143, 1.3871, 1.3905, 1.3844, 1.3394, 1.399, 1.4002, 1.3668, 1.2996, 1.2428, 1.31, 1.2738, 1.1831, 1.3005, 1.3086, 1.2502, 0.9639, 1.268, 1.2516, 1.297, 0.7833, 1.1791, 1.1466, 1.0522, 0.7914, 0.6743, 1.0619, 0.6602, 1.0738, 0.7553, 0.4234, 0.9029, 0.2699, 0.166, -0.2119, 0.7789, 0.7111, 0.9876, 0.4227, 0.0171, -0.0219, 0.4852, 0.5641, 0.5201, 0.1065, -0.3016, 0.1279, 0.0964, 0.4806, 0.3952, 0.5267, 0.048, -0.1653, -0.1777, 3.0391, 3.039, 3.0389, 3.0388, 3.0385, 3.0385, 3.0385, 3.0385, 3.0385, 3.0385, 3.0385, 3.0384, 3.0384, 3.0384, 3.0384, 3.0382, 3.0381, 3.0381, 3.0381, 3.0381, 3.0381, 3.0381, 3.0381, 3.0381, 3.0381, 3.0381, 3.0381, 3.0381, 3.0381, 3.0381, 3.0321, 3.0373, 3.0376, 3.0379, 3.038, 3.0131, 3.0367, 3.0381, 3.038, 3.038, 3.0251, 3.036, 3.0309, 3.0148, 2.9673, 2.8854, 2.9717, 2.9814, 2.9694, 2.9262, 2.6958, 2.7821, 2.8346, 2.761, 2.8349, 2.7559, 2.5996, 2.4281, 2.409, 2.2545, 2.2296, 2.2722, 2.3285, 2.4438, 1.8828, 1.7588, 1.7971, 2.4981, 1.4737, 1.2632, 1.1214, 0.7478, 0.4637, 0.2649, 1.2374, 1.641, 1.1547, 1.1392, 0.2993, 0.6934]}, \"token.table\": {\"Topic\": [1, 2, 3, 4, 5, 6, 5, 6, 1, 2, 3, 4, 5, 6, 1, 2, 3, 4, 5, 6, 6, 1, 2, 3, 4, 5, 6, 6, 3, 1, 3, 4, 5, 6, 6, 1, 2, 3, 5, 6, 1, 4, 5, 1, 2, 2, 3, 1, 2, 3, 4, 5, 6, 6, 1, 2, 3, 4, 5, 6, 5, 5, 5, 2, 1, 2, 3, 4, 5, 6, 1, 3, 4, 5, 6, 3, 6, 6, 2, 3, 5, 6, 1, 2, 3, 4, 5, 6, 1, 2, 3, 4, 5, 6, 3, 1, 2, 3, 4, 5, 6, 1, 3, 1, 2, 1, 2, 1, 2, 3, 4, 5, 6, 1, 2, 3, 4, 5, 6, 1, 2, 3, 4, 5, 6, 1, 2, 3, 5, 6, 1, 2, 3, 4, 5, 6, 1, 4, 1, 2, 3, 1, 2, 3, 5, 6, 1, 2, 3, 4, 5, 6, 1, 2, 3, 1, 1, 2, 3, 5, 6, 1, 2, 3, 5, 1, 2, 3, 4, 5, 6, 1, 2, 3, 4, 5, 6, 1, 2, 3, 4, 5, 6, 1, 3, 1, 3, 5, 6, 3, 1, 2, 3, 5, 6, 3, 1, 2, 3, 4, 5, 6, 1, 2, 3, 4, 5, 6, 1, 2, 3, 5, 6, 1, 2, 3, 4, 5, 6, 1, 2, 3, 4, 5, 6, 1, 2, 3, 1, 2, 3, 4, 5, 6, 5, 6, 1, 3, 5, 6, 1, 2, 3, 5, 1, 2, 3, 5, 5, 5, 1, 2, 3, 5, 6, 5, 1, 2, 3, 5, 5, 1, 3, 5, 5, 6, 1, 2, 3, 5, 6, 1, 2, 3, 4, 5, 6, 1, 2, 3, 4, 5, 6, 5, 6, 1, 2, 3, 4, 5, 6, 1, 2, 3, 5, 1, 2, 3, 4, 5, 6, 2, 2, 3, 1, 2, 3, 2, 1, 2, 3, 4, 5, 6, 1, 2, 3, 4, 5, 6, 1, 1, 2, 3, 4, 5, 6, 1, 2, 3, 4, 5, 6, 4, 4, 6, 1, 2, 3, 4, 5, 6, 2, 5, 1, 2, 3, 4, 5, 6, 2, 1, 2, 3, 4, 5, 6, 1, 2, 3, 5, 1, 2, 3, 4, 5, 6, 1, 2, 3, 4, 5, 6, 1, 2, 3, 4, 5, 6, 1, 2, 3, 5, 1, 3, 1, 3, 5, 1, 2, 3, 4, 5, 6, 1, 2, 3, 4, 1, 2, 3, 5, 6, 1, 2, 3, 4, 5, 6, 1, 2, 3, 5, 6, 1, 2, 3, 4, 5, 6, 4, 4, 1, 2, 3, 4, 5, 6, 1, 3, 5, 6, 5, 1, 2, 3, 1, 3, 5, 6, 5, 1, 2, 3, 4, 5, 6, 1, 3, 4, 5, 6, 2, 3, 6, 1, 2, 3, 4, 5, 6, 1, 3, 2, 4, 5, 5, 1, 1, 2, 1, 2, 3, 4, 5, 6, 2, 5, 6, 2, 3, 6, 1, 2, 1, 2, 4, 5, 6, 1, 2, 3, 4, 5, 1, 3, 4, 5, 1, 2, 3, 4, 5, 6, 1, 2, 3, 4, 5, 6, 4, 1, 1, 2, 3, 4, 5, 6, 1, 2, 3, 4, 5, 6, 5, 3, 6, 1, 2, 3, 4, 5, 6, 2, 1, 2, 3, 4, 5, 6, 1, 2, 3, 4, 5, 6, 1, 3, 5, 6, 1, 3, 1, 2, 3, 4, 5, 6, 1, 2, 3, 5, 6, 1, 1, 2, 3, 4, 5, 6, 2, 6, 2, 2, 3, 2, 1, 2, 3, 4, 5, 6, 3, 3, 1, 2, 3, 4, 5, 6, 1, 1, 2, 3, 4, 5, 6, 4, 1, 2, 3, 5, 6, 1, 2, 3, 4, 5, 6, 1, 2, 3, 4, 5, 6, 1, 2, 3, 4, 5, 6, 1, 3, 5, 6, 3, 6, 3, 3, 2, 3, 4, 1, 2, 3, 4, 5, 6, 4, 1, 2, 3, 4, 5, 6, 1, 2, 3, 4, 5, 6, 1, 2, 3, 5, 6, 1, 2, 3, 4, 5, 6, 6, 3, 1, 1, 2, 3, 1, 2, 3, 4, 5, 6, 4, 5, 1, 2, 3, 4, 5, 6, 1, 2, 3, 4, 5, 6, 5, 4, 5, 1, 2, 1, 1, 2, 3, 4, 5, 6, 4, 5, 6, 1, 2, 3, 4, 5, 6, 6, 2, 1, 3, 3, 1, 2, 3, 4, 5, 6, 1, 2, 3, 4, 5, 6, 2, 5, 6, 2, 5, 6, 2, 5, 6, 2, 3, 1, 2, 3, 4, 1, 2, 3, 4, 5, 6, 3, 5, 1, 2, 3, 4, 5, 6, 2, 1, 2, 3, 4, 5, 6, 1, 2, 3, 4, 5, 6, 1, 2, 3, 4, 5, 6, 1, 2, 3, 4, 5, 6, 1, 2, 3, 4, 5, 6, 1, 2, 3, 4, 5, 6, 1, 2, 3, 4, 5, 6, 1, 2, 3, 4, 5, 6, 1, 2, 3, 4, 5, 6, 1, 2, 3, 4, 5, 6, 1, 2, 3, 4, 5, 6, 1, 2, 3, 4, 5, 6, 1, 2, 3, 4, 5, 6, 1, 2, 3, 1, 1, 2, 3, 4, 5, 6, 2, 1, 1, 2, 3, 5, 6, 5, 5, 3, 1, 2, 3, 4, 5, 6, 1, 1, 2, 3, 5, 6, 1, 3, 5, 2, 3, 6, 3, 1, 2, 3, 1, 2, 3, 4, 5, 6, 4, 1, 2, 3, 4, 5, 6, 5, 5, 1, 2, 3, 4, 5, 6, 1, 3, 1, 3, 3, 1, 2, 3, 4, 2, 3, 2, 1, 2, 3, 4, 5, 6, 1, 2, 3, 5, 6, 1, 2, 3, 4, 5, 6, 6, 2, 3, 5, 1, 1, 6, 1, 1, 2, 3, 4, 5, 6, 1, 2, 3, 5, 6, 4, 1, 2, 3, 5, 1, 2, 3, 4, 5, 6, 1, 2, 3, 4, 5, 6, 6, 3, 1, 2, 3, 4, 5, 6, 4, 5, 6, 1, 2, 3, 4, 5, 6, 1, 2, 3, 5, 1, 2, 3, 4, 5, 6, 1, 5, 6, 1, 2, 3, 4, 5, 6, 1, 2, 3, 4, 5, 6, 1, 2, 3, 1, 2, 3, 4, 5, 6, 1, 2, 3, 1, 2, 3, 5, 1, 2, 3, 4, 5, 6, 1, 3, 6, 1, 2, 3, 4, 5, 6, 6, 3, 1, 2, 3, 4, 5, 6, 4, 1, 2, 3, 5, 6, 1, 2, 3, 4, 5, 6, 6, 6, 6, 1, 2, 3, 4, 5, 6, 1, 2, 3, 4, 5, 6, 1, 2, 3, 4, 5, 6, 1, 2, 3, 4, 5, 6, 1, 2, 4, 5, 1, 2, 4, 5, 6, 4, 2, 3, 4, 1, 2, 3, 1, 2, 3, 4, 5, 6, 5, 1, 2, 3, 4, 5, 1, 2, 3, 4, 5, 1, 1, 2, 3, 4, 5, 4, 5, 1, 2, 3, 5, 5, 5, 1, 2, 3, 4, 5, 6, 6, 6, 6, 1, 3, 5, 1, 2, 3, 4, 5, 6, 1, 2, 3, 4, 5, 6, 4, 1, 2, 3, 4, 5, 6, 1, 2, 3, 4, 5, 6, 1, 2, 3, 4, 5, 6, 4, 3, 1, 2, 3, 4, 5, 6, 1, 2, 3, 4, 5, 6, 1, 2, 3, 5, 5, 5, 5, 5, 5, 5, 1, 2, 3, 4, 5, 6, 1, 2, 3, 4, 5, 1, 2, 3, 4, 5, 3, 1, 2, 3, 4, 5, 6, 1, 2, 3, 4, 5, 6, 1, 2, 3, 4, 5, 6, 1, 2, 3, 4, 5, 6, 1, 3, 5, 1, 2, 3, 4, 5, 6, 1, 2, 1, 2, 3, 4, 5, 6, 1, 2, 3, 4, 1, 2, 3, 4, 5, 6, 1, 2, 3, 4, 5, 6, 1, 2, 3, 4, 5, 6, 4, 1, 2, 3, 5, 6, 1, 2, 3, 4, 5, 6, 4, 5, 6, 4, 3, 1, 2, 3, 4, 5, 6, 1, 4, 5, 1, 2, 3, 4, 5, 6, 1, 2, 3, 4, 5, 6, 2, 5, 1, 2, 3, 5, 6, 6, 1, 2, 3, 4, 5, 6, 1, 2, 3, 4, 5, 6, 2, 1, 2, 3, 4, 5, 6, 6, 6, 6, 1, 2, 3, 1, 2, 3, 4, 5, 6, 1, 2, 3, 4, 5, 6, 1, 2, 3, 4, 5, 6, 3, 1, 2, 3, 4, 5, 4, 1, 2, 3, 4, 5, 6, 1, 3, 5, 1, 2, 3, 4, 5, 6, 1, 2, 3, 5, 6, 1, 2, 5, 6, 6, 6, 1, 2, 3, 4, 5, 6, 5, 1, 2, 3, 5, 6, 1, 3, 5, 1, 2, 3, 4, 5, 6, 1, 2, 3, 4, 5, 6, 4, 1, 2, 3, 4, 5, 6, 1, 2, 3, 4, 5, 6, 1, 2, 3, 4, 5, 6, 1, 5, 2, 3, 3, 1, 2, 3, 4, 5, 6, 1, 3, 4, 6, 1, 2, 3, 4, 5, 6, 5, 6, 1, 2, 3, 5, 6, 1, 2, 3, 4, 5, 6, 2, 1, 2, 3, 4, 5, 1, 3, 5, 4, 1, 2, 3, 4, 5, 6, 1, 3, 1, 1, 1, 2, 3, 4, 5, 6, 1, 2, 3, 4, 5, 6, 1, 3, 5, 6, 3, 3, 3, 1, 1, 2, 3, 4, 5, 6, 1, 2, 3, 4, 5, 6, 1, 1, 2, 3, 1, 3, 5, 6, 1, 2, 3, 4, 5, 6, 3, 3, 2, 1, 2, 3, 4, 5, 6, 1, 2, 3, 4, 5, 6, 1, 2, 3, 4, 5, 6, 6, 1, 2, 3, 4, 5, 6, 1, 2, 3, 4, 5, 6, 1, 1, 2, 3, 4, 5, 6, 1, 1, 2, 3, 4, 5, 6, 6, 1, 1, 2, 3, 4, 5, 6, 1, 2, 3, 4, 5, 6, 1, 2, 3, 4, 5, 6, 1, 3, 5, 1, 2, 3, 4, 5, 6, 1, 2, 3, 5], \"Freq\": [0.005455976708470101, 0.005168820039603253, 0.092177290706258, 0.0010050483410339657, 0.12304663260944411, 0.7731693309239865, 0.0006390402443912094, 0.9990329153982574, 0.2879828107227289, 0.06631541487123634, 0.4378101282170857, 0.1237213372194377, 0.044975429504927666, 0.03921732953370856, 0.007345124047095716, 0.00021603306020869753, 0.005184793445008741, 0.12400297655979238, 0.11039289376664443, 0.7530912478875196, 0.9991443922566831, 0.005256070007745913, 0.097932951467854, 0.0037874622114639667, 0.5312495465182009, 0.36027268097211324, 0.0014686077962819462, 0.998410324793129, 0.9971850874278951, 0.013769285964242308, 0.9731362801240088, 0.00032021595265679785, 0.009286262627047138, 0.003202159526567979, 0.9990409530705333, 0.037056385719636833, 0.07999933271244514, 0.19391876849898493, 0.6888241699655409, 0.00019300200895644182, 0.997938087138634, 0.9998871398187964, 5.829565880473393e-05, 0.9997092369424759, 0.999584326920963, 0.9996755066948744, 0.9984318284962532, 0.16997030822888273, 0.08050054720303823, 0.18835349027893197, 0.0007412573407277922, 0.09606695135832187, 0.464323598231889, 0.9980974454711349, 0.01264150595949628, 0.0010534588299580233, 0.018611105995925078, 0.0003511529433193411, 0.9568917705452045, 0.010534588299580233, 0.9993180939119255, 0.9998282320865562, 0.9995534269279943, 0.9991661937862842, 0.13224537403186473, 0.1384012953284221, 0.18883938850566115, 0.017635413967884057, 0.5213747426755627, 0.0015028540254506243, 0.0006849742100613648, 0.00022832473668712162, 0.9986923982694699, 0.00022832473668712162, 0.9984613204361356, 0.9971844494214711, 0.998913467191113, 0.9990549716374516, 0.0020428625442750355, 0.0005836750126500101, 0.06683078894842616, 0.9303779701641162, 0.39945356586190567, 0.04458658312091399, 0.1468818403644185, 0.019683136502514815, 0.38872768278227443, 0.0006561045500838271, 0.0027373496487686235, 0.0023162189335734504, 0.8835322404794727, 0.0018950882183782778, 0.004000741794354142, 0.10549324415639079, 0.9971855092930895, 0.005962582874230926, 0.00016875234549710167, 0.04966944035798026, 5.6250781832367224e-05, 0.697115939248527, 0.2469971830259245, 0.001491604115734841, 0.9978831534266087, 0.006414526228057446, 0.9932893864146954, 0.005650943457178864, 0.9942969559179, 0.21454063964788095, 0.05369769604867288, 0.11048050817467635, 0.030017345617270555, 0.0486114235968576, 0.5426469035477688, 0.028937478817380548, 0.02688880775066334, 0.9096099536224399, 0.002048671066717207, 0.03175440153411671, 0.0007682516500189526, 0.16051607617819513, 0.35939189087503653, 0.37282973928649216, 0.002843874219548764, 0.10359517386020382, 0.0008249406133042216, 0.00801268807036445, 0.9604642888872709, 0.029783010374750885, 0.0015874193346948442, 0.00015118279378046134, 0.01783487831239492, 0.9140375135102398, 0.050310947425430325, 0.00031107345893712076, 0.01729568431690391, 0.0002073823059580805, 0.9985442484787442, 0.9996400654134079, 0.0003298340911186824, 0.9993972960896077, 0.0003298340911186824, 0.006747251357591705, 0.9916635914211808, 0.0007294325791991032, 0.0001823581447997758, 0.0003647162895995516, 0.08838797511930416, 0.13566805130176585, 0.7394627884557379, 0.0025767341899186978, 0.03056126597345432, 0.003355746851987141, 0.0014957641388855178, 0.0014957641388855178, 0.9976746806366404, 0.9975826371021436, 0.004978959417969529, 0.8931487202080723, 0.006510946931190922, 0.09536622269803174, 0.00012766562610178278, 0.000503527482514893, 0.9987782320359474, 0.0006608798208007971, 3.147046765718081e-05, 0.15495481241061687, 0.016374777737936063, 0.12322262478236798, 0.30077753723661554, 0.40069759369961294, 0.003972579214528867, 0.09168321598357297, 0.026132983178215573, 0.11703220966644207, 0.5175637318445594, 0.247261575837883, 0.00034843977570954096, 0.16306549383112948, 0.08298811972695658, 0.5108464799577429, 0.007903630450186341, 0.2284616619108971, 0.006735082937389973, 0.9969654985545462, 0.002864843386650995, 0.0016176847446577184, 0.0409813468646622, 0.013480706205480987, 0.9436494343836691, 0.999127278279, 0.012371131540192514, 0.0008836522528708939, 0.9843886096981759, 0.0026509567586126817, 0.0008836522528708939, 0.9989632449209787, 0.12114867486740347, 0.03782064509289902, 0.28280599578817384, 0.0037254750153853148, 0.38520940079968286, 0.16929690259788963, 0.9913420623240966, 0.006371092945527613, 0.0015927732363819032, 0.00031855464727638063, 0.00031855464727638063, 0.9992618396927189, 0.010054311970460835, 0.13813750359415755, 0.07656264891791915, 0.7745567165815263, 0.0006869405694103676, 0.01802099501405021, 0.03126719647736917, 0.8956588547581366, 0.00015402559841068558, 0.054679087435793375, 0.00030805119682137115, 0.03811199969052127, 0.031175379271150286, 0.4567133944299488, 0.0032712471295897262, 0.19284593018171725, 0.27789835555105014, 0.007954452315957157, 0.0019886130789892893, 0.9883407002576767, 0.45479323576234193, 0.10181432999808354, 0.23531803085176373, 0.009483381725357527, 0.19272834947184436, 0.005864820776819145, 0.002317689334935981, 0.9966064140224719, 0.9758638169479287, 0.0005176996376381585, 0.004141597101105268, 0.019154886592611862, 0.00031608647287919835, 0.9993073840075856, 0.00031608647287919835, 0.00015804323643959917, 0.0033404149305283222, 0.9956027166750843, 0.0006362695105768233, 0.00031813475528841165, 0.9997740399795858, 0.999060571293405, 0.0028380807777828973, 0.08885375973520301, 0.9060027098306941, 0.0006549417179498993, 0.0016373542948747485, 0.9988279836318027, 0.9732338218879469, 0.0002517092517491134, 0.024541652045538556, 0.002013674013992907, 0.9993733277650677, 0.9647874298402541, 0.03466642443761369, 0.00018943401332029337, 0.0009939204970429512, 0.998890099528166, 0.06293331949406625, 0.0001546273206242414, 0.8861691744975275, 0.05025387920287846, 0.0006185092824969656, 0.6240720348970932, 0.022189424230603987, 0.3141121347786827, 0.000765660291965101, 0.0245894747611869, 0.014267785056041978, 0.05010137561264559, 0.05170461963225025, 0.30656316003440515, 0.0011451742997176135, 0.14555165349410867, 0.44495747415527875, 0.002183177881033842, 0.9977122916324658, 0.6064143924279713, 0.11787193245484955, 0.14449746054294133, 0.02612180188101977, 0.03159082927208727, 0.07340010445906381, 0.9354951308387911, 0.0017533228191480882, 0.04149530671983809, 0.02103987382977706, 0.006425190579729664, 0.9437367080868984, 0.03513223472953101, 0.006837817497693955, 0.0075451779284898815, 0.0003536802153979632, 0.9984141629083065, 0.9995044056421556, 0.0002518912312606239, 0.0009773170770281646, 0.997840735645756, 0.0009773170770281646, 0.9995498916614936, 0.41268979191083793, 0.12225086121044614, 0.14680993014090846, 0.18796141553664233, 0.11789499367552166, 0.012408491069883539, 0.19608568990371916, 0.2909836160118944, 0.3486666691364715, 0.004586339980373009, 0.15909358200488202, 0.0005896722831908155, 0.9985288078023885, 0.41483355868886046, 0.004677162171045501, 0.35515706617070325, 0.05851573694286123, 0.16366653611673088, 0.0031408680272714314, 0.06359546954776953, 0.00218097176037567, 0.02676899733913322, 0.6353573592630701, 0.27070443754420814, 0.001403045527375431, 0.9993144202364287, 0.9996681406450306, 0.9987037353705539, 0.07817948908037838, 0.03843216005259722, 0.151098302260021, 0.044715745156253796, 0.13633918376073462, 0.5512019304882004, 0.005038575807023327, 0.9947588236151768, 0.002905725032706906, 0.0012453107283029597, 0.9634554001303898, 0.000830207152201973, 0.00830207152201973, 0.02407600741385722, 0.9990900904520043, 0.12580884340707668, 0.0290845619065311, 0.0670186969198537, 0.05759985302841479, 0.6396016024961172, 0.08088820330944503, 0.020596859628628363, 0.0005721349896841212, 0.9777786973701632, 0.0005721349896841212, 0.6838926594025885, 0.0012676416300326013, 0.09851386381967644, 0.005613841504430092, 0.13083872538550778, 0.07986142269205389, 0.02778770189276831, 0.14241599707035255, 0.1456680919616267, 6.439791863909226e-05, 0.5190794231904031, 0.16495526859403484, 0.5385606907865752, 0.07211922919460514, 0.20504227738661548, 0.023687512397251264, 0.1604410690995978, 0.0001761153338085596, 0.8989608605256834, 0.010865433433947826, 0.045306807337782445, 0.04489679098178442, 0.9919799066334631, 0.006883968817720077, 0.9835665882773172, 0.014281585562107511, 0.0018628155081009796, 0.014279472745462152, 0.0001042297280690668, 0.8428015811664741, 0.0003126891842072004, 0.046590688446872856, 0.09589134982354146, 0.023436912315182842, 0.09520709068695155, 0.8813309224456668, 0.9997130034286638, 0.001041429787317676, 0.006248578723906057, 0.1411137361815451, 0.85145563694781, 8.678581560980634e-05, 0.2453994880205455, 0.0318573819315406, 0.06810888550881095, 0.3906496201988341, 0.18345457870921655, 0.08055889683837852, 0.04882913487258204, 0.00020603010494760354, 0.9300198937334823, 0.018542709445284317, 0.002472361259371242, 0.3095845206549291, 0.16359702328790143, 0.26410714552639364, 0.015155153566543634, 0.2019257410737276, 0.045644177133198634, 0.9993756180959231, 0.9997548395149533, 0.1430578824894557, 0.001035650693697797, 0.7505705794125834, 0.0015879977303366222, 0.07014807365313079, 0.03369316923496833, 0.0009149494229670017, 0.017841513747856533, 0.005032221826318509, 0.9757935595943072, 0.9996124559921593, 0.0002029623435847922, 0.9993865798115168, 0.0002029623435847922, 0.0007039691894385429, 0.9785171733195747, 0.0007039691894385429, 0.019711137304279203, 0.9995274316790153, 0.09709946524454649, 0.01719169562687816, 0.8510369550266335, 9.604299232892827e-05, 0.015078749795641739, 0.01940068445044351, 0.00233088698445634, 0.0003884811640760567, 0.0015539246563042268, 0.06138002392401696, 0.9346856807669924, 0.0003773015950298475, 0.0003773015950298475, 0.9990946236390362, 0.8493053082478351, 3.96353046596899e-05, 0.1024176272406387, 0.0001585412186387596, 0.021997594086127892, 0.026080030466075953, 0.9881443199838325, 0.011635004608724688, 0.0001990803011866783, 0.9995821922583117, 0.0001990803011866783, 0.9998455841309812, 0.9998078962041997, 0.9997348523930862, 0.998907626326994, 0.00929896462563025, 0.8940614281520598, 0.0545463656698555, 0.0010206180686667349, 0.04003090869326194, 0.0010206180686667349, 0.0012935421904787191, 0.9981833903194115, 0.000431180730159573, 0.9995886743616132, 0.0003080396531160596, 0.9987725815446015, 0.9938609217516902, 0.004759870314902731, 0.00014266999452083588, 0.00014266999452083588, 0.006848159737000122, 0.00014266999452083588, 0.992697821875976, 0.004408938951511833, 0.007680087205859321, 0.9873178774643594, 0.000142223837145543, 0.000426671511436629, 0.046453483384761775, 0.05515115686956824, 0.847430141576484, 0.050802320127165006, 0.12836993057391988, 0.19097272150004205, 0.32417469809489896, 0.00021380734605916035, 0.3536587311164572, 0.0026084496219217564, 0.39752317038990337, 0.02211690803420109, 0.12346723550771528, 0.03348209289265187, 0.21442100183230575, 0.20896442160197, 0.9996316256111233, 0.9996545024979538, 0.042748407792876905, 0.08386756592395632, 0.15287792659866414, 0.002637832785767359, 0.682190108389776, 0.03564953426647357, 0.17605501926815306, 0.005477852506772751, 0.6036435447487415, 0.009454562740054892, 0.19815078010076045, 0.007242353073858204, 0.9992594304650011, 0.9950419400245536, 0.0040122658871957805, 0.0705340037716962, 0.7842012587662051, 0.06760711057018222, 0.02926893201513986, 0.04819067820520915, 0.00020611923954323846, 0.999207924478132, 0.17239003495984867, 0.10932132863400061, 0.30331046552076957, 0.04385272209405029, 0.3635093611010828, 0.007602481097820429, 0.05173074166162451, 0.2624006917582078, 0.661929792764311, 0.004921411098619413, 0.013645730773444735, 0.005312886981464138, 0.007095680980236987, 0.9857083495045882, 0.005913067483530823, 0.0005913067483530823, 0.0022124342497280656, 0.9970703685441148, 0.18249632708108635, 0.3703739937121292, 0.32116479608364407, 0.01752234540108454, 0.10539800731631437, 0.003049914513326849, 0.0037879136028353662, 0.0023674460017721038, 0.9787021771325878, 0.0047348920035442076, 0.010890251608151678, 0.9992303963074698, 0.7693245028458441, 0.0019868917945398868, 0.1492155737699455, 0.03894307917298178, 0.03983718048052473, 0.000596067538361966, 0.001660328228387606, 0.9978572652609511, 0.9989047634487438, 0.9987561410675011, 0.0009338533343314643, 0.9994062840580689, 0.03891234283983918, 0.01900668891186864, 0.029794269105091385, 0.0377565306762796, 0.871482371323923, 0.003082165769492212, 0.9982820479302001, 0.9991562098397898, 0.010441825856959856, 0.9711907362301546, 0.018231905077134652, 5.505356339346146e-05, 5.505356339346146e-05, 1.8351187797820485e-05, 0.9994045722078838, 0.11473411385925941, 0.25671704154988745, 0.28522065403172997, 0.030232036113132472, 0.3120204467773898, 0.0010764204109457137, 0.9998067911687117, 0.08490411442264638, 0.00159294773776072, 0.8874311847064971, 0.022141973554874007, 0.003663779796849656, 0.11190795478290946, 0.34514130420694067, 0.35971323779820796, 0.006443117166318681, 0.17618928651199584, 0.0006068517331067595, 0.21422368847995665, 0.3268463911822614, 0.17554562630918458, 0.03316720370844572, 0.24991305756930837, 0.0003061588034625759, 0.00111125511556847, 0.00698503215500181, 0.9223417459218299, 0.0001587507307954957, 0.0007937536539774784, 0.06873906643444963, 0.003491108406029068, 0.9935694523558728, 0.002094665043617441, 0.0006982216812058136, 0.9984113731077366, 0.0009210437021289084, 0.9991077828762454, 0.9986783930025015, 0.9994210474759624, 0.0006192199798487995, 0.9997300480578306, 0.09491153211048739, 0.17176890831662087, 0.3003055425172917, 0.04439246226312953, 0.38699398670741947, 0.0016283342416553704, 0.9992523438540043, 9.803691715298795e-05, 9.803691715298795e-05, 9.803691715298795e-05, 0.999584407291865, 9.803691715298795e-05, 9.803691715298795e-05, 0.24916026031478156, 0.1753882326095598, 0.3125533960388201, 0.012735451996234475, 0.24083709089991964, 0.009309247719032286, 0.0010929461109060329, 0.0005464730554530164, 0.9891162303699597, 0.0032788383327180984, 0.005464730554530164, 0.1178221539776616, 0.00021711699135932728, 0.735664739055854, 0.08069514845521664, 0.06499035274689197, 0.0006513509740779819, 0.9984105745913249, 0.9987257558109696, 0.9985633911953433, 0.001361773564411393, 0.9972721736706102, 0.001134811303676161, 0.32805888388816773, 0.1762299789481893, 0.09623084376776125, 0.008445839578134376, 0.3637864798227045, 0.027246082271595053, 0.9997926917691663, 9.128026036420764e-05, 0.2767347827536742, 0.13362467261397215, 0.1962514167597551, 0.11971079286990448, 0.2091081844904131, 0.06456954460286017, 0.030874581839085043, 0.013016443025341535, 0.07104662298198547, 0.019577291666147106, 0.7776535300719545, 0.0878522192330329, 0.9997006533854357, 0.9998625284574227, 7.733486955351711e-05, 0.9948867804849321, 0.004706181553854929, 0.9975703021673967, 0.04025229510971686, 0.01986976350957361, 0.050764040966394516, 0.000640960113212052, 0.8815765397118563, 0.006922369222690162, 0.9996274406863275, 0.9987796897868776, 0.0010160525837099466, 0.01354372866808338, 0.0006250951692961561, 0.02187833092536546, 0.9524366729509097, 0.01146007810376286, 0.000208365056432052, 0.999278718891209, 0.9992800502714763, 0.004618691718800505, 0.9941733924718087, 0.9976097311635606, 0.011087149361833203, 0.02993530327694965, 0.9085918902022311, 9.239291134861003e-05, 0.008869719489466563, 0.041484417195525904, 0.11041409547889988, 0.18477543085067993, 0.4284034678650493, 0.003987958939223308, 0.26231907689113315, 0.010097458324228713, 0.002033190083776431, 0.9975338848528115, 0.00025414876047205387, 0.0022323356886548612, 0.9975750108676411, 0.00027904196108185765, 0.002077924089966279, 0.9974035631838138, 0.0005194810224915697, 0.9986219005600923, 0.9990215159358461, 0.007587377949923155, 0.9921009330196817, 0.00020506426891684203, 0.9997113947392507, 0.021603642569785465, 0.0005132614865391795, 0.20371815002091434, 0.01647102770439367, 0.44317796355901157, 0.3145359709782372, 0.9969254610336151, 0.0015576960328650235, 0.0008669357313071012, 7.224464427559177e-05, 0.023985221899496468, 3.612232213779589e-05, 0.8255034278150494, 0.14954641365047497, 0.9993511216113361, 0.1000806862651349, 0.483668493236147, 0.22729910997274683, 0.074258717910778, 0.10559046932163782, 0.009107589156831299, 0.014166431117327554, 0.944403216054058, 0.04043176016188621, 0.0002297259100107171, 0.0006126024266952456, 7.65753033369057e-05, 0.09235830876735106, 0.25456671552381155, 0.5445034765562885, 0.00045935124037227757, 0.10447369773216987, 0.003646100470454953, 0.0002504409834098089, 0.0112698442534414, 0.0005008819668196178, 0.016779545888457193, 0.15602473266431094, 0.814934960015518, 0.10716249669294321, 0.037424061653372476, 0.6493180414548411, 0.018747270056115026, 0.1825039692116912, 0.004863013661172695, 0.003947717929658351, 0.0032510618244245247, 0.02844679096371459, 0.08603702899637759, 0.8744195214193248, 0.0037154992279137423, 0.17489707715749012, 0.31333922711665263, 0.22418745110298313, 0.017822827081474566, 0.2694691004778805, 0.0002823045472250459, 0.017433921633619183, 0.667694984787568, 0.12221905478568447, 0.05611543525821174, 0.07718142389883492, 0.059323761114398604, 0.07643724321993169, 0.2573497340733583, 0.2623574284246475, 0.0001016790731226228, 0.40336088307744467, 0.0003812965242098355, 0.1698729961733837, 0.28018148911392887, 0.2833219444289622, 0.021478471172459993, 0.23305863665723003, 0.012089150689758348, 0.009252674879429336, 0.13230219180188002, 0.8144565688689711, 0.001695709340453185, 0.03612598160095916, 0.006119298924244103, 0.22453110048737965, 0.08528447413522715, 0.014610859553544662, 0.5765921316465932, 0.07870258532676135, 0.020305827175054084, 0.7939881706951354, 0.0023019710191692737, 0.14157121767891034, 0.0004795772956602654, 0.06148180930364602, 9.591545913205307e-05, 0.0006757982414425814, 0.9983792686911735, 0.0009010643219234418, 0.9992454443582317, 0.018020950161174693, 0.014642022005954438, 0.02083672362385824, 0.010136784465660765, 0.9344144235915347, 0.001971041423878482, 0.9990231262702743, 0.998900105787883, 0.004714896421533466, 0.00020499549658841156, 0.1212890021481435, 0.8737591382920062, 6.833183219613719e-05, 0.9993316831350395, 0.9993902014595798, 0.9979755385967489, 0.02812917973683822, 0.008316453139586951, 0.8721268726234493, 0.000122300781464514, 0.09062487906520487, 0.000733804688787084, 0.9980057610863625, 0.008141730940320295, 0.00011467226676507458, 0.847313379127136, 0.0004586890670602983, 0.14391369479016858, 0.9352677087835082, 0.06430110581609128, 0.00023213395601476996, 0.9990959980981166, 0.00035797061916808187, 0.00035797061916808187, 0.9971869241130165, 0.0018529031008383957, 0.9950089651502185, 0.0030109675388623933, 0.11310824664401167, 0.16938422562768787, 0.17411835579435983, 0.017176831995622772, 0.5256019768019481, 0.0006244056574747207, 0.9997642461611767, 0.35286990220774395, 0.11942065699671978, 0.2892211271563295, 0.0716002128872343, 0.1580472511085385, 0.008845974592349613, 0.9998644890674457, 0.9993576432070934, 0.4873770743006153, 0.06364574182803091, 0.43306941546842664, 0.005213130344562373, 0.010071970277358372, 0.0006579679075661248, 0.9769548822377205, 0.02237750785113525, 0.9991890050874265, 0.9975673499097221, 0.9971865140978519, 0.0013688108187812074, 0.9922634062692134, 0.006221867358096397, 0.00012443734716192795, 0.9989710971893413, 0.0006121146428856258, 0.9993144856648053, 0.011885567582535384, 0.013165551783731501, 0.05083365827607441, 0.006491348448923171, 0.83281257776396, 0.08484466705071413, 0.00012621664563529331, 0.8691278218446298, 0.03672904387987036, 0.030165778306835103, 0.06386562269145842, 0.021935479068292116, 5.456586832908487e-05, 0.7968799410779555, 0.039669386275244696, 0.018770658705205195, 0.12271863787211187, 0.999542064870568, 0.9944909303147536, 0.004939524488318313, 0.00032930163255455414, 0.9997309623697151, 0.9996306034540767, 0.9985882749382221, 0.9992251348989172, 0.4247894935260574, 0.17685788251863088, 0.18875859984698737, 0.09705696132237389, 0.09418095463468774, 0.01834693921454956, 0.039376006057162335, 0.8912563242353615, 0.0559553770285991, 0.01289506631111749, 0.0004605380825399103, 0.9998578613879305, 0.000323141845448745, 0.9952768839821347, 0.004200843990833685, 0.9993897918883909, 0.6905738002139101, 0.009898792142400376, 0.26854465134705535, 0.011601810145393989, 0.014901407526194115, 0.0043639836326711335, 0.14323570686151763, 0.03480819121786577, 0.08005883980109127, 0.04464150523691285, 0.16490380589463907, 0.5323912846772569, 0.9990053892904348, 0.9978732903762757, 0.14757659383792757, 0.03462129065102028, 0.5380370123055762, 0.01292409342066406, 0.2649757478660287, 0.0018590321570610374, 0.9997392590233506, 0.10653627883042337, 0.8930246901961959, 0.084655855197143, 0.6588805359591967, 0.12006438393499949, 0.01285641393256309, 0.12322509699483228, 0.000341698709171112, 0.07900309489729411, 0.9188403428272249, 0.0017835146841362383, 0.0003302804970622663, 0.368934645409983, 0.10143446752562434, 0.19567413632077038, 0.0035608156428807774, 0.2986207310372071, 0.03175467100706009, 0.028797390091484843, 0.03856793315823863, 0.9323155042118217, 0.05062903793891633, 0.7696705497991593, 0.1693548142377228, 0.004230458695704599, 0.005885113911363252, 0.00022175791550064429, 0.013234939745726112, 0.9139346282224462, 0.048148986522862966, 0.02419512422265555, 0.0003791258781327793, 0.00010339796676348525, 0.0003638733350684229, 0.9971948747550129, 0.0023651766779447486, 0.047697346481536604, 0.6757232833964337, 0.10165863997022438, 0.009705855388684773, 0.1547716906350271, 0.010439911678585302, 0.0003680556647716762, 0.9992711298551008, 0.0003680556647716762, 0.00298413368678517, 0.9775333311672805, 0.019282094591534946, 0.00011477437256866038, 0.013640748219296834, 0.0003431634772150147, 0.888450242509673, 4.2895434651876836e-05, 0.008235923453160352, 0.08922250407590382, 0.0005890614086654384, 0.998459087687918, 0.0011781228173308768, 0.03169729390742551, 0.23808033808785314, 0.0908842763363351, 0.48832766841672026, 0.1495803714702182, 0.0014375985068633254, 0.9990639223219298, 0.9991269289658795, 0.21260331020441622, 0.023507357876260657, 0.06296613716855533, 0.34653598785235507, 0.3542894651350713, 9.877041124479267e-05, 0.9995636392724818, 0.0034816788460737117, 0.00017408394230368558, 0.4037006622022469, 0.010445036538221136, 0.5819626191212209, 0.015019028961988295, 0.00354381582249162, 0.007172008212185422, 8.437656720218143e-05, 8.437656720218143e-05, 0.9740430917819825, 0.998917711297528, 0.9983833851870415, 0.9994289406753456, 0.07017272306807698, 0.015897716481512388, 0.01230300988855895, 0.3879245340170316, 0.5134354867484622, 0.00025314835161643933, 0.25429088126150184, 0.07516614225665635, 0.09382319978853453, 0.09110532797812436, 0.4850551846641406, 0.0005662232938354527, 0.2305686296299897, 0.054129191755806244, 0.07932807814474398, 0.1214836659650381, 0.4187218891057787, 0.09574159833247754, 0.1601941916409792, 0.004768506998803953, 0.022875011834842154, 0.4937132463689195, 0.24194989859148755, 0.0765034383721156, 0.002259138868066145, 0.0003227341240094493, 0.976270725128584, 0.02130045218462365, 0.024733023548157648, 0.008156635425456246, 0.00026311727178891114, 0.9661666220088817, 0.0005262345435778223, 0.9997444025518324, 0.9991232885124719, 0.0005011905134248667, 0.999624853834057, 0.0026060687362130554, 0.9966351438346213, 0.00037229553374472217, 0.13725236338021773, 0.06367068060526512, 0.030591101935009454, 0.48057634330160015, 0.28784811063391086, 8.580954259469692e-05, 0.9997071503613076, 0.003756945690369153, 0.04281813102994256, 0.010718345057817878, 0.8729926301988675, 0.06966924287581622, 0.005418159093782615, 0.0379271136564783, 0.0008026902361159429, 0.9503852395612764, 0.005418159093782615, 0.9978033226307417, 0.01813539143700788, 0.9729354140463523, 0.004675530604853593, 0.003400385894438977, 0.0007084137280081202, 0.999564822069793, 0.9988445652592938, 0.0001203321737576896, 0.02683407474796478, 0.022020787797657197, 0.9511055013807787, 0.9998333467677597, 0.9993559934400864, 0.14012630927535255, 0.059574382965062886, 0.39493905618151726, 0.07650362847173713, 0.04011495130929331, 0.2887172413040422, 0.9995068350576813, 0.9983954345935577, 0.9984215270921686, 0.988978595391158, 0.010786055831323976, 0.00012840542656338067, 0.2060465628081193, 0.04714933653981655, 0.29432279962384306, 0.23745832247935172, 0.17556986560944127, 0.03946280604509016, 0.14691129795342794, 0.016841491967108838, 0.028551027154540734, 0.06819720030458021, 0.5876090512730099, 0.1518986925702971, 0.9994431207696713, 0.5923077485177423, 7.237386956472901e-05, 0.1898366598682842, 0.01823821513031171, 0.1977977855204044, 0.0017369728695534963, 0.04382518468749343, 0.014643259800117138, 0.08974226363214645, 0.12519987129100152, 0.0823160390192299, 0.644198836492296, 0.8378884671799149, 0.03850889789455038, 0.1165737634149229, 0.004071937843834633, 0.0025595037875531974, 0.0003490232437572542, 0.9994260199090106, 0.997184186825409, 0.11565829060280487, 0.1943165321162383, 0.2452152690416377, 0.0038060439441983925, 0.2940879029718668, 0.1469208704628623, 0.8672641388058323, 0.0037770297502431557, 0.11941224825768747, 0.0066824372504301986, 0.0026148667501683385, 0.0002905407500187043, 0.02377343872945292, 0.0002278604351065775, 0.022254369162075738, 0.9535959209210269, 0.9998253978446344, 0.9996042629795983, 0.9994017121443673, 0.9998265811839957, 0.999677311213866, 0.999771154845492, 0.13996822921659874, 0.04640314521567806, 0.1935507289750798, 0.001225743458527345, 0.16261529883129444, 0.45621004151665373, 0.0012463444205757519, 0.00017804920293939313, 0.9947608968223894, 0.0033829348558484696, 0.00035609840587878626, 0.0034358041884562274, 0.002290536125637485, 0.9933291664847893, 0.0003817560209395808, 0.0003817560209395808, 0.9983348892311146, 0.2191662841867496, 0.0028267879683801403, 0.06068572468288429, 0.5319774378791987, 0.18494410644189216, 0.00042101097401406345, 0.2150053132752368, 0.09747168685449906, 0.6423258251956888, 0.0028300165795770078, 0.03838509775943221, 0.003981209764489689, 0.11229252847415909, 0.002032985073547076, 0.820847620283949, 0.0003587620718024252, 0.0038267954325592025, 0.06063079013460986, 0.8218826242820507, 0.013395512241753041, 0.1463152327468774, 0.000258850478101508, 0.018119533467105563, 1.617815488134425e-05, 0.9095218427902099, 0.006479921934954473, 0.0837205913996118, 0.03679519579618665, 0.8064634017668322, 0.05904204399585798, 0.0021216340244918164, 0.09541291298714627, 0.0001818543449564414, 0.0005019460306221611, 0.9988726009381006, 0.014911552855302804, 0.8375435876851733, 0.1400703688612936, 0.002455699463819309, 0.0049932555764325955, 2.7285549597992324e-05, 0.004659516780458105, 0.9766864895926906, 0.01009561969099256, 0.008283585387481076, 0.025953158021079507, 0.011597954258998431, 0.014617798952850852, 0.009015768216428969, 0.9092358480403486, 0.029541958961599776, 0.1912130957324342, 0.1874716540796149, 0.4110016034410934, 0.043347446980883636, 0.15991333303813693, 0.007046987190747005, 0.21027757997473281, 0.043089095597612134, 0.17228654593080897, 0.5238432837563836, 0.049164867586254365, 0.0013268927331517514, 0.9995864031943793, 0.000916500669362913, 0.002382901740343574, 0.23480747149077832, 0.004765803480687148, 0.7570295528937662, 0.20725883849812438, 0.006487885784229437, 0.06336085892483044, 0.17887433819212056, 0.5069492549157996, 0.03705580919069505, 0.013463729163990698, 0.0004986566357033592, 0.9858441687855412, 0.999504643243209, 0.998811646564582, 0.06696595847868476, 0.03409537184035853, 0.1708575356835054, 0.6731684288791564, 0.03699182333165112, 0.01792489694325645, 0.9979864147184115, 0.00027933852074921953, 0.9994732272407074, 0.013867387326456192, 0.48774201362270136, 0.4907213351186197, 0.0006229490400556493, 0.004414812762133514, 0.0026272198645825207, 0.29298798112710944, 0.10879253194832378, 0.506043797232403, 0.00373210018007572, 0.08697967458516277, 0.0014674762843987054, 0.0018868699657237247, 0.9977768378747056, 0.031549679380529716, 0.0012292082875531058, 0.9596019364831245, 0.004097360958510352, 0.0028681526709572465, 0.9992983199997845, 0.9373234990743794, 0.013321350137848704, 0.04229528668766963, 0.0004995506301693264, 0.006327641315478134, 0.0001665168767231088, 0.0863520690075573, 9.637507701736307e-05, 0.05637942005515739, 0.010504883394892575, 0.8465586765205172, 9.637507701736307e-05, 0.9994193170425755, 0.07081044480573702, 0.001710091243072361, 0.03515187555204297, 0.01083057787279162, 0.024194624253838587, 0.8572624064809039, 0.9985631286357219, 0.9996095127153461, 0.9984097312304807, 0.0018862430551721766, 0.0018862430551721766, 0.9949932116033232, 0.0011481285671523674, 0.022388507059471163, 0.036835791529471786, 0.9169720156323573, 0.022675539201259254, 9.567738059603062e-05, 0.17030045956289397, 0.39197146389843696, 0.25528244520207244, 0.005851157392226763, 0.17626377971663307, 0.00031779449095161333, 0.2381221080866218, 0.07081753266164774, 0.12819006885132733, 0.01923244736912574, 0.46753351201680743, 0.07610301077690901, 0.9977131774731812, 0.01405185187159839, 0.0030787765336648155, 0.0035524344619209413, 0.9781825648369418, 0.0011052018325976261, 0.9996097168075994, 0.7834821807116646, 0.000889783503665162, 0.19149809342943658, 0.0013902867244768157, 0.022689479343461633, 5.5611468979072624e-05, 0.9920394543577107, 0.005218208702056923, 0.002319203867580855, 0.07364741509246044, 0.011322797774910362, 0.11135725463846625, 0.11736326041472306, 0.19504749906171676, 0.49121250520893733, 0.0075382124184861475, 0.013380327042812912, 0.9394497226538361, 0.009611220833569838, 0.029775939053020284, 7.348229042360159e-05, 7.348229042360159e-05, 7.348229042360159e-05, 0.9997265612130996, 0.9992696933235286, 0.9992619435310472, 0.11591415673714421, 0.22911615677154326, 0.44151956413157584, 0.00509445650921049, 0.1994168191842754, 0.008930570043723905, 0.9993564919390505, 0.8930876046332873, 0.0064270172447373, 0.0899782414263222, 0.010376954926398766, 6.694809629934687e-05, 0.9808631752515447, 0.01869680539335789, 0.00047940526649635615, 0.03202115918463641, 0.7271819378964963, 0.08487777544040224, 0.0800473329356639, 0.0749497691864239, 0.0009349243557558076, 0.09537813302438167, 0.07738563678984321, 0.7882235104140711, 0.00022378726659873688, 0.03553741793587942, 0.0032672940923415585, 0.9994101133201172, 0.003872530271336824, 0.00021514057062982356, 0.029259117605656002, 0.0012908434237789413, 0.9651205998453884, 0.00021514057062982356, 0.0583187920621578, 0.2617445327705777, 0.5256927145541912, 0.0005564770234938722, 0.15345410399867018, 0.0002448498903373038, 0.12677258889758303, 0.21590717143464963, 0.28661728719031143, 0.027096606655230306, 0.281216352021542, 0.06238271642452372, 0.9991142584636844, 0.9990053499629177, 0.9992730105187803, 0.0005726492896955761, 0.9971859824555973, 0.0014714402239213175, 0.007798633186782983, 0.0022071603358819764, 0.9239173166001954, 0.06415479376296945, 0.0002942880447842635, 0.9983526415097534, 0.0009133572095839069, 0.006393500467087349, 0.991905929608123, 0.004044108731062604, 0.008527794498110274, 0.09231117755686379, 0.009582779384474431, 0.8828465190724059, 0.002725377623107407, 0.000922606488526005, 0.9987215238294004, 0.01995897031662733, 0.006532026649078036, 0.9540387811347865, 0.0068949170184712605, 0.012338272559369624, 0.05541581015324694, 0.09928665985790076, 0.05908920665961748, 0.03521212936820899, 0.7497927040431746, 0.0012069731378074617, 0.9985131595772695, 0.004572066140035938, 8.626539886860262e-05, 0.9927422101798788, 0.0019841041739778603, 0.0006901231909488209, 0.000970761613734761, 0.9984283197262017, 0.0004853808068673805, 0.9995851257265778, 0.849970542681024, 0.0007909856153638883, 0.13073862242514556, 0.00033899383515595215, 0.018023172235791456, 0.00011299794505198406, 0.9944514301668653, 0.004749051719994581, 0.9981933002569471, 0.9976894408859621, 0.1705115105830606, 0.06379707778222728, 0.16682612123420437, 0.03677918965040971, 0.46097248395963747, 0.1011116449393965, 0.01880919998640634, 0.07175687769989679, 0.03836724400037452, 0.6728583835886577, 0.12021149124801617, 0.07796787816379208, 0.0003734174793324761, 0.0011202524379974282, 0.0003734174793324761, 0.9981449222557086, 0.9971858943110329, 0.9971872838400921, 0.9991270579477608, 0.9993053011409763, 0.050195293686249726, 0.017729530338721232, 0.05740990776347828, 0.042596923541083485, 0.8316761504345597, 0.000383756067937689, 0.005099012742936178, 0.8874831679080417, 0.1008329769915629, 0.00012747531857340444, 0.0005099012742936178, 0.005863864654376604, 0.9978146741523046, 0.0004956293561277934, 0.9986931525975037, 0.0004956293561277934, 0.022641140679470824, 0.07982453444685227, 0.08214670272166978, 0.8150810644609496, 0.01512918196460938, 0.00021926350673346926, 0.9445871870077857, 0.0004385270134669385, 0.010963175336673464, 0.028942782888817943, 0.998937388328063, 0.999149242380762, 0.9994233144091699, 0.1717241882269801, 0.18530130692771235, 0.424647455285524, 0.04183532085092136, 0.17576107424843568, 0.0007249917752818197, 0.07376532183778488, 0.004700731293584331, 0.914834628674489, 0.0016271762170099607, 0.004881528651029882, 0.0001807973574455512, 0.13404082878763118, 0.24531129602295612, 0.3925946115751083, 0.006086087419510418, 0.22054721617805167, 0.0014270825673334774, 0.9989332556979514, 0.3744690822762915, 0.2681127111340644, 0.29685128064171684, 0.013725099069528448, 0.04624990280325774, 0.0005784524512061799, 0.08143477464964234, 0.1599317388290421, 0.10168319638930304, 0.019882235732038383, 0.6245718480461634, 0.012491936305479116, 0.9986847558690657, 0.02960616766096069, 0.7922463658630134, 0.07577710846776467, 0.0010031841934705688, 0.0047712418957746566, 0.09659929745906844, 0.9993649311195302, 0.07428054381109973, 0.17097529909146025, 0.04421643081649397, 0.0009944871982948472, 0.00022949704576034934, 0.7092223704147329, 0.9988274281685721, 0.9996459269726395, 0.04668912651284319, 0.008617852790921992, 0.8964748637442649, 0.00310897220938325, 0.03888942430333785, 0.0062179444187665, 0.12596245042711848, 0.08852188558111343, 0.2260654930452957, 0.31558448600715844, 0.24231343954471896, 0.0015446991390296776, 0.07142435905227071, 0.06317633724525173, 0.060719479685714166, 0.684995286242498, 0.11927458485469286, 0.0004679728684833462, 0.003833695789697597, 0.9913937312157985, 0.004600434947637116, 0.17935236628140117, 0.21764096974945973, 0.3126640513691499, 0.14997217671518856, 0.1255411059833348, 0.014819604434846537, 0.0001959599830486316, 0.010189919118528843, 0.009602039169382948, 0.9799958752262066], \"Term\": [\"accident\", \"accident\", \"accident\", \"accident\", \"accident\", \"accident\", \"accident_lawyer\", \"accident_lawyer\", \"accord\", \"accord\", \"accord\", \"accord\", \"accord\", \"accord\", \"accordance\", \"accordance\", \"accordance\", \"accordance\", \"accordance\", \"accordance\", \"account_holder\", \"acquire\", \"acquire\", \"acquire\", \"acquire\", \"acquire\", \"acquire\", \"action_regulation\", \"activethings_function\", \"actor\", \"actor\", \"actor\", \"actor\", \"actor\", \"actual_value\", \"actually\", \"actually\", \"actually\", \"actually\", \"actually\", \"ad_slot\", \"additional_share\", \"additional_share\", \"ads_show\", \"ago_faile\", \"ago_failed\", \"ago_fetch\", \"agree\", \"agree\", \"agree\", \"agree\", \"agree\", \"agree\", \"airline_ticket\", \"alcohol\", \"alcohol\", \"alcohol\", \"alcohol\", \"alcohol\", \"alcohol\", \"alcohol_detox\", \"alcohol_drug\", \"alcohol_rehabilitation\", \"alex_caruso\", \"also\", \"also\", \"also\", \"also\", \"also\", \"also\", \"also_recently\", \"also_recently\", \"also_recently\", \"also_recently\", \"annoy_abuse\", \"app_classified\", \"approximate_retail\", \"arbitrate\", \"arbitration\", \"arbitration\", \"arbitration\", \"arbitration\", \"area\", \"area\", \"area\", \"area\", \"area\", \"area\", \"arrest\", \"arrest\", \"arrest\", \"arrest\", \"arrest\", \"arrest\", \"assettracked_push\", \"attorney\", \"attorney\", \"attorney\", \"attorney\", \"attorney\", \"attorney\", \"atwater\", \"atwater\", \"averaged_point\", \"averaged_point\", \"averaging_point\", \"averaging_point\", \"award\", \"award\", \"award\", \"award\", \"award\", \"award\", \"baby\", \"baby\", \"baby\", \"baby\", \"baby\", \"baby\", \"back\", \"back\", \"back\", \"back\", \"back\", \"back\", \"ball\", \"ball\", \"ball\", \"ball\", \"ball\", \"bear\", \"bear\", \"bear\", \"bear\", \"bear\", \"bear\", \"best_experience\", \"beta\", \"big_ten\", \"big_ten\", \"big_ten\", \"blackhawk\", \"blackhawk\", \"blackhawk\", \"blackhawk\", \"blackhawk\", \"block\", \"block\", \"block\", \"block\", \"block\", \"block\", \"boyfriend\", \"boyfriend\", \"boyfriend\", \"brief_powered\", \"buck\", \"buck\", \"buck\", \"buck\", \"buck\", \"bull\", \"bull\", \"bull\", \"bull\", \"business\", \"business\", \"business\", \"business\", \"business\", \"business\", \"buy\", \"buy\", \"buy\", \"buy\", \"buy\", \"buy\", \"call\", \"call\", \"call\", \"call\", \"call\", \"call\", \"cancel_classe\", \"cancel_classe\", \"car_accident\", \"car_accident\", \"car_accident\", \"car_accident\", \"card_carousel__trigger\", \"carjacking\", \"carjacking\", \"carjacking\", \"carjacking\", \"carjacking\", \"carousel_control\", \"case\", \"case\", \"case\", \"case\", \"case\", \"case\", \"casino\", \"casino\", \"casino\", \"casino\", \"casino\", \"certain_term\", \"certainly\", \"certainly\", \"certainly\", \"certainly\", \"certainly\", \"character\", \"character\", \"character\", \"character\", \"character\", \"character\", \"charge\", \"charge\", \"charge\", \"charge\", \"charge\", \"charge\", \"chelsea\", \"chelsea\", \"chelsea\", \"chicago\", \"chicago\", \"chicago\", \"chicago\", \"chicago\", \"chicago\", \"chicago_accident\", \"chicago_accident\", \"chicago_auto\", \"chicago_auto\", \"chicago_auto\", \"chicago_auto\", \"chicago_bear\", \"chicago_bear\", \"chicago_bear\", \"chicago_bear\", \"chicago_bull\", \"chicago_bull\", \"chicago_bull\", \"chicago_bull\", \"chicago_divorce\", \"chicago_employment\", \"chicago_fire\", \"chicago_fire\", \"chicago_fire\", \"chicago_fire\", \"chicago_fire\", \"chicago_immigration\", \"chicago_public\", \"chicago_public\", \"chicago_public\", \"chicago_public\", \"chicago_table\", \"chicago_teacher\", \"chicago_teacher\", \"chicago_teacher\", \"chicago_truck\", \"chicago_truck\", \"church\", \"church\", \"church\", \"church\", \"church\", \"city\", \"city\", \"city\", \"city\", \"city\", \"city\", \"claim\", \"claim\", \"claim\", \"claim\", \"claim\", \"claim\", \"claimant\", \"claimant\", \"class\", \"class\", \"class\", \"class\", \"class\", \"class\", \"classroom\", \"classroom\", \"classroom\", \"classroom\", \"coach\", \"coach\", \"coach\", \"coach\", \"coach\", \"coach\", \"coaching_candidate\", \"cockburn\", \"cockburn\", \"college_basketball\", \"college_basketball\", \"college_basketball\", \"college_scoute\", \"com\", \"com\", \"com\", \"com\", \"com\", \"com\", \"come\", \"come\", \"come\", \"come\", \"come\", \"come\", \"comments_observed\", \"community\", \"community\", \"community\", \"community\", \"community\", \"community\", \"company\", \"company\", \"company\", \"company\", \"company\", \"company\", \"company_reporte\", \"company_stock\", \"conditions_specifie\", \"conduct\", \"conduct\", \"conduct\", \"conduct\", \"conduct\", \"conduct\", \"content_section\", \"content_section\", \"cop\", \"cop\", \"cop\", \"cop\", \"cop\", \"cop\", \"cornerback\", \"cost\", \"cost\", \"cost\", \"cost\", \"cost\", \"cost\", \"countries_breake\", \"countries_breake\", \"countries_breake\", \"countries_breake\", \"county\", \"county\", \"county\", \"county\", \"county\", \"county\", \"court\", \"court\", \"court\", \"court\", \"court\", \"court\", \"covid\", \"covid\", \"covid\", \"covid\", \"covid\", \"covid\", \"covid_case\", \"covid_case\", \"covid_case\", \"covid_case\", \"covid_safety\", \"covid_safety\", \"cps\", \"cps\", \"cps\", \"crime\", \"crime\", \"crime\", \"crime\", \"crime\", \"crime\", \"cub\", \"cub\", \"cub\", \"current_ratio\", \"dad\", \"dad\", \"dad\", \"dad\", \"dad\", \"datum\", \"datum\", \"datum\", \"datum\", \"datum\", \"datum\", \"daughter\", \"daughter\", \"daughter\", \"daughter\", \"daughter\", \"day\", \"day\", \"day\", \"day\", \"day\", \"day\", \"day_move\", \"day_moving\", \"death\", \"death\", \"death\", \"death\", \"death\", \"death\", \"defendant\", \"defendant\", \"defendant\", \"defendant\", \"dependency\", \"derozan\", \"derozan\", \"derozan\", \"detective\", \"detective\", \"detective\", \"detective\", \"detox\", \"die\", \"die\", \"die\", \"die\", \"die\", \"die\", \"discretion\", \"discretion\", \"discretion\", \"discretion\", \"discretion\", \"disqualify\", \"disqualify\", \"disqualify\", \"district\", \"district\", \"district\", \"district\", \"district\", \"district\", \"district_official\", \"district_official\", \"dividend\", \"dividend\", \"dividend\", \"divorce_lawyer\", \"document_body\", \"document_documentelement\", \"dosunmu\", \"draft\", \"draft\", \"draft\", \"draft\", \"draft\", \"draft\", \"easy_fact\", \"easy_fact\", \"easy_fact\", \"eberflus\", \"eberflus\", \"eligible_entrie\", \"else_document\", \"else_document\", \"entrant\", \"entrant\", \"entrant\", \"entrant\", \"entrant\", \"episode\", \"episode\", \"episode\", \"episode\", \"episode\", \"equity\", \"equity\", \"equity\", \"equity\", \"even\", \"even\", \"even\", \"even\", \"even\", \"even\", \"event\", \"event\", \"event\", \"event\", \"event\", \"event\", \"ex_dividend\", \"explore_breaking\", \"fact\", \"fact\", \"fact\", \"fact\", \"fact\", \"fact\", \"family\", \"family\", \"family\", \"family\", \"family\", \"family\", \"family_lawyer\", \"fatal_shoote\", \"fatal_shoote\", \"field\", \"field\", \"field\", \"field\", \"field\", \"field\", \"field_goal\", \"find\", \"find\", \"find\", \"find\", \"find\", \"find\", \"fire\", \"fire\", \"fire\", \"fire\", \"fire\", \"fire\", \"firefighter\", \"firefighter\", \"firefighter\", \"firefighter\", \"firehouse\", \"firehouse\", \"first\", \"first\", \"first\", \"first\", \"first\", \"first\", \"flee\", \"flee\", \"flee\", \"flee\", \"flee\", \"flickr\", \"food\", \"food\", \"food\", \"food\", \"food\", \"food\", \"forfeit\", \"forfeit\", \"free_agency\", \"free_agent\", \"free_agent\", \"free_throw\", \"function\", \"function\", \"function\", \"function\", \"function\", \"function\", \"function_openweb\", \"function_stoppropagation\", \"game\", \"game\", \"game\", \"game\", \"game\", \"game\", \"geolocated\", \"get\", \"get\", \"get\", \"get\", \"get\", \"get\", \"get_rate\", \"girl\", \"girl\", \"girl\", \"girl\", \"girl\", \"go\", \"go\", \"go\", \"go\", \"go\", \"go\", \"good\", \"good\", \"good\", \"good\", \"good\", \"good\", \"gun\", \"gun\", \"gun\", \"gun\", \"gun\", \"gun\", \"gun_violence\", \"gun_violence\", \"gun_violence\", \"gun_violence\", \"gunfire\", \"gunfire\", \"gunman\", \"halstead\", \"head_coache\", \"head_coache\", \"hedge_fund\", \"help\", \"help\", \"help\", \"help\", \"help\", \"help\", \"hold_rating\", \"holding\", \"holding\", \"holding\", \"holding\", \"holding\", \"holding\", \"home\", \"home\", \"home\", \"home\", \"home\", \"home\", \"homicide\", \"homicide\", \"homicide\", \"homicide\", \"homicide\", \"hospital\", \"hospital\", \"hospital\", \"hospital\", \"hospital\", \"hospital\", \"hotels_airline\", \"https_open\", \"illegal_work\", \"illini\", \"illini\", \"illini\", \"illinois\", \"illinois\", \"illinois\", \"illinois\", \"illinois\", \"illinois\", \"illinois_tool\", \"illinois_tool\", \"include\", \"include\", \"include\", \"include\", \"include\", \"include\", \"individual\", \"individual\", \"individual\", \"individual\", \"individual\", \"individual\", \"individuals_live\", \"industrial_product\", \"industrial_product\", \"ins_class\", \"ins_class\", \"installed_maintaine\", \"instance\", \"instance\", \"instance\", \"instance\", \"instance\", \"instance\", \"institutional_investor\", \"insurance_lawyer\", \"insurance_lawyer\", \"investor\", \"investor\", \"investor\", \"investor\", \"investor\", \"investor\", \"irs_form\", \"justin_field\", \"kardashian\", \"kardashian\", \"kidd\", \"kill\", \"kill\", \"kill\", \"kill\", \"kill\", \"kill\", \"know\", \"know\", \"know\", \"know\", \"know\", \"know\", \"known_detail\", \"known_detail\", \"known_detail\", \"known_fact\", \"known_fact\", \"known_fact\", \"known_factual\", \"known_factual\", \"known_factual\", \"kofi_cockburn\", \"kyiv\", \"last_game\", \"last_game\", \"last_game\", \"latest_filing\", \"law\", \"law\", \"law\", \"law\", \"law\", \"law\", \"law_order\", \"law_order\", \"lawyer\", \"lawyer\", \"lawyer\", \"lawyer\", \"lawyer\", \"lawyer\", \"layup\", \"lead\", \"lead\", \"lead\", \"lead\", \"lead\", \"lead\", \"league\", \"league\", \"league\", \"league\", \"league\", \"league\", \"leave\", \"leave\", \"leave\", \"leave\", \"leave\", \"leave\", \"liability\", \"liability\", \"liability\", \"liability\", \"liability\", \"liability\", \"life\", \"life\", \"life\", \"life\", \"life\", \"life\", \"loan\", \"loan\", \"loan\", \"loan\", \"loan\", \"loan\", \"look\", \"look\", \"look\", \"look\", \"look\", \"look\", \"loss\", \"loss\", \"loss\", \"loss\", \"loss\", \"loss\", \"lot\", \"lot\", \"lot\", \"lot\", \"lot\", \"lot\", \"make\", \"make\", \"make\", \"make\", \"make\", \"make\", \"man\", \"man\", \"man\", \"man\", \"man\", \"man\", \"market\", \"market\", \"market\", \"market\", \"market\", \"market\", \"mask\", \"mask\", \"mask\", \"mask\", \"mask\", \"mask\", \"matchup\", \"matchup\", \"matchup\", \"mccormick_place\", \"method\", \"method\", \"method\", \"method\", \"method\", \"method\", \"minnesota_viking\", \"modal_body\", \"mom\", \"mom\", \"mom\", \"mom\", \"mom\", \"moon_rock\", \"moon_stone\", \"moscow\", \"mother\", \"mother\", \"mother\", \"mother\", \"mother\", \"mother\", \"multiple_crashe\", \"murder\", \"murder\", \"murder\", \"murder\", \"murder\", \"museum\", \"museum\", \"museum\", \"nagy\", \"nagy\", \"nagy\", \"nav_false\", \"nba\", \"nba\", \"nba\", \"need\", \"need\", \"need\", \"need\", \"need\", \"need\", \"net_margin\", \"new\", \"new\", \"new\", \"new\", \"new\", \"new\", \"new_beginning\", \"new_roof\", \"news\", \"news\", \"news\", \"news\", \"news\", \"news\", \"news_alert\", \"news_alert\", \"news_video\", \"next_click\", \"next_owl\", \"nfl\", \"nfl\", \"nfl\", \"nfl\", \"nfl_draft\", \"nfl_draft\", \"nfl_network\", \"obtain\", \"obtain\", \"obtain\", \"obtain\", \"obtain\", \"obtain\", \"offense\", \"offense\", \"offense\", \"offense\", \"offense\", \"officer\", \"officer\", \"officer\", \"officer\", \"officer\", \"officer\", \"official_rule\", \"offseason\", \"offseason\", \"offseason\", \"offsetwidth\", \"offsetwidth_winw\", \"one_eligible\", \"online_simply\", \"open\", \"open\", \"open\", \"open\", \"open\", \"open\", \"opponent\", \"opponent\", \"opponent\", \"opponent\", \"opponent\", \"owns_share\", \"packer\", \"packer\", \"packer\", \"parent_time\", \"park\", \"park\", \"park\", \"park\", \"park\", \"park\", \"participate\", \"participate\", \"participate\", \"participate\", \"participate\", \"participate\", \"participating_station\", \"pelham\", \"people\", \"people\", \"people\", \"people\", \"people\", \"people\", \"per_share\", \"personal_injury\", \"personal_injury\", \"pick\", \"pick\", \"pick\", \"pick\", \"pick\", \"pick\", \"pizza\", \"pizza\", \"pizza\", \"pizza\", \"place\", \"place\", \"place\", \"place\", \"place\", \"place\", \"plaintiff\", \"plaintiff\", \"plaintiff\", \"play\", \"play\", \"play\", \"play\", \"play\", \"play\", \"player\", \"player\", \"player\", \"player\", \"player\", \"player\", \"playoff\", \"playoff\", \"playoff\", \"point\", \"point\", \"point\", \"point\", \"point\", \"point\", \"points_rebound\", \"points_rebound\", \"points_rebound\", \"pole\", \"pole\", \"pole\", \"pole\", \"police\", \"police\", \"police\", \"police\", \"police\", \"police\", \"police_said\", \"police_said\", \"police_said\", \"position\", \"position\", \"position\", \"position\", \"position\", \"position\", \"potential_winner\", \"prev_owl\", \"price\", \"price\", \"price\", \"price\", \"price\", \"price\", \"price_objective\", \"prison\", \"prison\", \"prison\", \"prison\", \"prison\", \"prize\", \"prize\", \"prize\", \"prize\", \"prize\", \"prize\", \"prize_awarded\", \"prize_component\", \"prizewinner\", \"product\", \"product\", \"product\", \"product\", \"product\", \"product\", \"program\", \"program\", \"program\", \"program\", \"program\", \"program\", \"provide\", \"provide\", \"provide\", \"provide\", \"provide\", \"provide\", \"purchase\", \"purchase\", \"purchase\", \"purchase\", \"purchase\", \"purchase\", \"purchasing\", \"purchasing\", \"purchasing\", \"purchasing\", \"quantity\", \"quantity\", \"quantity\", \"quantity\", \"quantity\", \"quarter_compared\", \"quarterback\", \"quarterback\", \"quick_ratio\", \"rambler\", \"rambler\", \"rambler\", \"rate\", \"rate\", \"rate\", \"rate\", \"rate\", \"rate\", \"rated_alcohol\", \"rating\", \"rating\", \"rating\", \"rating\", \"rating\", \"ratio\", \"ratio\", \"ratio\", \"ratio\", \"ratio\", \"reading_new\", \"rebound\", \"rebound\", \"rebound\", \"rebound\", \"rebound\", \"recent_file\", \"recuperation\", \"rehab\", \"rehab\", \"rehab\", \"rehab\", \"rehab_cent\", \"rehab_center\", \"release\", \"release\", \"release\", \"release\", \"release\", \"release\", \"released_parties\", \"releases_winner\", \"remaining_eligible\", \"remote_learne\", \"remote_learne\", \"remote_learne\", \"report\", \"report\", \"report\", \"report\", \"report\", \"report\", \"require\", \"require\", \"require\", \"require\", \"require\", \"require\", \"research_analyst\", \"resident\", \"resident\", \"resident\", \"resident\", \"resident\", \"resident\", \"responsible\", \"responsible\", \"responsible\", \"responsible\", \"responsible\", \"responsible\", \"restaurant\", \"restaurant\", \"restaurant\", \"restaurant\", \"restaurant\", \"restaurant\", \"retirement_fund\", \"return_else\", \"right\", \"right\", \"right\", \"right\", \"right\", \"right\", \"river\", \"river\", \"river\", \"river\", \"river\", \"river\", \"roof\", \"roof\", \"roof\", \"roof\", \"roof_covere\", \"roof_shingle\", \"roofer\", \"roofing\", \"roofing_companie\", \"roofing_company\", \"rule\", \"rule\", \"rule\", \"rule\", \"rule\", \"rule\", \"russia\", \"russia\", \"russia\", \"russia\", \"russia\", \"russian\", \"russian\", \"russian\", \"russian\", \"russian\", \"russian_force\", \"sale\", \"sale\", \"sale\", \"sale\", \"sale\", \"sale\", \"say\", \"say\", \"say\", \"say\", \"say\", \"say\", \"scene\", \"scene\", \"scene\", \"scene\", \"scene\", \"scene\", \"school\", \"school\", \"school\", \"school\", \"school\", \"school\", \"school_district\", \"school_district\", \"school_district\", \"score\", \"score\", \"score\", \"score\", \"score\", \"score\", \"scored_point\", \"scored_point\", \"season\", \"season\", \"season\", \"season\", \"season\", \"season\", \"second_half\", \"second_half\", \"second_half\", \"second_half\", \"section\", \"section\", \"section\", \"section\", \"section\", \"section\", \"see\", \"see\", \"see\", \"see\", \"see\", \"see\", \"sell\", \"sell\", \"sell\", \"sell\", \"sell\", \"sell\", \"sell_rate\", \"sentence\", \"sentence\", \"sentence\", \"sentence\", \"sentence\", \"service\", \"service\", \"service\", \"service\", \"service\", \"service\", \"set_forth\", \"set_forth\", \"set_forth\", \"set_hold\", \"severide\", \"share\", \"share\", \"share\", \"share\", \"share\", \"share\", \"share_team\", \"shingle\", \"shingle\", \"shoot\", \"shoot\", \"shoot\", \"shoot\", \"shoot\", \"shoot\", \"show\", \"show\", \"show\", \"show\", \"show\", \"show\", \"simple_technique\", \"simple_technique\", \"sister\", \"sister\", \"sister\", \"sister\", \"sister\", \"smollett\", \"snow\", \"snow\", \"snow\", \"snow\", \"snow\", \"snow\", \"social\", \"social\", \"social\", \"social\", \"social\", \"social\", \"special_team\", \"sponsor\", \"sponsor\", \"sponsor\", \"sponsor\", \"sponsor\", \"sponsor\", \"sponsor_decision\", \"sponsor_reserve\", \"sponsor_sole\", \"stab\", \"stab\", \"stab\", \"stake\", \"stake\", \"stake\", \"stake\", \"stake\", \"stake\", \"start\", \"start\", \"start\", \"start\", \"start\", \"start\", \"state\", \"state\", \"state\", \"state\", \"state\", \"state\", \"stella\", \"stock\", \"stock\", \"stock\", \"stock\", \"stock\", \"stock_currently\", \"student\", \"student\", \"student\", \"student\", \"student\", \"student\", \"students_staff\", \"students_staff\", \"students_staff\", \"subject\", \"subject\", \"subject\", \"subject\", \"subject\", \"subject\", \"suspect\", \"suspect\", \"suspect\", \"suspect\", \"suspect\", \"sweepstake\", \"sweepstake\", \"sweepstake\", \"sweepstake\", \"sweepstakes_entitie\", \"sweepstakes_entrant\", \"take\", \"take\", \"take\", \"take\", \"take\", \"take\", \"td_social\", \"teacher\", \"teacher\", \"teacher\", \"teacher\", \"teacher\", \"teachers_union\", \"teachers_union\", \"teachers_union\", \"team\", \"team\", \"team\", \"team\", \"team\", \"team\", \"tell\", \"tell\", \"tell\", \"tell\", \"tell\", \"tell\", \"th_finally\", \"therapy\", \"therapy\", \"therapy\", \"therapy\", \"therapy\", \"therapy\", \"think\", \"think\", \"think\", \"think\", \"think\", \"think\", \"time\", \"time\", \"time\", \"time\", \"time\", \"time\", \"top_hiring\", \"total_individual\", \"touchdown\", \"touchdown\", \"tracking_addevent\", \"transaction\", \"transaction\", \"transaction\", \"transaction\", \"transaction\", \"transaction\", \"travel_nurse\", \"travel_relate\", \"travel_relate\", \"travel_relate\", \"treatment\", \"treatment\", \"treatment\", \"treatment\", \"treatment\", \"treatment\", \"truck_accident\", \"truck_accident\", \"trump\", \"trump\", \"trump\", \"trump\", \"trump\", \"type\", \"type\", \"type\", \"type\", \"type\", \"type\", \"udp_tracker\", \"ukraine\", \"ukraine\", \"ukraine\", \"ukraine\", \"ukraine\", \"ukrainian\", \"ukrainian\", \"ukrainian\", \"underweight_rating\", \"union\", \"union\", \"union\", \"union\", \"union\", \"union\", \"union_vote\", \"union_vote\", \"union_voted\", \"us_collect\", \"use\", \"use\", \"use\", \"use\", \"use\", \"use\", \"value\", \"value\", \"value\", \"value\", \"value\", \"value\", \"van_dyke\", \"van_dyke\", \"van_dyke\", \"van_dyke\", \"var_activething\", \"var_assetid\", \"var_hasbeenlogged\", \"var_winw\", \"various\", \"various\", \"various\", \"various\", \"various\", \"various\", \"victory\", \"victory\", \"victory\", \"victory\", \"victory\", \"victory\", \"videos_wgn\", \"viking\", \"viking\", \"viking\", \"violate\", \"violate\", \"violate\", \"violate\", \"violence\", \"violence\", \"violence\", \"violence\", \"violence\", \"violence\", \"violet\", \"voight\", \"vucevic\", \"want\", \"want\", \"want\", \"want\", \"want\", \"want\", \"war\", \"war\", \"war\", \"war\", \"war\", \"war\", \"way\", \"way\", \"way\", \"way\", \"way\", \"way\", \"way_intentionally\", \"week\", \"week\", \"week\", \"week\", \"week\", \"week\", \"well\", \"well\", \"well\", \"well\", \"well\", \"well\", \"wgn_tagged\", \"win\", \"win\", \"win\", \"win\", \"win\", \"win\", \"window_innerwidth\", \"winner\", \"winner\", \"winner\", \"winner\", \"winner\", \"winner\", \"winning_prize\", \"winw_window\", \"woman\", \"woman\", \"woman\", \"woman\", \"woman\", \"woman\", \"work\", \"work\", \"work\", \"work\", \"work\", \"work\", \"worth\", \"worth\", \"worth\", \"worth\", \"worth\", \"worth\", \"www_npr\", \"www_npr\", \"www_npr\", \"year\", \"year\", \"year\", \"year\", \"year\", \"year\", \"youngster\", \"youngster\", \"youngster\", \"youngster\"]}, \"R\": 30, \"lambda.step\": 0.01, \"plot.opts\": {\"xlab\": \"PC1\", \"ylab\": \"PC2\"}, \"topic.order\": [1, 2, 3, 4, 5, 6]};\n",
       "\n",
       "function LDAvis_load_lib(url, callback){\n",
       "  var s = document.createElement('script');\n",
       "  s.src = url;\n",
       "  s.async = true;\n",
       "  s.onreadystatechange = s.onload = callback;\n",
       "  s.onerror = function(){console.warn(\"failed to load library \" + url);};\n",
       "  document.getElementsByTagName(\"head\")[0].appendChild(s);\n",
       "}\n",
       "\n",
       "if(typeof(LDAvis) !== \"undefined\"){\n",
       "   // already loaded: just create the visualization\n",
       "   !function(LDAvis){\n",
       "       new LDAvis(\"#\" + \"ldavis_el2913618859383592004956225252\", ldavis_el2913618859383592004956225252_data);\n",
       "   }(LDAvis);\n",
       "}else if(typeof define === \"function\" && define.amd){\n",
       "   // require.js is available: use it to load d3/LDAvis\n",
       "   require.config({paths: {d3: \"https://d3js.org/d3.v5\"}});\n",
       "   require([\"d3\"], function(d3){\n",
       "      window.d3 = d3;\n",
       "      LDAvis_load_lib(\"https://cdn.jsdelivr.net/gh/bmabey/pyLDAvis@3.3.1/pyLDAvis/js/ldavis.v3.0.0.js\", function(){\n",
       "        new LDAvis(\"#\" + \"ldavis_el2913618859383592004956225252\", ldavis_el2913618859383592004956225252_data);\n",
       "      });\n",
       "    });\n",
       "}else{\n",
       "    // require.js not available: dynamically load d3 & LDAvis\n",
       "    LDAvis_load_lib(\"https://d3js.org/d3.v5.js\", function(){\n",
       "         LDAvis_load_lib(\"https://cdn.jsdelivr.net/gh/bmabey/pyLDAvis@3.3.1/pyLDAvis/js/ldavis.v3.0.0.js\", function(){\n",
       "                 new LDAvis(\"#\" + \"ldavis_el2913618859383592004956225252\", ldavis_el2913618859383592004956225252_data);\n",
       "            })\n",
       "         });\n",
       "}\n",
       "</script>"
      ],
      "text/plain": [
       "<IPython.core.display.HTML object>"
      ]
     },
     "execution_count": 22,
     "metadata": {},
     "output_type": "execute_result"
    }
   ],
   "source": [
    "%%time\n",
    "\n",
    "lda_display = gensimvis.prepare(tuned_lda_model, doc_term_matrix, dictionary, sort_topics=False, mds='mmds')\n",
    "pyLDAvis.display(lda_display)"
   ]
  },
  {
   "cell_type": "markdown",
   "id": "3874cd45",
   "metadata": {},
   "source": [
    "Topics:\n",
    "1. Talks about schools in chicago- remote learning and covid\n",
    "2. Talks about games - game, team, season, play, bear\n",
    "3. About police and possibly crimes\n",
    "4. About Buisness and stocks.\n",
    "5. Talks about lawyers and cases - divorce_lawyer, rehab, alcohol_drug, roofing\n",
    "6. Talks about prize and winning - sweepstake, prize, winner, sponsor. (Some negatives like - accident lawyer, truck accident, disqualify, arbitration)"
   ]
  },
  {
   "cell_type": "code",
   "execution_count": 49,
   "id": "d10c08fc",
   "metadata": {},
   "outputs": [
    {
     "data": {
      "text/plain": [
       "<matplotlib.legend.Legend at 0x20af9a28790>"
      ]
     },
     "execution_count": 49,
     "metadata": {},
     "output_type": "execute_result"
    },
    {
     "data": {
      "image/png": "[encoded data removed]",
      "text/plain": [
       "<Figure size 432x288 with 1 Axes>"
      ]
     },
     "metadata": {
      "needs_background": "light"
     },
     "output_type": "display_data"
    }
   ],
   "source": [
    "#Number of documents per topic\n",
    "all_topics = tuned_lda_model.get_document_topics(doc_term_matrix, minimum_probability=0.0)\n",
    "all_topics_csr = gensim.matutils.corpus2csc(all_topics)\n",
    "all_topics_numpy = all_topics_csr.T.toarray()\n",
    "all_topics_df = pd.DataFrame(all_topics_numpy)\n",
    "all_topics_df['topic_num'] = all_topics_df.idxmax(axis=1)\n",
    "all_topics_df['topic_num'] = all_topics_df['topic_num'] + 1\n",
    "ax = all_topics_df.topic_num.value_counts().reset_index().rename(columns={'index':'topic', \n",
    "                                                                          'topic_num': 'documents'}).plot.bar(x = 'topic', \n",
    "                                                                                                              y = 'documents',\n",
    "                                                                                                             title='Number of documents per topic')\n",
    "ax.legend('Number of documents per topic')"
   ]
  },
  {
   "cell_type": "code",
   "execution_count": 68,
   "id": "e1bcafae",
   "metadata": {
    "scrolled": false
   },
   "outputs": [
    {
     "data": {
      "text/html": [
       "<div>\n",
       "<style scoped>\n",
       "    .dataframe tbody tr th:only-of-type {\n",
       "        vertical-align: middle;\n",
       "    }\n",
       "\n",
       "    .dataframe tbody tr th {\n",
       "        vertical-align: top;\n",
       "    }\n",
       "\n",
       "    .dataframe thead th {\n",
       "        text-align: right;\n",
       "    }\n",
       "</style>\n",
       "<table border=\"1\" class=\"dataframe\">\n",
       "  <thead>\n",
       "    <tr style=\"text-align: right;\">\n",
       "      <th></th>\n",
       "      <th>date</th>\n",
       "      <th>language</th>\n",
       "      <th>title</th>\n",
       "      <th>text</th>\n",
       "      <th>text_clean</th>\n",
       "      <th>topic</th>\n",
       "    </tr>\n",
       "  </thead>\n",
       "  <tbody>\n",
       "    <tr>\n",
       "      <th>0</th>\n",
       "      <td>2022-01-06</td>\n",
       "      <td>english</td>\n",
       "      <td>No deal, no school: Chicago cancels classes for a 2nd day</td>\n",
       "      <td>CHICAGO (AP) — Chicago school leaders canceled classes Thursday for a second consecutive day after failing to reach agreement with the teachers union over COVID-19 safety protocols in the nation’s third-largest school district. The Chicago Teachers Union sought to revert to remote instruction during the latest surge of infections and while both sides hammer out a deal. But Chicago Public Schools leaders have said remote learning didn’t work and schools can safely remain open with protocols in place. The move to cancel classes and activities Thursday affects roughly 350,000 students and came after closed-door negotiations Wednesday failed to produce a deal. The issues include metrics for closing schools. “We have no choice but to cancel classes tomorrow,” Schools CEO Pedro Martinez said at a Wednesday evening news conference. Students returned to class Monday after a two-week winter b...</td>\n",
       "      <td>CHICAGO AP  Chicago school leaders canceled classes Thursday for a second consecutive day after failing to reach agreement with the teachers union over COVID19 safety protocols in the nations thirdlargest school district. The Chicago Teachers Union sought to revert to remote instruction during the latest surge of infections and while both sides hammer out a deal. But Chicago Public Schools leaders have said remote learning didnt work and schools can safely remain open with protocols in place. The move to cancel classes and activities Thursday affects roughly 350,000 students and came after closeddoor negotiations Wednesday failed to produce a deal. The issues include metrics for closing schools. We have no choice but to cancel classes tomorrow, Schools CEO Pedro Martinez said at a Wednesday evening news conference. Students returned to class Monday after a twoweek winter break with C...</td>\n",
       "      <td>1</td>\n",
       "    </tr>\n",
       "    <tr>\n",
       "      <th>1</th>\n",
       "      <td>2022-01-06</td>\n",
       "      <td>english</td>\n",
       "      <td>No deal, no school: Chicago cancels classes for a 2nd day | National | couriernews.com</td>\n",
       "      <td>CHICAGO (AP) — Chicago school leaders canceled classes for a second straight day after failing to reach an agreement Wednesday with the teachers union over remote learning and other COVID-19 safety protocols in the nation's third-largest school district. The Chicago Teachers Union, which voted to revert to online instruction, told teachers to stay home Wednesday during the latest COVID-19 surge while both sides negotiate, prompting district officials to cancel classes two days after students returned from winter break. Chicago Public Schools, like most other districts, has rejected retuning to remote learning, saying it worsened racial inequities and was detrimental to academic performance, mental health and attendance. District officials insist schools can safely remain open with protocols in place. Both sides negotiated behind closed doors Wednesday afternoon but failed to produce ...</td>\n",
       "      <td>CHICAGO AP  Chicago school leaders canceled classes for a second straight day after failing to reach an agreement Wednesday with the teachers union over remote learning and other COVID19 safety protocols in the nations thirdlargest school district. The Chicago Teachers Union, which voted to revert to online instruction, told teachers to stay home Wednesday during the latest COVID19 surge while both sides negotiate, prompting district officials to cancel classes two days after students returned from winter break. Chicago Public Schools, like most other districts, has rejected retuning to remote learning, saying it worsened racial inequities and was detrimental to academic performance, mental health and attendance. District officials insist schools can safely remain open with protocols in place. Both sides negotiated behind closed doors Wednesday afternoon but failed to produce an agre...</td>\n",
       "      <td>1</td>\n",
       "    </tr>\n",
       "    <tr>\n",
       "      <th>2</th>\n",
       "      <td>2022-01-06</td>\n",
       "      <td>english</td>\n",
       "      <td>Watch ‘Chicago P.D.’ Preview Wednesday</td>\n",
       "      <td>Chicago PD 9×11 “Lies” Season 9 Episode 11 Promo – Voight employs his new informant to help solve a tricky drug trafficking case. Atwater, who once again struggles to reconcile his personal and professional life, reaches a decision.\\n@jesseleesoffer @marinasqu @trspiridakos @NBCChicagoPD</td>\n",
       "      <td>Chicago PD 911 Lies Season 9 Episode 11 Promo  Voight employs his new informant to help solve a tricky drug trafficking case. Atwater, who once again struggles to reconcile his personal and professional life, reaches a decision.@jesseleesoffer @marinasqu @trspiridakos @NBCChicagoPD</td>\n",
       "      <td>3</td>\n",
       "    </tr>\n",
       "    <tr>\n",
       "      <th>3</th>\n",
       "      <td>2022-01-06</td>\n",
       "      <td>english</td>\n",
       "      <td>Trump’s Solution for Chicago Public Schools? King Solomon Blog</td>\n",
       "      <td>Wise of Foolish?\\nThe Chicago Tribune article titled: Chicago Public Schools cancels classes again Thursday as deadlock with union continues; Trump, Biden press secretary each comment on impasse, reported Trumps solution as follows\\n“Educate our children in person or give every dollar spent on education directly to the students so they can get out of these failing government schools!” Trump said in a statement.”\\nThe Purpose of This Post\\nIs to relate an ancient wisdom proverb to Trump’s solution.\\nKing Solomon\\nGo from the presence of a foolish man, when thou perceivest not in him the lips of knowledge. (Proverb 14:7)\\nBiblehub Commentaries – Excerpts\\n7. Avoid the society of those who cannot teach you. (JFB)\\nAvoid the company and conversation of ungodly men, when they break forth into foolish or wicked discourses, lest thou either be infected by them, or seem to approve of them. (...</td>\n",
       "      <td>Wise of FoolishThe Chicago Tribune article titled: Chicago Public Schools cancels classes again Thursday as deadlock with union continues Trump, Biden press secretary each comment on impasse, reported Trumps solution as followsEducate our children in person or give every dollar spent on education directly to the students so they can get out of these failing government schools Trump said in a statement.The Purpose of This PostIs to relate an ancient wisdom proverb to Trumps solution.King SolomonGo from the presence of a foolish man, when thou perceivest not in him the lips of knowledge. Proverb 14:7Biblehub Commentaries  Excerpts7. Avoid the society of those who cannot teach you. JFBAvoid the company and conversation of ungodly men, when they break forth into foolish or wicked discourses, lest thou either be infected by them, or seem to approve of them. MPWhats My PointTrumps statemen...</td>\n",
       "      <td>3</td>\n",
       "    </tr>\n",
       "    <tr>\n",
       "      <th>4</th>\n",
       "      <td>2022-01-06</td>\n",
       "      <td>english</td>\n",
       "      <td>Family, friends, colleagues gathering today at South Side church to attend funeral services for Chicago firefighter Mashawn Plummer</td>\n",
       "      <td>The neighbors near Mashawn Plummer’s Portage Park firehouse knew him because he often sat outside, a friendly presence at the station. He showed up early for his shifts, ready to do a job he was thrilled to have, friends and family recalled.\\nChicago Firefighter/EMT Mashawn Plummer of Engine 94. (Chicago Fire Department) Hundreds of Chicago firefighters joined family and friends on Thursday to lay Plummer to rest after he died in December battling an apartment fire on the Northwest Side. They remembered Plummer, 30, as a gentle giant who followed his dream in becoming a Chicago firefighter and EMT. He was an unapologetic mama’s boy, his family members said. He brought his best friend’s young daughters M&amp;Ms when he visited them.\\nAdvertisement</td>\n",
       "      <td>The neighbors near Mashawn Plummers Portage Park firehouse knew him because he often sat outside, a friendly presence at the station. He showed up early for his shifts, ready to do a job he was thrilled to have, friends and family recalled.Chicago FirefighterEMT Mashawn Plummer of Engine 94. Chicago Fire Department Hundreds of Chicago firefighters joined family and friends on Thursday to lay Plummer to rest after he died in December battling an apartment fire on the Northwest Side. They remembered Plummer, 30, as a gentle giant who followed his dream in becoming a Chicago firefighter and EMT. He was an unapologetic mamas boy, his family members said. He brought his best friends young daughters MMs when he visited them.Advertisement</td>\n",
       "      <td>3</td>\n",
       "    </tr>\n",
       "  </tbody>\n",
       "</table>\n",
       "</div>"
      ],
      "text/plain": [
       "        date language  \\\n",
       "0 2022-01-06  english   \n",
       "1 2022-01-06  english   \n",
       "2 2022-01-06  english   \n",
       "3 2022-01-06  english   \n",
       "4 2022-01-06  english   \n",
       "\n",
       "                                                                                                                                 title  \\\n",
       "0                                                                            No deal, no school: Chicago cancels classes for a 2nd day   \n",
       "1                                               No deal, no school: Chicago cancels classes for a 2nd day | National | couriernews.com   \n",
       "2                                                                                               Watch ‘Chicago P.D.’ Preview Wednesday   \n",
       "3                                                                       Trump’s Solution for Chicago Public Schools? King Solomon Blog   \n",
       "4  Family, friends, colleagues gathering today at South Side church to attend funeral services for Chicago firefighter Mashawn Plummer   \n",
       "\n",
       "                                                                                                                                                                                                                                                                                                                                                                                                                                                                                                                                                                                                                                                                                                                                                                                                                                                                                                                                  text  \\\n",
       "0  CHICAGO (AP) — Chicago school leaders canceled classes Thursday for a second consecutive day after failing to reach agreement with the teachers union over COVID-19 safety protocols in the nation’s third-largest school district. The Chicago Teachers Union sought to revert to remote instruction during the latest surge of infections and while both sides hammer out a deal. But Chicago Public Schools leaders have said remote learning didn’t work and schools can safely remain open with protocols in place. The move to cancel classes and activities Thursday affects roughly 350,000 students and came after closed-door negotiations Wednesday failed to produce a deal. The issues include metrics for closing schools. “We have no choice but to cancel classes tomorrow,” Schools CEO Pedro Martinez said at a Wednesday evening news conference. Students returned to class Monday after a two-week winter b...   \n",
       "1  CHICAGO (AP) — Chicago school leaders canceled classes for a second straight day after failing to reach an agreement Wednesday with the teachers union over remote learning and other COVID-19 safety protocols in the nation's third-largest school district. The Chicago Teachers Union, which voted to revert to online instruction, told teachers to stay home Wednesday during the latest COVID-19 surge while both sides negotiate, prompting district officials to cancel classes two days after students returned from winter break. Chicago Public Schools, like most other districts, has rejected retuning to remote learning, saying it worsened racial inequities and was detrimental to academic performance, mental health and attendance. District officials insist schools can safely remain open with protocols in place. Both sides negotiated behind closed doors Wednesday afternoon but failed to produce ...   \n",
       "2                                                                                                                                                                                                                                                                                                                                                                                                                                                                                                                                                                                                                                     Chicago PD 9×11 “Lies” Season 9 Episode 11 Promo – Voight employs his new informant to help solve a tricky drug trafficking case. Atwater, who once again struggles to reconcile his personal and professional life, reaches a decision.\\n@jesseleesoffer @marinasqu @trspiridakos @NBCChicagoPD   \n",
       "3  Wise of Foolish?\\nThe Chicago Tribune article titled: Chicago Public Schools cancels classes again Thursday as deadlock with union continues; Trump, Biden press secretary each comment on impasse, reported Trumps solution as follows\\n“Educate our children in person or give every dollar spent on education directly to the students so they can get out of these failing government schools!” Trump said in a statement.”\\nThe Purpose of This Post\\nIs to relate an ancient wisdom proverb to Trump’s solution.\\nKing Solomon\\nGo from the presence of a foolish man, when thou perceivest not in him the lips of knowledge. (Proverb 14:7)\\nBiblehub Commentaries – Excerpts\\n7. Avoid the society of those who cannot teach you. (JFB)\\nAvoid the company and conversation of ungodly men, when they break forth into foolish or wicked discourses, lest thou either be infected by them, or seem to approve of them. (...   \n",
       "4                                                                                                                                                     The neighbors near Mashawn Plummer’s Portage Park firehouse knew him because he often sat outside, a friendly presence at the station. He showed up early for his shifts, ready to do a job he was thrilled to have, friends and family recalled.\\nChicago Firefighter/EMT Mashawn Plummer of Engine 94. (Chicago Fire Department) Hundreds of Chicago firefighters joined family and friends on Thursday to lay Plummer to rest after he died in December battling an apartment fire on the Northwest Side. They remembered Plummer, 30, as a gentle giant who followed his dream in becoming a Chicago firefighter and EMT. He was an unapologetic mama’s boy, his family members said. He brought his best friend’s young daughters M&Ms when he visited them.\\nAdvertisement   \n",
       "\n",
       "                                                                                                                                                                                                                                                                                                                                                                                                                                                                                                                                                                                                                                                                                                                                                                                                                                                                                                                            text_clean  \\\n",
       "0  CHICAGO AP  Chicago school leaders canceled classes Thursday for a second consecutive day after failing to reach agreement with the teachers union over COVID19 safety protocols in the nations thirdlargest school district. The Chicago Teachers Union sought to revert to remote instruction during the latest surge of infections and while both sides hammer out a deal. But Chicago Public Schools leaders have said remote learning didnt work and schools can safely remain open with protocols in place. The move to cancel classes and activities Thursday affects roughly 350,000 students and came after closeddoor negotiations Wednesday failed to produce a deal. The issues include metrics for closing schools. We have no choice but to cancel classes tomorrow, Schools CEO Pedro Martinez said at a Wednesday evening news conference. Students returned to class Monday after a twoweek winter break with C...   \n",
       "1  CHICAGO AP  Chicago school leaders canceled classes for a second straight day after failing to reach an agreement Wednesday with the teachers union over remote learning and other COVID19 safety protocols in the nations thirdlargest school district. The Chicago Teachers Union, which voted to revert to online instruction, told teachers to stay home Wednesday during the latest COVID19 surge while both sides negotiate, prompting district officials to cancel classes two days after students returned from winter break. Chicago Public Schools, like most other districts, has rejected retuning to remote learning, saying it worsened racial inequities and was detrimental to academic performance, mental health and attendance. District officials insist schools can safely remain open with protocols in place. Both sides negotiated behind closed doors Wednesday afternoon but failed to produce an agre...   \n",
       "2                                                                                                                                                                                                                                                                                                                                                                                                                                                                                                                                                                                                                                           Chicago PD 911 Lies Season 9 Episode 11 Promo  Voight employs his new informant to help solve a tricky drug trafficking case. Atwater, who once again struggles to reconcile his personal and professional life, reaches a decision.@jesseleesoffer @marinasqu @trspiridakos @NBCChicagoPD   \n",
       "3  Wise of FoolishThe Chicago Tribune article titled: Chicago Public Schools cancels classes again Thursday as deadlock with union continues Trump, Biden press secretary each comment on impasse, reported Trumps solution as followsEducate our children in person or give every dollar spent on education directly to the students so they can get out of these failing government schools Trump said in a statement.The Purpose of This PostIs to relate an ancient wisdom proverb to Trumps solution.King SolomonGo from the presence of a foolish man, when thou perceivest not in him the lips of knowledge. Proverb 14:7Biblehub Commentaries  Excerpts7. Avoid the society of those who cannot teach you. JFBAvoid the company and conversation of ungodly men, when they break forth into foolish or wicked discourses, lest thou either be infected by them, or seem to approve of them. MPWhats My PointTrumps statemen...   \n",
       "4                                                                                                                                                                The neighbors near Mashawn Plummers Portage Park firehouse knew him because he often sat outside, a friendly presence at the station. He showed up early for his shifts, ready to do a job he was thrilled to have, friends and family recalled.Chicago FirefighterEMT Mashawn Plummer of Engine 94. Chicago Fire Department Hundreds of Chicago firefighters joined family and friends on Thursday to lay Plummer to rest after he died in December battling an apartment fire on the Northwest Side. They remembered Plummer, 30, as a gentle giant who followed his dream in becoming a Chicago firefighter and EMT. He was an unapologetic mamas boy, his family members said. He brought his best friends young daughters MMs when he visited them.Advertisement   \n",
       "\n",
       "   topic  \n",
       "0      1  \n",
       "1      1  \n",
       "2      3  \n",
       "3      3  \n",
       "4      3  "
      ]
     },
     "execution_count": 68,
     "metadata": {},
     "output_type": "execute_result"
    }
   ],
   "source": [
    "df['topic'] = all_topics_df['topic_num'].values\n",
    "df.head()"
   ]
  },
  {
   "cell_type": "code",
   "execution_count": 111,
   "id": "2e234667",
   "metadata": {},
   "outputs": [],
   "source": [
    "df.to_csv(\"news_final_project_with_topics.csv\", index = False)"
   ]
  },
  {
   "cell_type": "code",
   "execution_count": null,
   "id": "ca832243",
   "metadata": {},
   "outputs": [],
   "source": []
  }
 ],
 "metadata": {
  "kernelspec": {
   "display_name": "Python 3 (ipykernel)",
   "language": "python",
   "name": "python3"
  },
  "language_info": {
   "codemirror_mode": {
    "name": "ipython",
    "version": 3
   },
   "file_extension": ".py",
   "mimetype": "text/x-python",
   "name": "python",
   "nbconvert_exporter": "python",
   "pygments_lexer": "ipython3",
   "version": "3.8.13"
  }
 },
 "nbformat": 4,
 "nbformat_minor": 5
}
